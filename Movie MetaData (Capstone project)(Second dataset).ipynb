{
 "cells": [
  {
   "cell_type": "markdown",
   "metadata": {},
   "source": [
    "# Second Dataset: MetaData from Kaggle\n",
    "https://www.kaggle.com/karrrimba/movie-metadatacsv \n",
    "\n"
   ]
  },
  {
   "cell_type": "markdown",
   "metadata": {},
   "source": [
    "![My Title](coverpage.png)"
   ]
  },
  {
   "cell_type": "markdown",
   "metadata": {},
   "source": [
    "### Importing necessary libraries "
   ]
  },
  {
   "cell_type": "code",
   "execution_count": 1,
   "metadata": {},
   "outputs": [],
   "source": [
    "%matplotlib inline\n",
    "import pandas as pd\n",
    "import numpy as np\n",
    "import matplotlib.pyplot as plt\n",
    "import seaborn as sns\n",
    "from scipy import stats\n",
    "import time\n",
    "from ast import literal_eval\n",
    "from sklearn.feature_extraction.text import TfidfVectorizer, CountVectorizer\n",
    "from sklearn.metrics.pairwise import linear_kernel, cosine_similarity\n",
    "from nltk.stem.snowball import SnowballStemmer\n",
    "from nltk.stem.wordnet import WordNetLemmatizer\n",
    "from nltk.corpus import wordnet\n",
    "from surprise import Reader, Dataset, SVD, evaluate, SlopeOne, NMF, SVDpp, KNNBaseline, CoClustering, accuracy\n",
    "from surprise.model_selection import cross_validate\n",
    "from __future__ import (absolute_import, division, print_function,unicode_literals)\n",
    "from surprise.model_selection import train_test_split\n",
    "from sklearn.model_selection import train_test_split\n",
    "from wordcloud import WordCloud, STOPWORDS, ImageColorGenerator\n",
    "from sklearn.preprocessing import StandardScaler\n",
    "from sklearn.ensemble import RandomForestRegressor\n",
    "from sklearn import neighbors\n",
    "from sklearn.metrics import mean_squared_error \n",
    "from math import sqrt\n",
    "from sklearn.svm import SVR\n",
    "from sklearn.metrics import mean_squared_error\n",
    "    "
   ]
  },
  {
   "cell_type": "code",
   "execution_count": 2,
   "metadata": {},
   "outputs": [
    {
     "name": "stderr",
     "output_type": "stream",
     "text": [
      "C:\\Python\\Anaconda3\\lib\\site-packages\\IPython\\core\\interactiveshell.py:2785: DtypeWarning: Columns (10) have mixed types. Specify dtype option on import or set low_memory=False.\n",
      "  interactivity=interactivity, compiler=compiler, result=result)\n"
     ]
    },
    {
     "data": {
      "text/html": [
       "<div>\n",
       "<style scoped>\n",
       "    .dataframe tbody tr th:only-of-type {\n",
       "        vertical-align: middle;\n",
       "    }\n",
       "\n",
       "    .dataframe tbody tr th {\n",
       "        vertical-align: top;\n",
       "    }\n",
       "\n",
       "    .dataframe thead th {\n",
       "        text-align: right;\n",
       "    }\n",
       "</style>\n",
       "<table border=\"1\" class=\"dataframe\">\n",
       "  <thead>\n",
       "    <tr style=\"text-align: right;\">\n",
       "      <th></th>\n",
       "      <th>adult</th>\n",
       "      <th>belongs_to_collection</th>\n",
       "      <th>budget</th>\n",
       "      <th>genres</th>\n",
       "      <th>homepage</th>\n",
       "      <th>id</th>\n",
       "      <th>imdb_id</th>\n",
       "      <th>original_language</th>\n",
       "      <th>original_title</th>\n",
       "      <th>overview</th>\n",
       "      <th>...</th>\n",
       "      <th>release_date</th>\n",
       "      <th>revenue</th>\n",
       "      <th>runtime</th>\n",
       "      <th>spoken_languages</th>\n",
       "      <th>status</th>\n",
       "      <th>tagline</th>\n",
       "      <th>title</th>\n",
       "      <th>video</th>\n",
       "      <th>vote_average</th>\n",
       "      <th>vote_count</th>\n",
       "    </tr>\n",
       "  </thead>\n",
       "  <tbody>\n",
       "    <tr>\n",
       "      <th>0</th>\n",
       "      <td>False</td>\n",
       "      <td>{'id': 10194, 'name': 'Toy Story Collection', ...</td>\n",
       "      <td>30000000</td>\n",
       "      <td>[{'id': 16, 'name': 'Animation'}, {'id': 35, '...</td>\n",
       "      <td>http://toystory.disney.com/toy-story</td>\n",
       "      <td>862</td>\n",
       "      <td>tt0114709</td>\n",
       "      <td>en</td>\n",
       "      <td>Toy Story</td>\n",
       "      <td>Led by Woody, Andy's toys live happily in his ...</td>\n",
       "      <td>...</td>\n",
       "      <td>1995-10-30</td>\n",
       "      <td>373554033.0</td>\n",
       "      <td>81.0</td>\n",
       "      <td>[{'iso_639_1': 'en', 'name': 'English'}]</td>\n",
       "      <td>Released</td>\n",
       "      <td>NaN</td>\n",
       "      <td>Toy Story</td>\n",
       "      <td>False</td>\n",
       "      <td>7.7</td>\n",
       "      <td>5415.0</td>\n",
       "    </tr>\n",
       "    <tr>\n",
       "      <th>1</th>\n",
       "      <td>False</td>\n",
       "      <td>NaN</td>\n",
       "      <td>65000000</td>\n",
       "      <td>[{'id': 12, 'name': 'Adventure'}, {'id': 14, '...</td>\n",
       "      <td>NaN</td>\n",
       "      <td>8844</td>\n",
       "      <td>tt0113497</td>\n",
       "      <td>en</td>\n",
       "      <td>Jumanji</td>\n",
       "      <td>When siblings Judy and Peter discover an encha...</td>\n",
       "      <td>...</td>\n",
       "      <td>1995-12-15</td>\n",
       "      <td>262797249.0</td>\n",
       "      <td>104.0</td>\n",
       "      <td>[{'iso_639_1': 'en', 'name': 'English'}, {'iso...</td>\n",
       "      <td>Released</td>\n",
       "      <td>Roll the dice and unleash the excitement!</td>\n",
       "      <td>Jumanji</td>\n",
       "      <td>False</td>\n",
       "      <td>6.9</td>\n",
       "      <td>2413.0</td>\n",
       "    </tr>\n",
       "    <tr>\n",
       "      <th>2</th>\n",
       "      <td>False</td>\n",
       "      <td>{'id': 119050, 'name': 'Grumpy Old Men Collect...</td>\n",
       "      <td>0</td>\n",
       "      <td>[{'id': 10749, 'name': 'Romance'}, {'id': 35, ...</td>\n",
       "      <td>NaN</td>\n",
       "      <td>15602</td>\n",
       "      <td>tt0113228</td>\n",
       "      <td>en</td>\n",
       "      <td>Grumpier Old Men</td>\n",
       "      <td>A family wedding reignites the ancient feud be...</td>\n",
       "      <td>...</td>\n",
       "      <td>1995-12-22</td>\n",
       "      <td>0.0</td>\n",
       "      <td>101.0</td>\n",
       "      <td>[{'iso_639_1': 'en', 'name': 'English'}]</td>\n",
       "      <td>Released</td>\n",
       "      <td>Still Yelling. Still Fighting. Still Ready for...</td>\n",
       "      <td>Grumpier Old Men</td>\n",
       "      <td>False</td>\n",
       "      <td>6.5</td>\n",
       "      <td>92.0</td>\n",
       "    </tr>\n",
       "    <tr>\n",
       "      <th>3</th>\n",
       "      <td>False</td>\n",
       "      <td>NaN</td>\n",
       "      <td>16000000</td>\n",
       "      <td>[{'id': 35, 'name': 'Comedy'}, {'id': 18, 'nam...</td>\n",
       "      <td>NaN</td>\n",
       "      <td>31357</td>\n",
       "      <td>tt0114885</td>\n",
       "      <td>en</td>\n",
       "      <td>Waiting to Exhale</td>\n",
       "      <td>Cheated on, mistreated and stepped on, the wom...</td>\n",
       "      <td>...</td>\n",
       "      <td>1995-12-22</td>\n",
       "      <td>81452156.0</td>\n",
       "      <td>127.0</td>\n",
       "      <td>[{'iso_639_1': 'en', 'name': 'English'}]</td>\n",
       "      <td>Released</td>\n",
       "      <td>Friends are the people who let you be yourself...</td>\n",
       "      <td>Waiting to Exhale</td>\n",
       "      <td>False</td>\n",
       "      <td>6.1</td>\n",
       "      <td>34.0</td>\n",
       "    </tr>\n",
       "    <tr>\n",
       "      <th>4</th>\n",
       "      <td>False</td>\n",
       "      <td>{'id': 96871, 'name': 'Father of the Bride Col...</td>\n",
       "      <td>0</td>\n",
       "      <td>[{'id': 35, 'name': 'Comedy'}]</td>\n",
       "      <td>NaN</td>\n",
       "      <td>11862</td>\n",
       "      <td>tt0113041</td>\n",
       "      <td>en</td>\n",
       "      <td>Father of the Bride Part II</td>\n",
       "      <td>Just when George Banks has recovered from his ...</td>\n",
       "      <td>...</td>\n",
       "      <td>1995-02-10</td>\n",
       "      <td>76578911.0</td>\n",
       "      <td>106.0</td>\n",
       "      <td>[{'iso_639_1': 'en', 'name': 'English'}]</td>\n",
       "      <td>Released</td>\n",
       "      <td>Just When His World Is Back To Normal... He's ...</td>\n",
       "      <td>Father of the Bride Part II</td>\n",
       "      <td>False</td>\n",
       "      <td>5.7</td>\n",
       "      <td>173.0</td>\n",
       "    </tr>\n",
       "  </tbody>\n",
       "</table>\n",
       "<p>5 rows × 24 columns</p>\n",
       "</div>"
      ],
      "text/plain": [
       "   adult                              belongs_to_collection    budget  \\\n",
       "0  False  {'id': 10194, 'name': 'Toy Story Collection', ...  30000000   \n",
       "1  False                                                NaN  65000000   \n",
       "2  False  {'id': 119050, 'name': 'Grumpy Old Men Collect...         0   \n",
       "3  False                                                NaN  16000000   \n",
       "4  False  {'id': 96871, 'name': 'Father of the Bride Col...         0   \n",
       "\n",
       "                                              genres  \\\n",
       "0  [{'id': 16, 'name': 'Animation'}, {'id': 35, '...   \n",
       "1  [{'id': 12, 'name': 'Adventure'}, {'id': 14, '...   \n",
       "2  [{'id': 10749, 'name': 'Romance'}, {'id': 35, ...   \n",
       "3  [{'id': 35, 'name': 'Comedy'}, {'id': 18, 'nam...   \n",
       "4                     [{'id': 35, 'name': 'Comedy'}]   \n",
       "\n",
       "                               homepage     id    imdb_id original_language  \\\n",
       "0  http://toystory.disney.com/toy-story    862  tt0114709                en   \n",
       "1                                   NaN   8844  tt0113497                en   \n",
       "2                                   NaN  15602  tt0113228                en   \n",
       "3                                   NaN  31357  tt0114885                en   \n",
       "4                                   NaN  11862  tt0113041                en   \n",
       "\n",
       "                original_title  \\\n",
       "0                    Toy Story   \n",
       "1                      Jumanji   \n",
       "2             Grumpier Old Men   \n",
       "3            Waiting to Exhale   \n",
       "4  Father of the Bride Part II   \n",
       "\n",
       "                                            overview    ...     release_date  \\\n",
       "0  Led by Woody, Andy's toys live happily in his ...    ...       1995-10-30   \n",
       "1  When siblings Judy and Peter discover an encha...    ...       1995-12-15   \n",
       "2  A family wedding reignites the ancient feud be...    ...       1995-12-22   \n",
       "3  Cheated on, mistreated and stepped on, the wom...    ...       1995-12-22   \n",
       "4  Just when George Banks has recovered from his ...    ...       1995-02-10   \n",
       "\n",
       "       revenue runtime                                   spoken_languages  \\\n",
       "0  373554033.0    81.0           [{'iso_639_1': 'en', 'name': 'English'}]   \n",
       "1  262797249.0   104.0  [{'iso_639_1': 'en', 'name': 'English'}, {'iso...   \n",
       "2          0.0   101.0           [{'iso_639_1': 'en', 'name': 'English'}]   \n",
       "3   81452156.0   127.0           [{'iso_639_1': 'en', 'name': 'English'}]   \n",
       "4   76578911.0   106.0           [{'iso_639_1': 'en', 'name': 'English'}]   \n",
       "\n",
       "     status                                            tagline  \\\n",
       "0  Released                                                NaN   \n",
       "1  Released          Roll the dice and unleash the excitement!   \n",
       "2  Released  Still Yelling. Still Fighting. Still Ready for...   \n",
       "3  Released  Friends are the people who let you be yourself...   \n",
       "4  Released  Just When His World Is Back To Normal... He's ...   \n",
       "\n",
       "                         title  video vote_average vote_count  \n",
       "0                    Toy Story  False          7.7     5415.0  \n",
       "1                      Jumanji  False          6.9     2413.0  \n",
       "2             Grumpier Old Men  False          6.5       92.0  \n",
       "3            Waiting to Exhale  False          6.1       34.0  \n",
       "4  Father of the Bride Part II  False          5.7      173.0  \n",
       "\n",
       "[5 rows x 24 columns]"
      ]
     },
     "execution_count": 2,
     "metadata": {},
     "output_type": "execute_result"
    }
   ],
   "source": [
    "df=pd.read_csv('movies_metadata.csv')\n",
    "df.head()"
   ]
  },
  {
   "cell_type": "code",
   "execution_count": 3,
   "metadata": {},
   "outputs": [
    {
     "name": "stdout",
     "output_type": "stream",
     "text": [
      "<class 'pandas.core.frame.DataFrame'>\n",
      "RangeIndex: 45466 entries, 0 to 45465\n",
      "Data columns (total 24 columns):\n",
      "adult                    45466 non-null object\n",
      "belongs_to_collection    4494 non-null object\n",
      "budget                   45466 non-null object\n",
      "genres                   45466 non-null object\n",
      "homepage                 7782 non-null object\n",
      "id                       45466 non-null object\n",
      "imdb_id                  45449 non-null object\n",
      "original_language        45455 non-null object\n",
      "original_title           45466 non-null object\n",
      "overview                 44512 non-null object\n",
      "popularity               45461 non-null object\n",
      "poster_path              45080 non-null object\n",
      "production_companies     45463 non-null object\n",
      "production_countries     45463 non-null object\n",
      "release_date             45379 non-null object\n",
      "revenue                  45460 non-null float64\n",
      "runtime                  45203 non-null float64\n",
      "spoken_languages         45460 non-null object\n",
      "status                   45379 non-null object\n",
      "tagline                  20412 non-null object\n",
      "title                    45460 non-null object\n",
      "video                    45460 non-null object\n",
      "vote_average             45460 non-null float64\n",
      "vote_count               45460 non-null float64\n",
      "dtypes: float64(4), object(20)\n",
      "memory usage: 8.3+ MB\n"
     ]
    }
   ],
   "source": [
    "df.info()"
   ]
  },
  {
   "cell_type": "code",
   "execution_count": 4,
   "metadata": {},
   "outputs": [
    {
     "name": "stdout",
     "output_type": "stream",
     "text": [
      "There are 45466 observations and 24 features in this dataset. \n",
      "\n"
     ]
    }
   ],
   "source": [
    "print(\"There are {} observations and {} features in this dataset. \\n\".format(df.shape[0],df.shape[1]))"
   ]
  },
  {
   "cell_type": "markdown",
   "metadata": {},
   "source": [
    "### Information about Features\n",
    "\n",
    "* **adult:** Indicates if the movie is X-Rated or Adult.\n",
    "* **belongs_to_collection:** A stringified dictionary that gives information on the movie series the particular film belongs to.\n",
    "* **budget:** The budget of the movie in dollars.\n",
    "* **genres:** A stringified list of dictionaries that list out all the genres associated with the movie.\n",
    "* **homepage:** The Official Homepage of the move.\n",
    "* **id:** The ID of the move.\n",
    "* **imdb_id:** The IMDB ID of the movie.\n",
    "* **original_language:** The language in which the movie was originally shot in.\n",
    "* **original_title:** The original title of the movie.\n",
    "* **overview:** A brief blurb of the movie.\n",
    "* **popularity:** The Popularity Score assigned by TMDB.\n",
    "* **poster_path:** The URL of the poster image.\n",
    "* **production_companies:** A stringified list of production companies involved with the making of the movie.\n",
    "* **production_countries:** A stringified list of countries where the movie was shot/produced in.\n",
    "* **release_date:** Theatrical Release Date of the movie.\n",
    "* **revenue:** The total revenue of the movie in dollars.\n",
    "* **runtime:** The runtime of the movie in minutes.\n",
    "* **spoken_languages:** A stringified list of spoken languages in the film.\n",
    "* **status:** The status of the movie (Released, To Be Released, Announced, etc.)\n",
    "* **tagline:** The tagline of the movie.\n",
    "* **title:** The Official Title of the movie.\n",
    "* **video:** Indicates if there is a video present of the movie with TMDB.\n",
    "* **vote_average:** The average rating of the movie.\n",
    "* **vote_count:** The number of votes by users, as counted by TMDB."
   ]
  },
  {
   "cell_type": "markdown",
   "metadata": {},
   "source": [
    "# Data Cleaning"
   ]
  },
  {
   "cell_type": "markdown",
   "metadata": {},
   "source": [
    " For cleaning the data, I started with:\n",
    "- dropping the duplicate rows. (13 duplicates)\n",
    "- Just kept the rows wih False and True in adult column.\n",
    "- I dropped the columns 'status','adult','homepage','imdb_id','original_title','poster_path','tagline','video','spoken_languages', since they are not providing important information for this project\n",
    "\n",
    "- The ‘budget’ and ‘popularity’ columns have been changed to numeric.\n",
    "\n",
    "- The ‘release_date’ has been changed to datetime format.\n",
    "\n",
    "- ‘year’ column is added for future use.\n",
    "\n",
    "- I used the literal_eval, apply and lambda to  change the format of ‘production_companies’, ‘genres’, and ‘production_countries’ columns."
   ]
  },
  {
   "cell_type": "code",
   "execution_count": 5,
   "metadata": {},
   "outputs": [
    {
     "data": {
      "text/html": [
       "<div>\n",
       "<style scoped>\n",
       "    .dataframe tbody tr th:only-of-type {\n",
       "        vertical-align: middle;\n",
       "    }\n",
       "\n",
       "    .dataframe tbody tr th {\n",
       "        vertical-align: top;\n",
       "    }\n",
       "\n",
       "    .dataframe thead th {\n",
       "        text-align: right;\n",
       "    }\n",
       "</style>\n",
       "<table border=\"1\" class=\"dataframe\">\n",
       "  <thead>\n",
       "    <tr style=\"text-align: right;\">\n",
       "      <th></th>\n",
       "      <th>belongs_to_collection</th>\n",
       "      <th>budget</th>\n",
       "      <th>genres</th>\n",
       "      <th>id</th>\n",
       "      <th>original_language</th>\n",
       "      <th>overview</th>\n",
       "      <th>popularity</th>\n",
       "      <th>production_companies</th>\n",
       "      <th>production_countries</th>\n",
       "      <th>release_date</th>\n",
       "      <th>revenue</th>\n",
       "      <th>runtime</th>\n",
       "      <th>title</th>\n",
       "      <th>vote_average</th>\n",
       "      <th>vote_count</th>\n",
       "      <th>year</th>\n",
       "      <th>return</th>\n",
       "      <th>movieId</th>\n",
       "    </tr>\n",
       "  </thead>\n",
       "  <tbody>\n",
       "    <tr>\n",
       "      <th>0</th>\n",
       "      <td>{'id': 10194, 'name': 'Toy Story Collection', ...</td>\n",
       "      <td>30000000</td>\n",
       "      <td>[Animation, Comedy, Family]</td>\n",
       "      <td>862</td>\n",
       "      <td>en</td>\n",
       "      <td>Led by Woody, Andy's toys live happily in his ...</td>\n",
       "      <td>21.946943</td>\n",
       "      <td>[Pixar Animation Studios]</td>\n",
       "      <td>[United States of America]</td>\n",
       "      <td>1995-10-30</td>\n",
       "      <td>373554033.0</td>\n",
       "      <td>81.0</td>\n",
       "      <td>Toy Story</td>\n",
       "      <td>7.7</td>\n",
       "      <td>5415.0</td>\n",
       "      <td>1995</td>\n",
       "      <td>12.451801</td>\n",
       "      <td>39018</td>\n",
       "    </tr>\n",
       "    <tr>\n",
       "      <th>1</th>\n",
       "      <td>NaN</td>\n",
       "      <td>65000000</td>\n",
       "      <td>[Adventure, Fantasy, Family]</td>\n",
       "      <td>8844</td>\n",
       "      <td>en</td>\n",
       "      <td>When siblings Judy and Peter discover an encha...</td>\n",
       "      <td>17.015539</td>\n",
       "      <td>[TriStar Pictures, Teitler Film, Interscope Co...</td>\n",
       "      <td>[United States of America]</td>\n",
       "      <td>1995-12-15</td>\n",
       "      <td>262797249.0</td>\n",
       "      <td>104.0</td>\n",
       "      <td>Jumanji</td>\n",
       "      <td>6.9</td>\n",
       "      <td>2413.0</td>\n",
       "      <td>1995</td>\n",
       "      <td>4.043035</td>\n",
       "      <td>16806</td>\n",
       "    </tr>\n",
       "    <tr>\n",
       "      <th>2</th>\n",
       "      <td>{'id': 119050, 'name': 'Grumpy Old Men Collect...</td>\n",
       "      <td>0</td>\n",
       "      <td>[Romance, Comedy]</td>\n",
       "      <td>15602</td>\n",
       "      <td>en</td>\n",
       "      <td>A family wedding reignites the ancient feud be...</td>\n",
       "      <td>11.712900</td>\n",
       "      <td>[Warner Bros., Lancaster Gate]</td>\n",
       "      <td>[United States of America]</td>\n",
       "      <td>1995-12-22</td>\n",
       "      <td>0.0</td>\n",
       "      <td>101.0</td>\n",
       "      <td>Grumpier Old Men</td>\n",
       "      <td>6.5</td>\n",
       "      <td>92.0</td>\n",
       "      <td>1995</td>\n",
       "      <td>NaN</td>\n",
       "      <td>13371</td>\n",
       "    </tr>\n",
       "    <tr>\n",
       "      <th>3</th>\n",
       "      <td>NaN</td>\n",
       "      <td>16000000</td>\n",
       "      <td>[Comedy, Drama, Romance]</td>\n",
       "      <td>31357</td>\n",
       "      <td>en</td>\n",
       "      <td>Cheated on, mistreated and stepped on, the wom...</td>\n",
       "      <td>3.859495</td>\n",
       "      <td>[Twentieth Century Fox Film Corporation]</td>\n",
       "      <td>[United States of America]</td>\n",
       "      <td>1995-12-22</td>\n",
       "      <td>81452156.0</td>\n",
       "      <td>127.0</td>\n",
       "      <td>Waiting to Exhale</td>\n",
       "      <td>6.1</td>\n",
       "      <td>34.0</td>\n",
       "      <td>1995</td>\n",
       "      <td>5.090760</td>\n",
       "      <td>40428</td>\n",
       "    </tr>\n",
       "    <tr>\n",
       "      <th>4</th>\n",
       "      <td>{'id': 96871, 'name': 'Father of the Bride Col...</td>\n",
       "      <td>0</td>\n",
       "      <td>[Comedy]</td>\n",
       "      <td>11862</td>\n",
       "      <td>en</td>\n",
       "      <td>Just when George Banks has recovered from his ...</td>\n",
       "      <td>8.387519</td>\n",
       "      <td>[Sandollar Productions, Touchstone Pictures]</td>\n",
       "      <td>[United States of America]</td>\n",
       "      <td>1995-02-10</td>\n",
       "      <td>76578911.0</td>\n",
       "      <td>106.0</td>\n",
       "      <td>Father of the Bride Part II</td>\n",
       "      <td>5.7</td>\n",
       "      <td>173.0</td>\n",
       "      <td>1995</td>\n",
       "      <td>inf</td>\n",
       "      <td>11199</td>\n",
       "    </tr>\n",
       "  </tbody>\n",
       "</table>\n",
       "</div>"
      ],
      "text/plain": [
       "                               belongs_to_collection    budget  \\\n",
       "0  {'id': 10194, 'name': 'Toy Story Collection', ...  30000000   \n",
       "1                                                NaN  65000000   \n",
       "2  {'id': 119050, 'name': 'Grumpy Old Men Collect...         0   \n",
       "3                                                NaN  16000000   \n",
       "4  {'id': 96871, 'name': 'Father of the Bride Col...         0   \n",
       "\n",
       "                         genres     id original_language  \\\n",
       "0   [Animation, Comedy, Family]    862                en   \n",
       "1  [Adventure, Fantasy, Family]   8844                en   \n",
       "2             [Romance, Comedy]  15602                en   \n",
       "3      [Comedy, Drama, Romance]  31357                en   \n",
       "4                      [Comedy]  11862                en   \n",
       "\n",
       "                                            overview  popularity  \\\n",
       "0  Led by Woody, Andy's toys live happily in his ...   21.946943   \n",
       "1  When siblings Judy and Peter discover an encha...   17.015539   \n",
       "2  A family wedding reignites the ancient feud be...   11.712900   \n",
       "3  Cheated on, mistreated and stepped on, the wom...    3.859495   \n",
       "4  Just when George Banks has recovered from his ...    8.387519   \n",
       "\n",
       "                                production_companies  \\\n",
       "0                          [Pixar Animation Studios]   \n",
       "1  [TriStar Pictures, Teitler Film, Interscope Co...   \n",
       "2                     [Warner Bros., Lancaster Gate]   \n",
       "3           [Twentieth Century Fox Film Corporation]   \n",
       "4       [Sandollar Productions, Touchstone Pictures]   \n",
       "\n",
       "         production_countries release_date      revenue  runtime  \\\n",
       "0  [United States of America]   1995-10-30  373554033.0     81.0   \n",
       "1  [United States of America]   1995-12-15  262797249.0    104.0   \n",
       "2  [United States of America]   1995-12-22          0.0    101.0   \n",
       "3  [United States of America]   1995-12-22   81452156.0    127.0   \n",
       "4  [United States of America]   1995-02-10   76578911.0    106.0   \n",
       "\n",
       "                         title  vote_average  vote_count  year     return  \\\n",
       "0                    Toy Story           7.7      5415.0  1995  12.451801   \n",
       "1                      Jumanji           6.9      2413.0  1995   4.043035   \n",
       "2             Grumpier Old Men           6.5        92.0  1995        NaN   \n",
       "3            Waiting to Exhale           6.1        34.0  1995   5.090760   \n",
       "4  Father of the Bride Part II           5.7       173.0  1995        inf   \n",
       "\n",
       "   movieId  \n",
       "0    39018  \n",
       "1    16806  \n",
       "2    13371  \n",
       "3    40428  \n",
       "4    11199  "
      ]
     },
     "execution_count": 5,
     "metadata": {},
     "output_type": "execute_result"
    }
   ],
   "source": [
    "df.drop_duplicates(inplace=True)\n",
    "\n",
    "df=df[(df.adult=='False')|(df.adult=='True')]\n",
    "\n",
    "df.drop(['status','adult','homepage','imdb_id',\n",
    "          'original_title','poster_path','tagline','video','spoken_languages'],axis=1,inplace=True)#drop unnecessary columns\n",
    "\n",
    "df['budget']=pd.to_numeric(df['budget'])\n",
    "df['popularity']=pd.to_numeric(df['popularity'])\n",
    "df=df[df.popularity.notnull()]\n",
    "\n",
    "df['release_date']=pd.to_datetime(df['release_date'])\n",
    "#df['year']=df['release_date'].dt.year\n",
    "df['year'] = pd.to_datetime(df['release_date'], errors='coerce').apply(lambda x: str(x).split('-')[0] if x != np.nan else np.nan)\n",
    "df['production_companies']=df.production_companies.fillna('[]').apply(literal_eval).apply(lambda x: [i['name'] for i in x]if isinstance(x, list) else [])\n",
    "df['genres']=df.genres.fillna('[]').apply(literal_eval).apply(lambda x: [i['name'] for i in x]if isinstance(x, list) else [])\n",
    "df['production_countries']=df.production_countries.fillna('[]').apply(literal_eval).apply(lambda x: [i['name'] for i in x]if isinstance(x, list) else [])\n",
    "#df['belongs_to_collection']=df.belongs_to_collection.fillna('[]').apply(literal_eval).apply(lambda x: [i['name'] for i in x]if isinstance(x, list) else [])\n",
    "df['return'] = df['revenue'] / df['budget']\n",
    "_, numbers = np.unique(df.title, return_inverse=True)\n",
    "df['movieId']=numbers\n",
    "df.vote_average.dropna(inplace=True)\n",
    "\n",
    "df.head()"
   ]
  },
  {
   "cell_type": "code",
   "execution_count": 6,
   "metadata": {},
   "outputs": [
    {
     "name": "stdout",
     "output_type": "stream",
     "text": [
      "<class 'pandas.core.frame.DataFrame'>\n",
      "Int64Index: 45447 entries, 0 to 45465\n",
      "Data columns (total 18 columns):\n",
      "belongs_to_collection    4490 non-null object\n",
      "budget                   45447 non-null int64\n",
      "genres                   45447 non-null object\n",
      "id                       45447 non-null object\n",
      "original_language        45436 non-null object\n",
      "overview                 44493 non-null object\n",
      "popularity               45447 non-null float64\n",
      "production_companies     45447 non-null object\n",
      "production_countries     45447 non-null object\n",
      "release_date             45363 non-null datetime64[ns]\n",
      "revenue                  45447 non-null float64\n",
      "runtime                  45190 non-null float64\n",
      "title                    45447 non-null object\n",
      "vote_average             45447 non-null float64\n",
      "vote_count               45447 non-null float64\n",
      "year                     45447 non-null object\n",
      "return                   10914 non-null float64\n",
      "movieId                  45447 non-null int64\n",
      "dtypes: datetime64[ns](1), float64(6), int64(2), object(9)\n",
      "memory usage: 6.6+ MB\n"
     ]
    }
   ],
   "source": [
    "df.info()\n"
   ]
  },
  {
   "cell_type": "markdown",
   "metadata": {},
   "source": [
    "**Drop duplicated rows**"
   ]
  },
  {
   "cell_type": "code",
   "execution_count": 7,
   "metadata": {},
   "outputs": [
    {
     "name": "stdout",
     "output_type": "stream",
     "text": [
      "There are 45447 observations and 18 features in this dataset. \n",
      "\n",
      "Unique IDs:  45430\n",
      "Unique movies:  42277\n"
     ]
    },
    {
     "data": {
      "text/plain": [
       "(45430, 18)"
      ]
     },
     "execution_count": 7,
     "metadata": {},
     "output_type": "execute_result"
    }
   ],
   "source": [
    "print(\"There are {} observations and {} features in this dataset. \\n\".format(df.shape[0],df.shape[1]))\n",
    "print('Unique IDs: ', df.id.nunique())\n",
    "print('Unique movies: ',df.title.nunique())\n",
    "df=df.drop(df[df[['title','year','release_date']].duplicated(keep='first')].sort_values(by='title').index,axis=0)\n",
    "df.shape "
   ]
  },
  {
   "cell_type": "markdown",
   "metadata": {},
   "source": [
    "## Exploratory Data Analysis (Story telling)"
   ]
  },
  {
   "cell_type": "markdown",
   "metadata": {},
   "source": [
    "**Total number of movies of each genre**"
   ]
  },
  {
   "cell_type": "code",
   "execution_count": 8,
   "metadata": {},
   "outputs": [
    {
     "data": {
      "image/png": "[encoded data removed]",
      "text/plain": [
       "<Figure size 432x288 with 1 Axes>"
      ]
     },
     "metadata": {},
     "output_type": "display_data"
    }
   ],
   "source": [
    "Genres=df.genres\n",
    "Genres=Genres.apply(pd.Series).stack(level=-1,dropna=True)\n",
    "Genres.value_counts().head(10).plot(kind='bar')\n",
    "plt.xlabel('Genres')\n",
    "plt.ylabel('Number of movies')\n",
    "plt.savefig('1.png',dpi=300,bbox_inches='tight')\n",
    "plt.show()"
   ]
  },
  {
   "cell_type": "markdown",
   "metadata": {},
   "source": [
    "### Production countries\n"
   ]
  },
  {
   "cell_type": "code",
   "execution_count": 9,
   "metadata": {},
   "outputs": [
    {
     "name": "stdout",
     "output_type": "stream",
     "text": [
      "USA total number of production is: 21140\n"
     ]
    }
   ],
   "source": [
    "mask = df.production_countries.apply(lambda x: 'United States of America' in x)\n",
    "print('USA total number of production is:',sum(mask))"
   ]
  },
  {
   "cell_type": "markdown",
   "metadata": {},
   "source": [
    "_Some movies have more than one production country. I am using stack function to get the right count value production of each country_"
   ]
  },
  {
   "cell_type": "code",
   "execution_count": 10,
   "metadata": {},
   "outputs": [
    {
     "data": {
      "text/plain": [
       "United States of America    21140\n",
       "United Kingdom               4091\n",
       "France                       3932\n",
       "Germany                      2249\n",
       "Italy                        2166\n",
       "Canada                       1765\n",
       "Japan                        1645\n",
       "Spain                         964\n",
       "Russia                        912\n",
       "India                         827\n",
       "dtype: int64"
      ]
     },
     "execution_count": 10,
     "metadata": {},
     "output_type": "execute_result"
    }
   ],
   "source": [
    "Countries=df.production_countries\n",
    "Countries=Countries.apply(pd.Series).stack(level=-1,dropna=True)\n",
    "Countries.value_counts().head(10)"
   ]
  },
  {
   "cell_type": "markdown",
   "metadata": {},
   "source": [
    "To get a better bar plot, I have ignored USA from the list, since USA has produced 5 times more than United Kingdom.\n",
    "\n",
    "After USA, __UK, France and Germany__ have the highest number of production."
   ]
  },
  {
   "cell_type": "code",
   "execution_count": 11,
   "metadata": {},
   "outputs": [
    {
     "data": {
      "image/png": "[encoded data removed]",
      "text/plain": [
       "<Figure size 432x288 with 1 Axes>"
      ]
     },
     "metadata": {},
     "output_type": "display_data"
    }
   ],
   "source": [
    "Countries.value_counts()[1:11].plot(kind='bar') #Ignore USA\n",
    "plt.xlabel('Producation Country')\n",
    "plt.ylabel('Number of Movies')\n",
    "plt.savefig('2.png',dpi=300,bbox_inches='tight')\n",
    "plt.show()"
   ]
  },
  {
   "cell_type": "markdown",
   "metadata": {},
   "source": [
    "#### Average revenue of US, UK, and France"
   ]
  },
  {
   "cell_type": "code",
   "execution_count": 12,
   "metadata": {},
   "outputs": [
    {
     "name": "stdout",
     "output_type": "stream",
     "text": [
      "USA avg revenue is: 22534331.03935667\n",
      "UK avg revenue is:  17949958.819848448\n",
      "France avg revenue is:  5156112.683621567\n"
     ]
    }
   ],
   "source": [
    "Countries=df[['production_countries','revenue']]\n",
    "USA=df.loc[df.production_countries.apply(lambda x: 'United States of America' in x),'revenue']\n",
    "UK=df.loc[df.production_countries.apply(lambda x: 'United Kingdom' in x),'revenue',]\n",
    "France=df.loc[df.production_countries.apply(lambda x: 'France' in x),'revenue']\n",
    "\n",
    "print('USA avg revenue is:' ,USA.mean())\n",
    "print('UK avg revenue is: ',UK.mean())\n",
    "print('France avg revenue is: ',France.mean())"
   ]
  },
  {
   "cell_type": "markdown",
   "metadata": {},
   "source": [
    "### Production companies\n",
    "\n",
    "Since some movies have more than one producation company, I used stack function to get the right value counts of each company.\n",
    "\n",
    "__Warner Bros., Metro-Goldwyn-Mayer (MGM)__, and __Paramount Pictures__ have the highest number of production."
   ]
  },
  {
   "cell_type": "code",
   "execution_count": 13,
   "metadata": {},
   "outputs": [
    {
     "data": {
      "text/plain": [
       "Warner Bros.                              1250\n",
       "Metro-Goldwyn-Mayer (MGM)                 1074\n",
       "Paramount Pictures                        1001\n",
       "Twentieth Century Fox Film Corporation     836\n",
       "Universal Pictures                         830\n",
       "Columbia Pictures Corporation              448\n",
       "Canal+                                     436\n",
       "Columbia Pictures                          431\n",
       "RKO Radio Pictures                         290\n",
       "United Artists                             279\n",
       "dtype: int64"
      ]
     },
     "execution_count": 13,
     "metadata": {},
     "output_type": "execute_result"
    }
   ],
   "source": [
    "Companies=df['production_companies']\n",
    "Companies=Companies.apply(pd.Series).stack(level=-1,dropna=True)\n",
    "Companies.value_counts().head(10)"
   ]
  },
  {
   "cell_type": "code",
   "execution_count": 14,
   "metadata": {},
   "outputs": [
    {
     "data": {
      "image/png": "[encoded data removed]",
      "text/plain": [
       "<Figure size 432x288 with 1 Axes>"
      ]
     },
     "metadata": {},
     "output_type": "display_data"
    }
   ],
   "source": [
    "Companies.value_counts().head(10).plot(kind='bar',color='salmon')\n",
    "plt.xlabel('Production Company')\n",
    "plt.ylabel('Number of movies')\n",
    "plt.savefig('3.png',dpi=300,bbox_inches='tight')\n",
    "plt.show()"
   ]
  },
  {
   "cell_type": "markdown",
   "metadata": {},
   "source": [
    "### Highest Earning Production Companies\n",
    "Lets find out which production companies have earned the most money from the movie making business.\n",
    "__Warner Bros., Universal Pircure__, and __Paramount Pictures__ have the highest total revenue respectively.\n"
   ]
  },
  {
   "cell_type": "code",
   "execution_count": 15,
   "metadata": {},
   "outputs": [
    {
     "name": "stderr",
     "output_type": "stream",
     "text": [
      "C:\\Python\\Anaconda3\\lib\\site-packages\\ipykernel_launcher.py:11: FutureWarning: Sorting because non-concatenation axis is not aligned. A future version\n",
      "of pandas will change to not sort by default.\n",
      "\n",
      "To accept the future behavior, pass 'sort=True'.\n",
      "\n",
      "To retain the current behavior and silence the warning, pass sort=False\n",
      "\n",
      "  # This is added back by InteractiveShellApp.init_path()\n"
     ]
    },
    {
     "data": {
      "text/html": [
       "<div>\n",
       "<style scoped>\n",
       "    .dataframe tbody tr th:only-of-type {\n",
       "        vertical-align: middle;\n",
       "    }\n",
       "\n",
       "    .dataframe tbody tr th {\n",
       "        vertical-align: top;\n",
       "    }\n",
       "\n",
       "    .dataframe thead th {\n",
       "        text-align: right;\n",
       "    }\n",
       "</style>\n",
       "<table border=\"1\" class=\"dataframe\">\n",
       "  <thead>\n",
       "    <tr style=\"text-align: right;\">\n",
       "      <th></th>\n",
       "      <th>Total</th>\n",
       "      <th>Average</th>\n",
       "      <th>Number</th>\n",
       "    </tr>\n",
       "  </thead>\n",
       "  <tbody>\n",
       "    <tr>\n",
       "      <th>Warner Bros.</th>\n",
       "      <td>6.352519e+10</td>\n",
       "      <td>5.082015e+07</td>\n",
       "      <td>1250</td>\n",
       "    </tr>\n",
       "    <tr>\n",
       "      <th>Universal Pictures</th>\n",
       "      <td>5.525919e+10</td>\n",
       "      <td>6.657734e+07</td>\n",
       "      <td>830</td>\n",
       "    </tr>\n",
       "    <tr>\n",
       "      <th>Paramount Pictures</th>\n",
       "      <td>4.876940e+10</td>\n",
       "      <td>4.872068e+07</td>\n",
       "      <td>1001</td>\n",
       "    </tr>\n",
       "    <tr>\n",
       "      <th>Twentieth Century Fox Film Corporation</th>\n",
       "      <td>4.768775e+10</td>\n",
       "      <td>5.704276e+07</td>\n",
       "      <td>836</td>\n",
       "    </tr>\n",
       "    <tr>\n",
       "      <th>Walt Disney Pictures</th>\n",
       "      <td>4.083727e+10</td>\n",
       "      <td>1.552748e+08</td>\n",
       "      <td>263</td>\n",
       "    </tr>\n",
       "    <tr>\n",
       "      <th>Columbia Pictures</th>\n",
       "      <td>3.227974e+10</td>\n",
       "      <td>7.489498e+07</td>\n",
       "      <td>431</td>\n",
       "    </tr>\n",
       "    <tr>\n",
       "      <th>New Line Cinema</th>\n",
       "      <td>2.217339e+10</td>\n",
       "      <td>8.004834e+07</td>\n",
       "      <td>277</td>\n",
       "    </tr>\n",
       "    <tr>\n",
       "      <th>Amblin Entertainment</th>\n",
       "      <td>1.734372e+10</td>\n",
       "      <td>2.282068e+08</td>\n",
       "      <td>76</td>\n",
       "    </tr>\n",
       "    <tr>\n",
       "      <th>DreamWorks SKG</th>\n",
       "      <td>1.547575e+10</td>\n",
       "      <td>1.629027e+08</td>\n",
       "      <td>95</td>\n",
       "    </tr>\n",
       "    <tr>\n",
       "      <th>Dune Entertainment</th>\n",
       "      <td>1.500379e+10</td>\n",
       "      <td>2.308275e+08</td>\n",
       "      <td>65</td>\n",
       "    </tr>\n",
       "  </tbody>\n",
       "</table>\n",
       "</div>"
      ],
      "text/plain": [
       "                                               Total       Average  Number\n",
       "Warner Bros.                            6.352519e+10  5.082015e+07    1250\n",
       "Universal Pictures                      5.525919e+10  6.657734e+07     830\n",
       "Paramount Pictures                      4.876940e+10  4.872068e+07    1001\n",
       "Twentieth Century Fox Film Corporation  4.768775e+10  5.704276e+07     836\n",
       "Walt Disney Pictures                    4.083727e+10  1.552748e+08     263\n",
       "Columbia Pictures                       3.227974e+10  7.489498e+07     431\n",
       "New Line Cinema                         2.217339e+10  8.004834e+07     277\n",
       "Amblin Entertainment                    1.734372e+10  2.282068e+08      76\n",
       "DreamWorks SKG                          1.547575e+10  1.629027e+08      95\n",
       "Dune Entertainment                      1.500379e+10  2.308275e+08      65"
      ]
     },
     "execution_count": 15,
     "metadata": {},
     "output_type": "execute_result"
    }
   ],
   "source": [
    "s = df.apply(lambda x: pd.Series(x['production_companies']),axis=1).stack().reset_index(level=1, drop=True)\n",
    "s.name = 'companies'\n",
    "com_df = df.drop('production_companies', axis=1).join(s)\n",
    "com_sum = pd.DataFrame(com_df.groupby('companies')['revenue'].sum().sort_values(ascending=False))\n",
    "com_sum.columns = ['Total']\n",
    "com_mean = pd.DataFrame(com_df.groupby('companies')['revenue'].mean().sort_values(ascending=False))\n",
    "com_mean.columns = ['Average']\n",
    "com_count = pd.DataFrame(com_df.groupby('companies')['revenue'].count().sort_values(ascending=False))\n",
    "com_count.columns = ['Number']\n",
    "\n",
    "com_pivot = pd.concat((com_sum, com_mean, com_count), axis=1)\n",
    "com_pivot.sort_values('Total', ascending=False).head(10)"
   ]
  },
  {
   "cell_type": "markdown",
   "metadata": {},
   "source": [
    " From the companies with higher prodcution number of 500, **Universal Pictures**, **Twentieth Century Fox Film Corporation**, and __Warner Bros__. have the highest average revenue respectively."
   ]
  },
  {
   "cell_type": "code",
   "execution_count": 16,
   "metadata": {},
   "outputs": [
    {
     "data": {
      "text/html": [
       "<div>\n",
       "<style scoped>\n",
       "    .dataframe tbody tr th:only-of-type {\n",
       "        vertical-align: middle;\n",
       "    }\n",
       "\n",
       "    .dataframe tbody tr th {\n",
       "        vertical-align: top;\n",
       "    }\n",
       "\n",
       "    .dataframe thead th {\n",
       "        text-align: right;\n",
       "    }\n",
       "</style>\n",
       "<table border=\"1\" class=\"dataframe\">\n",
       "  <thead>\n",
       "    <tr style=\"text-align: right;\">\n",
       "      <th></th>\n",
       "      <th>Total</th>\n",
       "      <th>Average</th>\n",
       "      <th>Number</th>\n",
       "    </tr>\n",
       "  </thead>\n",
       "  <tbody>\n",
       "    <tr>\n",
       "      <th>Universal Pictures</th>\n",
       "      <td>5.525919e+10</td>\n",
       "      <td>6.657734e+07</td>\n",
       "      <td>830</td>\n",
       "    </tr>\n",
       "    <tr>\n",
       "      <th>Twentieth Century Fox Film Corporation</th>\n",
       "      <td>4.768775e+10</td>\n",
       "      <td>5.704276e+07</td>\n",
       "      <td>836</td>\n",
       "    </tr>\n",
       "    <tr>\n",
       "      <th>Warner Bros.</th>\n",
       "      <td>6.352519e+10</td>\n",
       "      <td>5.082015e+07</td>\n",
       "      <td>1250</td>\n",
       "    </tr>\n",
       "    <tr>\n",
       "      <th>Paramount Pictures</th>\n",
       "      <td>4.876940e+10</td>\n",
       "      <td>4.872068e+07</td>\n",
       "      <td>1001</td>\n",
       "    </tr>\n",
       "    <tr>\n",
       "      <th>Metro-Goldwyn-Mayer (MGM)</th>\n",
       "      <td>1.237679e+10</td>\n",
       "      <td>1.152401e+07</td>\n",
       "      <td>1074</td>\n",
       "    </tr>\n",
       "  </tbody>\n",
       "</table>\n",
       "</div>"
      ],
      "text/plain": [
       "                                               Total       Average  Number\n",
       "Universal Pictures                      5.525919e+10  6.657734e+07     830\n",
       "Twentieth Century Fox Film Corporation  4.768775e+10  5.704276e+07     836\n",
       "Warner Bros.                            6.352519e+10  5.082015e+07    1250\n",
       "Paramount Pictures                      4.876940e+10  4.872068e+07    1001\n",
       "Metro-Goldwyn-Mayer (MGM)               1.237679e+10  1.152401e+07    1074"
      ]
     },
     "execution_count": 16,
     "metadata": {},
     "output_type": "execute_result"
    }
   ],
   "source": [
    "com_pivot[com_pivot.Number>=500].sort_values('Average', ascending=False).head(10)"
   ]
  },
  {
   "cell_type": "markdown",
   "metadata": {},
   "source": [
    "*Just check how many movies have higher, lower and equal budget than revenus.*"
   ]
  },
  {
   "cell_type": "code",
   "execution_count": 17,
   "metadata": {},
   "outputs": [
    {
     "name": "stdout",
     "output_type": "stream",
     "text": [
      "Movies with higher revenue than budget: 5775\n",
      "Movies with lower revenue than budget: 5108\n",
      "movies with equal revenue than budget: 34547\n"
     ]
    }
   ],
   "source": [
    "print('Movies with higher revenue than budget:',sum((df['revenue']-df['budget'])>0))  \n",
    "print('Movies with lower revenue than budget:',sum((df['revenue']-df['budget'])<0)) \n",
    "print('movies with equal revenue than budget:',sum((df['revenue']-df['budget'])==0))"
   ]
  },
  {
   "cell_type": "markdown",
   "metadata": {},
   "source": [
    "### Revenue\n",
    "\n",
    "* **Avator, Star wars: The force awakens**, and **Titanic** are the movies\n",
    "with the max revenue. "
   ]
  },
  {
   "cell_type": "code",
   "execution_count": 18,
   "metadata": {},
   "outputs": [
    {
     "data": {
      "text/plain": [
       "14551                                          Avatar\n",
       "26555                    Star Wars: The Force Awakens\n",
       "1639                                          Titanic\n",
       "17818                                    The Avengers\n",
       "25084                                  Jurassic World\n",
       "28830                                       Furious 7\n",
       "26558                         Avengers: Age of Ultron\n",
       "17437    Harry Potter and the Deathly Hallows: Part 2\n",
       "22110                                          Frozen\n",
       "42222                            Beauty and the Beast\n",
       "Name: title, dtype: object"
      ]
     },
     "execution_count": 18,
     "metadata": {},
     "output_type": "execute_result"
    }
   ],
   "source": [
    "df.sort_values(by='revenue',ascending=False).head(10)['title']"
   ]
  },
  {
   "cell_type": "markdown",
   "metadata": {},
   "source": [
    "Some movies with vote_averge of 10 is presented bellow. 190 movies have the vote_average of 10."
   ]
  },
  {
   "cell_type": "code",
   "execution_count": 19,
   "metadata": {},
   "outputs": [
    {
     "data": {
      "text/html": [
       "<div>\n",
       "<style scoped>\n",
       "    .dataframe tbody tr th:only-of-type {\n",
       "        vertical-align: middle;\n",
       "    }\n",
       "\n",
       "    .dataframe tbody tr th {\n",
       "        vertical-align: top;\n",
       "    }\n",
       "\n",
       "    .dataframe thead th {\n",
       "        text-align: right;\n",
       "    }\n",
       "</style>\n",
       "<table border=\"1\" class=\"dataframe\">\n",
       "  <thead>\n",
       "    <tr style=\"text-align: right;\">\n",
       "      <th></th>\n",
       "      <th>title</th>\n",
       "      <th>vote_count</th>\n",
       "      <th>vote_average</th>\n",
       "    </tr>\n",
       "  </thead>\n",
       "  <tbody>\n",
       "    <tr>\n",
       "      <th>32440</th>\n",
       "      <td>Butterfly</td>\n",
       "      <td>3.0</td>\n",
       "      <td>10.0</td>\n",
       "    </tr>\n",
       "    <tr>\n",
       "      <th>36633</th>\n",
       "      <td>Avetik</td>\n",
       "      <td>3.0</td>\n",
       "      <td>10.0</td>\n",
       "    </tr>\n",
       "    <tr>\n",
       "      <th>42614</th>\n",
       "      <td>Frankie Boyle: Hurt Like You've Never Been Loved</td>\n",
       "      <td>3.0</td>\n",
       "      <td>10.0</td>\n",
       "    </tr>\n",
       "    <tr>\n",
       "      <th>34296</th>\n",
       "      <td>Mera Naam Joker</td>\n",
       "      <td>3.0</td>\n",
       "      <td>10.0</td>\n",
       "    </tr>\n",
       "    <tr>\n",
       "      <th>35200</th>\n",
       "      <td>Maidan</td>\n",
       "      <td>3.0</td>\n",
       "      <td>10.0</td>\n",
       "    </tr>\n",
       "    <tr>\n",
       "      <th>26170</th>\n",
       "      <td>Katt Williams: Priceless: Afterlife</td>\n",
       "      <td>2.0</td>\n",
       "      <td>10.0</td>\n",
       "    </tr>\n",
       "    <tr>\n",
       "      <th>27295</th>\n",
       "      <td>The Little Hut</td>\n",
       "      <td>2.0</td>\n",
       "      <td>10.0</td>\n",
       "    </tr>\n",
       "    <tr>\n",
       "      <th>27814</th>\n",
       "      <td>Kolka Cool</td>\n",
       "      <td>2.0</td>\n",
       "      <td>10.0</td>\n",
       "    </tr>\n",
       "    <tr>\n",
       "      <th>30143</th>\n",
       "      <td>At Ellen’s Age</td>\n",
       "      <td>2.0</td>\n",
       "      <td>10.0</td>\n",
       "    </tr>\n",
       "    <tr>\n",
       "      <th>32873</th>\n",
       "      <td>Redemption</td>\n",
       "      <td>2.0</td>\n",
       "      <td>10.0</td>\n",
       "    </tr>\n",
       "  </tbody>\n",
       "</table>\n",
       "</div>"
      ],
      "text/plain": [
       "                                                  title  vote_count  \\\n",
       "32440                                         Butterfly         3.0   \n",
       "36633                                            Avetik         3.0   \n",
       "42614  Frankie Boyle: Hurt Like You've Never Been Loved         3.0   \n",
       "34296                                   Mera Naam Joker         3.0   \n",
       "35200                                            Maidan         3.0   \n",
       "26170               Katt Williams: Priceless: Afterlife         2.0   \n",
       "27295                                    The Little Hut         2.0   \n",
       "27814                                        Kolka Cool         2.0   \n",
       "30143                                    At Ellen’s Age         2.0   \n",
       "32873                                        Redemption         2.0   \n",
       "\n",
       "       vote_average  \n",
       "32440          10.0  \n",
       "36633          10.0  \n",
       "42614          10.0  \n",
       "34296          10.0  \n",
       "35200          10.0  \n",
       "26170          10.0  \n",
       "27295          10.0  \n",
       "27814          10.0  \n",
       "30143          10.0  \n",
       "32873          10.0  "
      ]
     },
     "execution_count": 19,
     "metadata": {},
     "output_type": "execute_result"
    }
   ],
   "source": [
    "df[df.vote_average==10].sort_values(by='vote_count',ascending=False)[['title','vote_count','vote_average']].head(10)"
   ]
  },
  {
   "cell_type": "markdown",
   "metadata": {},
   "source": [
    "The movies with highest revenue do not have the highest popularity and vote_average. Though the total number of votes for each movie is important."
   ]
  },
  {
   "cell_type": "code",
   "execution_count": 20,
   "metadata": {},
   "outputs": [
    {
     "data": {
      "text/html": [
       "<div>\n",
       "<style scoped>\n",
       "    .dataframe tbody tr th:only-of-type {\n",
       "        vertical-align: middle;\n",
       "    }\n",
       "\n",
       "    .dataframe tbody tr th {\n",
       "        vertical-align: top;\n",
       "    }\n",
       "\n",
       "    .dataframe thead th {\n",
       "        text-align: right;\n",
       "    }\n",
       "</style>\n",
       "<table border=\"1\" class=\"dataframe\">\n",
       "  <thead>\n",
       "    <tr style=\"text-align: right;\">\n",
       "      <th></th>\n",
       "      <th>title</th>\n",
       "      <th>popularity</th>\n",
       "      <th>vote_average</th>\n",
       "      <th>revenue</th>\n",
       "    </tr>\n",
       "  </thead>\n",
       "  <tbody>\n",
       "    <tr>\n",
       "      <th>14551</th>\n",
       "      <td>Avatar</td>\n",
       "      <td>185.070892</td>\n",
       "      <td>7.2</td>\n",
       "      <td>2.787965e+09</td>\n",
       "    </tr>\n",
       "    <tr>\n",
       "      <th>26555</th>\n",
       "      <td>Star Wars: The Force Awakens</td>\n",
       "      <td>31.626013</td>\n",
       "      <td>7.5</td>\n",
       "      <td>2.068224e+09</td>\n",
       "    </tr>\n",
       "    <tr>\n",
       "      <th>1639</th>\n",
       "      <td>Titanic</td>\n",
       "      <td>26.889070</td>\n",
       "      <td>7.5</td>\n",
       "      <td>1.845034e+09</td>\n",
       "    </tr>\n",
       "    <tr>\n",
       "      <th>17818</th>\n",
       "      <td>The Avengers</td>\n",
       "      <td>89.887648</td>\n",
       "      <td>7.4</td>\n",
       "      <td>1.519558e+09</td>\n",
       "    </tr>\n",
       "    <tr>\n",
       "      <th>25084</th>\n",
       "      <td>Jurassic World</td>\n",
       "      <td>32.790475</td>\n",
       "      <td>6.5</td>\n",
       "      <td>1.513529e+09</td>\n",
       "    </tr>\n",
       "    <tr>\n",
       "      <th>28830</th>\n",
       "      <td>Furious 7</td>\n",
       "      <td>27.275687</td>\n",
       "      <td>7.3</td>\n",
       "      <td>1.506249e+09</td>\n",
       "    </tr>\n",
       "    <tr>\n",
       "      <th>26558</th>\n",
       "      <td>Avengers: Age of Ultron</td>\n",
       "      <td>37.379420</td>\n",
       "      <td>7.3</td>\n",
       "      <td>1.405404e+09</td>\n",
       "    </tr>\n",
       "    <tr>\n",
       "      <th>17437</th>\n",
       "      <td>Harry Potter and the Deathly Hallows: Part 2</td>\n",
       "      <td>24.990737</td>\n",
       "      <td>7.9</td>\n",
       "      <td>1.342000e+09</td>\n",
       "    </tr>\n",
       "    <tr>\n",
       "      <th>22110</th>\n",
       "      <td>Frozen</td>\n",
       "      <td>24.248243</td>\n",
       "      <td>7.3</td>\n",
       "      <td>1.274219e+09</td>\n",
       "    </tr>\n",
       "    <tr>\n",
       "      <th>42222</th>\n",
       "      <td>Beauty and the Beast</td>\n",
       "      <td>287.253654</td>\n",
       "      <td>6.8</td>\n",
       "      <td>1.262886e+09</td>\n",
       "    </tr>\n",
       "  </tbody>\n",
       "</table>\n",
       "</div>"
      ],
      "text/plain": [
       "                                              title  popularity  vote_average  \\\n",
       "14551                                        Avatar  185.070892           7.2   \n",
       "26555                  Star Wars: The Force Awakens   31.626013           7.5   \n",
       "1639                                        Titanic   26.889070           7.5   \n",
       "17818                                  The Avengers   89.887648           7.4   \n",
       "25084                                Jurassic World   32.790475           6.5   \n",
       "28830                                     Furious 7   27.275687           7.3   \n",
       "26558                       Avengers: Age of Ultron   37.379420           7.3   \n",
       "17437  Harry Potter and the Deathly Hallows: Part 2   24.990737           7.9   \n",
       "22110                                        Frozen   24.248243           7.3   \n",
       "42222                          Beauty and the Beast  287.253654           6.8   \n",
       "\n",
       "            revenue  \n",
       "14551  2.787965e+09  \n",
       "26555  2.068224e+09  \n",
       "1639   1.845034e+09  \n",
       "17818  1.519558e+09  \n",
       "25084  1.513529e+09  \n",
       "28830  1.506249e+09  \n",
       "26558  1.405404e+09  \n",
       "17437  1.342000e+09  \n",
       "22110  1.274219e+09  \n",
       "42222  1.262886e+09  "
      ]
     },
     "execution_count": 20,
     "metadata": {},
     "output_type": "execute_result"
    }
   ],
   "source": [
    "df.sort_values(by='revenue',ascending=False).head(10)[['title','popularity','vote_average','revenue']]#10 highest revenue"
   ]
  },
  {
   "cell_type": "markdown",
   "metadata": {},
   "source": [
    "The most voted movies are **Inception, The Dark Knight**, and **Avatar**."
   ]
  },
  {
   "cell_type": "code",
   "execution_count": 21,
   "metadata": {},
   "outputs": [
    {
     "data": {
      "text/html": [
       "<div>\n",
       "<style scoped>\n",
       "    .dataframe tbody tr th:only-of-type {\n",
       "        vertical-align: middle;\n",
       "    }\n",
       "\n",
       "    .dataframe tbody tr th {\n",
       "        vertical-align: top;\n",
       "    }\n",
       "\n",
       "    .dataframe thead th {\n",
       "        text-align: right;\n",
       "    }\n",
       "</style>\n",
       "<table border=\"1\" class=\"dataframe\">\n",
       "  <thead>\n",
       "    <tr style=\"text-align: right;\">\n",
       "      <th></th>\n",
       "      <th>title</th>\n",
       "      <th>vote_count</th>\n",
       "      <th>year</th>\n",
       "    </tr>\n",
       "  </thead>\n",
       "  <tbody>\n",
       "    <tr>\n",
       "      <th>15480</th>\n",
       "      <td>Inception</td>\n",
       "      <td>14075.0</td>\n",
       "      <td>2010</td>\n",
       "    </tr>\n",
       "    <tr>\n",
       "      <th>12481</th>\n",
       "      <td>The Dark Knight</td>\n",
       "      <td>12269.0</td>\n",
       "      <td>2008</td>\n",
       "    </tr>\n",
       "    <tr>\n",
       "      <th>14551</th>\n",
       "      <td>Avatar</td>\n",
       "      <td>12114.0</td>\n",
       "      <td>2009</td>\n",
       "    </tr>\n",
       "    <tr>\n",
       "      <th>17818</th>\n",
       "      <td>The Avengers</td>\n",
       "      <td>12000.0</td>\n",
       "      <td>2012</td>\n",
       "    </tr>\n",
       "    <tr>\n",
       "      <th>26564</th>\n",
       "      <td>Deadpool</td>\n",
       "      <td>11444.0</td>\n",
       "      <td>2016</td>\n",
       "    </tr>\n",
       "    <tr>\n",
       "      <th>22879</th>\n",
       "      <td>Interstellar</td>\n",
       "      <td>11187.0</td>\n",
       "      <td>2014</td>\n",
       "    </tr>\n",
       "    <tr>\n",
       "      <th>20051</th>\n",
       "      <td>Django Unchained</td>\n",
       "      <td>10297.0</td>\n",
       "      <td>2012</td>\n",
       "    </tr>\n",
       "    <tr>\n",
       "      <th>23753</th>\n",
       "      <td>Guardians of the Galaxy</td>\n",
       "      <td>10014.0</td>\n",
       "      <td>2014</td>\n",
       "    </tr>\n",
       "    <tr>\n",
       "      <th>2843</th>\n",
       "      <td>Fight Club</td>\n",
       "      <td>9678.0</td>\n",
       "      <td>1999</td>\n",
       "    </tr>\n",
       "    <tr>\n",
       "      <th>18244</th>\n",
       "      <td>The Hunger Games</td>\n",
       "      <td>9634.0</td>\n",
       "      <td>2012</td>\n",
       "    </tr>\n",
       "  </tbody>\n",
       "</table>\n",
       "</div>"
      ],
      "text/plain": [
       "                         title  vote_count  year\n",
       "15480                Inception     14075.0  2010\n",
       "12481          The Dark Knight     12269.0  2008\n",
       "14551                   Avatar     12114.0  2009\n",
       "17818             The Avengers     12000.0  2012\n",
       "26564                 Deadpool     11444.0  2016\n",
       "22879             Interstellar     11187.0  2014\n",
       "20051         Django Unchained     10297.0  2012\n",
       "23753  Guardians of the Galaxy     10014.0  2014\n",
       "2843                Fight Club      9678.0  1999\n",
       "18244         The Hunger Games      9634.0  2012"
      ]
     },
     "execution_count": 21,
     "metadata": {},
     "output_type": "execute_result"
    }
   ],
   "source": [
    "df[['title', 'vote_count', 'year']].sort_values('vote_count', ascending=False).head(10)"
   ]
  },
  {
   "cell_type": "markdown",
   "metadata": {},
   "source": [
    "### Most popular\n",
    "The first three most popular movies are **Minions, Wonder Woman, and Beauty and the beast.**\n",
    "\n",
    "\n",
    "\n",
    "The Popularity score seems to be an extremely skewed quentity with a mean of only 2.9 but maximum values reaching as high as 547, which is almost 1800% greater than the mean. However, as can be seen from the distribution plot, almost all movies have a popularity score less than 10 (the 75th percentile is at 3.678902)."
   ]
  },
  {
   "cell_type": "code",
   "execution_count": 22,
   "metadata": {},
   "outputs": [
    {
     "data": {
      "text/html": [
       "<div>\n",
       "<style scoped>\n",
       "    .dataframe tbody tr th:only-of-type {\n",
       "        vertical-align: middle;\n",
       "    }\n",
       "\n",
       "    .dataframe tbody tr th {\n",
       "        vertical-align: top;\n",
       "    }\n",
       "\n",
       "    .dataframe thead th {\n",
       "        text-align: right;\n",
       "    }\n",
       "</style>\n",
       "<table border=\"1\" class=\"dataframe\">\n",
       "  <thead>\n",
       "    <tr style=\"text-align: right;\">\n",
       "      <th></th>\n",
       "      <th>title</th>\n",
       "      <th>popularity</th>\n",
       "      <th>vote_average</th>\n",
       "      <th>revenue</th>\n",
       "    </tr>\n",
       "  </thead>\n",
       "  <tbody>\n",
       "    <tr>\n",
       "      <th>30700</th>\n",
       "      <td>Minions</td>\n",
       "      <td>547.488298</td>\n",
       "      <td>6.4</td>\n",
       "      <td>1.156731e+09</td>\n",
       "    </tr>\n",
       "    <tr>\n",
       "      <th>33356</th>\n",
       "      <td>Wonder Woman</td>\n",
       "      <td>294.337037</td>\n",
       "      <td>7.2</td>\n",
       "      <td>8.205804e+08</td>\n",
       "    </tr>\n",
       "    <tr>\n",
       "      <th>42222</th>\n",
       "      <td>Beauty and the Beast</td>\n",
       "      <td>287.253654</td>\n",
       "      <td>6.8</td>\n",
       "      <td>1.262886e+09</td>\n",
       "    </tr>\n",
       "    <tr>\n",
       "      <th>43644</th>\n",
       "      <td>Baby Driver</td>\n",
       "      <td>228.032744</td>\n",
       "      <td>7.2</td>\n",
       "      <td>2.245113e+08</td>\n",
       "    </tr>\n",
       "    <tr>\n",
       "      <th>24455</th>\n",
       "      <td>Big Hero 6</td>\n",
       "      <td>213.849907</td>\n",
       "      <td>7.8</td>\n",
       "      <td>6.521054e+08</td>\n",
       "    </tr>\n",
       "    <tr>\n",
       "      <th>26564</th>\n",
       "      <td>Deadpool</td>\n",
       "      <td>187.860492</td>\n",
       "      <td>7.4</td>\n",
       "      <td>7.831130e+08</td>\n",
       "    </tr>\n",
       "    <tr>\n",
       "      <th>26566</th>\n",
       "      <td>Guardians of the Galaxy Vol. 2</td>\n",
       "      <td>185.330992</td>\n",
       "      <td>7.6</td>\n",
       "      <td>8.634161e+08</td>\n",
       "    </tr>\n",
       "    <tr>\n",
       "      <th>14551</th>\n",
       "      <td>Avatar</td>\n",
       "      <td>185.070892</td>\n",
       "      <td>7.2</td>\n",
       "      <td>2.787965e+09</td>\n",
       "    </tr>\n",
       "    <tr>\n",
       "      <th>24351</th>\n",
       "      <td>John Wick</td>\n",
       "      <td>183.870374</td>\n",
       "      <td>7.0</td>\n",
       "      <td>8.876166e+07</td>\n",
       "    </tr>\n",
       "    <tr>\n",
       "      <th>23675</th>\n",
       "      <td>Gone Girl</td>\n",
       "      <td>154.801009</td>\n",
       "      <td>7.9</td>\n",
       "      <td>3.693304e+08</td>\n",
       "    </tr>\n",
       "  </tbody>\n",
       "</table>\n",
       "</div>"
      ],
      "text/plain": [
       "                                title  popularity  vote_average       revenue\n",
       "30700                         Minions  547.488298           6.4  1.156731e+09\n",
       "33356                    Wonder Woman  294.337037           7.2  8.205804e+08\n",
       "42222            Beauty and the Beast  287.253654           6.8  1.262886e+09\n",
       "43644                     Baby Driver  228.032744           7.2  2.245113e+08\n",
       "24455                      Big Hero 6  213.849907           7.8  6.521054e+08\n",
       "26564                        Deadpool  187.860492           7.4  7.831130e+08\n",
       "26566  Guardians of the Galaxy Vol. 2  185.330992           7.6  8.634161e+08\n",
       "14551                          Avatar  185.070892           7.2  2.787965e+09\n",
       "24351                       John Wick  183.870374           7.0  8.876166e+07\n",
       "23675                       Gone Girl  154.801009           7.9  3.693304e+08"
      ]
     },
     "execution_count": 22,
     "metadata": {},
     "output_type": "execute_result"
    }
   ],
   "source": [
    "df.sort_values(by='popularity',ascending=False).head(10)[['title','popularity','vote_average','revenue']] #10 most popular"
   ]
  },
  {
   "cell_type": "markdown",
   "metadata": {},
   "source": [
    "*Movies with more than 2000 votes and highesr vote average are listed bellow.*\n",
    "\n",
    "__The Shawshank Redemption, Godfather__, and __Life is beautiful__ are the first three in this list."
   ]
  },
  {
   "cell_type": "code",
   "execution_count": 23,
   "metadata": {},
   "outputs": [
    {
     "data": {
      "text/html": [
       "<div>\n",
       "<style scoped>\n",
       "    .dataframe tbody tr th:only-of-type {\n",
       "        vertical-align: middle;\n",
       "    }\n",
       "\n",
       "    .dataframe tbody tr th {\n",
       "        vertical-align: top;\n",
       "    }\n",
       "\n",
       "    .dataframe thead th {\n",
       "        text-align: right;\n",
       "    }\n",
       "</style>\n",
       "<table border=\"1\" class=\"dataframe\">\n",
       "  <thead>\n",
       "    <tr style=\"text-align: right;\">\n",
       "      <th></th>\n",
       "      <th>title</th>\n",
       "      <th>vote_average</th>\n",
       "      <th>vote_count</th>\n",
       "      <th>year</th>\n",
       "    </tr>\n",
       "  </thead>\n",
       "  <tbody>\n",
       "    <tr>\n",
       "      <th>314</th>\n",
       "      <td>The Shawshank Redemption</td>\n",
       "      <td>8.5</td>\n",
       "      <td>8358.0</td>\n",
       "      <td>1994</td>\n",
       "    </tr>\n",
       "    <tr>\n",
       "      <th>834</th>\n",
       "      <td>The Godfather</td>\n",
       "      <td>8.5</td>\n",
       "      <td>6024.0</td>\n",
       "      <td>1972</td>\n",
       "    </tr>\n",
       "    <tr>\n",
       "      <th>2211</th>\n",
       "      <td>Life Is Beautiful</td>\n",
       "      <td>8.3</td>\n",
       "      <td>3643.0</td>\n",
       "      <td>1997</td>\n",
       "    </tr>\n",
       "    <tr>\n",
       "      <th>5481</th>\n",
       "      <td>Spirited Away</td>\n",
       "      <td>8.3</td>\n",
       "      <td>3968.0</td>\n",
       "      <td>2001</td>\n",
       "    </tr>\n",
       "    <tr>\n",
       "      <th>1152</th>\n",
       "      <td>One Flew Over the Cuckoo's Nest</td>\n",
       "      <td>8.3</td>\n",
       "      <td>3001.0</td>\n",
       "      <td>1975</td>\n",
       "    </tr>\n",
       "    <tr>\n",
       "      <th>1176</th>\n",
       "      <td>Psycho</td>\n",
       "      <td>8.3</td>\n",
       "      <td>2405.0</td>\n",
       "      <td>1960</td>\n",
       "    </tr>\n",
       "    <tr>\n",
       "      <th>2843</th>\n",
       "      <td>Fight Club</td>\n",
       "      <td>8.3</td>\n",
       "      <td>9678.0</td>\n",
       "      <td>1999</td>\n",
       "    </tr>\n",
       "    <tr>\n",
       "      <th>1178</th>\n",
       "      <td>The Godfather: Part II</td>\n",
       "      <td>8.3</td>\n",
       "      <td>3418.0</td>\n",
       "      <td>1974</td>\n",
       "    </tr>\n",
       "    <tr>\n",
       "      <th>12481</th>\n",
       "      <td>The Dark Knight</td>\n",
       "      <td>8.3</td>\n",
       "      <td>12269.0</td>\n",
       "      <td>2008</td>\n",
       "    </tr>\n",
       "    <tr>\n",
       "      <th>292</th>\n",
       "      <td>Pulp Fiction</td>\n",
       "      <td>8.3</td>\n",
       "      <td>8670.0</td>\n",
       "      <td>1994</td>\n",
       "    </tr>\n",
       "  </tbody>\n",
       "</table>\n",
       "</div>"
      ],
      "text/plain": [
       "                                 title  vote_average  vote_count  year\n",
       "314           The Shawshank Redemption           8.5      8358.0  1994\n",
       "834                      The Godfather           8.5      6024.0  1972\n",
       "2211                 Life Is Beautiful           8.3      3643.0  1997\n",
       "5481                     Spirited Away           8.3      3968.0  2001\n",
       "1152   One Flew Over the Cuckoo's Nest           8.3      3001.0  1975\n",
       "1176                            Psycho           8.3      2405.0  1960\n",
       "2843                        Fight Club           8.3      9678.0  1999\n",
       "1178            The Godfather: Part II           8.3      3418.0  1974\n",
       "12481                  The Dark Knight           8.3     12269.0  2008\n",
       "292                       Pulp Fiction           8.3      8670.0  1994"
      ]
     },
     "execution_count": 23,
     "metadata": {},
     "output_type": "execute_result"
    }
   ],
   "source": [
    "df[df['vote_count'] > 2000][['title', 'vote_average', 'vote_count' ,'year']].sort_values('vote_average', ascending=False).head(10)"
   ]
  },
  {
   "cell_type": "markdown",
   "metadata": {},
   "source": [
    "### Release time\n",
    "Plotting the total number of movies produced each year."
   ]
  },
  {
   "cell_type": "code",
   "execution_count": 24,
   "metadata": {},
   "outputs": [
    {
     "data": {
      "image/png": "[encoded data removed]",
      "text/plain": [
       "<Figure size 864x360 with 1 Axes>"
      ]
     },
     "metadata": {},
     "output_type": "display_data"
    }
   ],
   "source": [
    "plt.figure(figsize=(12,5))\n",
    "df['release_date']=pd.to_datetime(df['release_date'])\n",
    "df['release_date'].dt.year.value_counts().sort_index().plot()\n",
    "plt.xlabel('Years')\n",
    "plt.ylabel('Number of movies')\n",
    "plt.title('Total number of movies produced each year.')\n",
    "plt.savefig('3.png',dpi=300,bbox_inches='tight')\n",
    "plt.show()\n"
   ]
  },
  {
   "cell_type": "markdown",
   "metadata": {},
   "source": [
    "Total number of movies release each month. (Most movies release in **January**)"
   ]
  },
  {
   "cell_type": "code",
   "execution_count": 25,
   "metadata": {},
   "outputs": [
    {
     "data": {
      "image/png": "[encoded data removed]",
      "text/plain": [
       "<Figure size 864x360 with 1 Axes>"
      ]
     },
     "metadata": {},
     "output_type": "display_data"
    }
   ],
   "source": [
    "plt.figure(figsize=(12,5))\n",
    "df['release_date'].dt.month.value_counts().sort_index().plot.bar( color='y')\n",
    "plt.xlabel('Month')\n",
    "plt.xticks(np.arange(12),('January', 'February', 'March', 'April', 'May', 'June', 'July',\n",
    "              'August', 'September', 'October', 'November', 'December'))\n",
    "plt.ylabel('Total number of release')\n",
    "plt.savefig('3.png',dpi=300,bbox_inches='tight')\n",
    "plt.show()"
   ]
  },
  {
   "cell_type": "code",
   "execution_count": 26,
   "metadata": {},
   "outputs": [
    {
     "data": {
      "image/png": "[encoded data removed]",
      "text/plain": [
       "<Figure size 864x360 with 1 Axes>"
      ]
     },
     "metadata": {},
     "output_type": "display_data"
    }
   ],
   "source": [
    "plt.figure(figsize=(12,5))\n",
    "df['release_date'].dt.weekday.value_counts().sort_index().plot.bar( color='y')\n",
    "plt.xlabel('Month')\n",
    "plt.xticks(np.arange(7),('Monday','Tuesday','Wednesday','Thursday','Friday','Saturday','Sunday'))\n",
    "plt.ylabel('Total number of release')\n",
    "plt.savefig('3.png',dpi=300,bbox_inches='tight')\n",
    "\n",
    "plt.show()"
   ]
  },
  {
   "cell_type": "markdown",
   "metadata": {},
   "source": [
    "Most movies release on first day of each month."
   ]
  },
  {
   "cell_type": "code",
   "execution_count": 27,
   "metadata": {},
   "outputs": [
    {
     "data": {
      "image/png": "[encoded data removed]",
      "text/plain": [
       "<Figure size 864x360 with 1 Axes>"
      ]
     },
     "metadata": {},
     "output_type": "display_data"
    }
   ],
   "source": [
    "plt.figure(figsize=(12,5))\n",
    "df['release_date'].dt.day.value_counts().sort_index().plot.bar(color='khaki')\n",
    "plt.xlabel('Day')\n",
    "plt.ylabel('Number of movies')\n",
    "plt.savefig('3.png',dpi=300,bbox_inches='tight')\n",
    "plt.show()"
   ]
  },
  {
   "cell_type": "markdown",
   "metadata": {},
   "source": [
    "**French, Italian, and Japanese** are the second, third and fourth languages."
   ]
  },
  {
   "cell_type": "code",
   "execution_count": 28,
   "metadata": {},
   "outputs": [
    {
     "name": "stdout",
     "output_type": "stream",
     "text": [
      "Total number of movies in English are: 45430\n"
     ]
    },
    {
     "data": {
      "image/png": "[encoded data removed]",
      "text/plain": [
       "<Figure size 864x360 with 1 Axes>"
      ]
     },
     "metadata": {},
     "output_type": "display_data"
    }
   ],
   "source": [
    "print('Total number of movies in English are:',len(df['original_language']=='en'))\n",
    "\n",
    "plt.figure(figsize=(12,5))\n",
    "df[df['original_language']!='en']['original_language'].value_counts().head(10).plot(kind='bar')\n",
    "plt.xlabel('Language')\n",
    "plt.ylabel('Number of movies')\n",
    "plt.title('Number of movies of each Language')\n",
    "plt.savefig('4.png',dpi=300,bbox_inches='tight')\n",
    "plt.show() #except En"
   ]
  },
  {
   "cell_type": "markdown",
   "metadata": {},
   "source": [
    "### Correlation\n",
    "- Budget and revenue are 77% correlated.\n",
    "- Budget and vote_count are around 67% correlated.\n",
    "- popularity and revenue are 50% correlated.\n",
    "- popularity and vote_count are 56% correlated.\n",
    "- Revenue and vote_count are 81% correlated."
   ]
  },
  {
   "cell_type": "code",
   "execution_count": 29,
   "metadata": {},
   "outputs": [
    {
     "data": {
      "image/png": "[encoded data removed]",
      "text/plain": [
       "<Figure size 432x288 with 2 Axes>"
      ]
     },
     "metadata": {},
     "output_type": "display_data"
    },
    {
     "data": {
      "text/html": [
       "<div>\n",
       "<style scoped>\n",
       "    .dataframe tbody tr th:only-of-type {\n",
       "        vertical-align: middle;\n",
       "    }\n",
       "\n",
       "    .dataframe tbody tr th {\n",
       "        vertical-align: top;\n",
       "    }\n",
       "\n",
       "    .dataframe thead th {\n",
       "        text-align: right;\n",
       "    }\n",
       "</style>\n",
       "<table border=\"1\" class=\"dataframe\">\n",
       "  <thead>\n",
       "    <tr style=\"text-align: right;\">\n",
       "      <th></th>\n",
       "      <th>budget</th>\n",
       "      <th>popularity</th>\n",
       "      <th>revenue</th>\n",
       "      <th>runtime</th>\n",
       "      <th>vote_average</th>\n",
       "      <th>vote_count</th>\n",
       "      <th>return</th>\n",
       "      <th>movieId</th>\n",
       "    </tr>\n",
       "  </thead>\n",
       "  <tbody>\n",
       "    <tr>\n",
       "      <th>budget</th>\n",
       "      <td>1.000000</td>\n",
       "      <td>0.449682</td>\n",
       "      <td>0.768825</td>\n",
       "      <td>0.134700</td>\n",
       "      <td>0.073496</td>\n",
       "      <td>0.676699</td>\n",
       "      <td>-0.012572</td>\n",
       "      <td>0.010009</td>\n",
       "    </tr>\n",
       "    <tr>\n",
       "      <th>popularity</th>\n",
       "      <td>0.449682</td>\n",
       "      <td>1.000000</td>\n",
       "      <td>0.506221</td>\n",
       "      <td>0.129912</td>\n",
       "      <td>0.154357</td>\n",
       "      <td>0.559995</td>\n",
       "      <td>-0.003946</td>\n",
       "      <td>-0.009621</td>\n",
       "    </tr>\n",
       "    <tr>\n",
       "      <th>revenue</th>\n",
       "      <td>0.768825</td>\n",
       "      <td>0.506221</td>\n",
       "      <td>1.000000</td>\n",
       "      <td>0.103948</td>\n",
       "      <td>0.083883</td>\n",
       "      <td>0.812031</td>\n",
       "      <td>-0.005515</td>\n",
       "      <td>0.007910</td>\n",
       "    </tr>\n",
       "    <tr>\n",
       "      <th>runtime</th>\n",
       "      <td>0.134700</td>\n",
       "      <td>0.129912</td>\n",
       "      <td>0.103948</td>\n",
       "      <td>1.000000</td>\n",
       "      <td>0.158192</td>\n",
       "      <td>0.113555</td>\n",
       "      <td>-0.005189</td>\n",
       "      <td>0.012001</td>\n",
       "    </tr>\n",
       "    <tr>\n",
       "      <th>vote_average</th>\n",
       "      <td>0.073496</td>\n",
       "      <td>0.154357</td>\n",
       "      <td>0.083883</td>\n",
       "      <td>0.158192</td>\n",
       "      <td>1.000000</td>\n",
       "      <td>0.123611</td>\n",
       "      <td>0.013161</td>\n",
       "      <td>0.015532</td>\n",
       "    </tr>\n",
       "    <tr>\n",
       "      <th>vote_count</th>\n",
       "      <td>0.676699</td>\n",
       "      <td>0.559995</td>\n",
       "      <td>0.812031</td>\n",
       "      <td>0.113555</td>\n",
       "      <td>0.123611</td>\n",
       "      <td>1.000000</td>\n",
       "      <td>-0.003041</td>\n",
       "      <td>0.005362</td>\n",
       "    </tr>\n",
       "    <tr>\n",
       "      <th>return</th>\n",
       "      <td>-0.012572</td>\n",
       "      <td>-0.003946</td>\n",
       "      <td>-0.005515</td>\n",
       "      <td>-0.005189</td>\n",
       "      <td>0.013161</td>\n",
       "      <td>-0.003041</td>\n",
       "      <td>1.000000</td>\n",
       "      <td>0.000810</td>\n",
       "    </tr>\n",
       "    <tr>\n",
       "      <th>movieId</th>\n",
       "      <td>0.010009</td>\n",
       "      <td>-0.009621</td>\n",
       "      <td>0.007910</td>\n",
       "      <td>0.012001</td>\n",
       "      <td>0.015532</td>\n",
       "      <td>0.005362</td>\n",
       "      <td>0.000810</td>\n",
       "      <td>1.000000</td>\n",
       "    </tr>\n",
       "  </tbody>\n",
       "</table>\n",
       "</div>"
      ],
      "text/plain": [
       "                budget  popularity   revenue   runtime  vote_average  \\\n",
       "budget        1.000000    0.449682  0.768825  0.134700      0.073496   \n",
       "popularity    0.449682    1.000000  0.506221  0.129912      0.154357   \n",
       "revenue       0.768825    0.506221  1.000000  0.103948      0.083883   \n",
       "runtime       0.134700    0.129912  0.103948  1.000000      0.158192   \n",
       "vote_average  0.073496    0.154357  0.083883  0.158192      1.000000   \n",
       "vote_count    0.676699    0.559995  0.812031  0.113555      0.123611   \n",
       "return       -0.012572   -0.003946 -0.005515 -0.005189      0.013161   \n",
       "movieId       0.010009   -0.009621  0.007910  0.012001      0.015532   \n",
       "\n",
       "              vote_count    return   movieId  \n",
       "budget          0.676699 -0.012572  0.010009  \n",
       "popularity      0.559995 -0.003946 -0.009621  \n",
       "revenue         0.812031 -0.005515  0.007910  \n",
       "runtime         0.113555 -0.005189  0.012001  \n",
       "vote_average    0.123611  0.013161  0.015532  \n",
       "vote_count      1.000000 -0.003041  0.005362  \n",
       "return         -0.003041  1.000000  0.000810  \n",
       "movieId         0.005362  0.000810  1.000000  "
      ]
     },
     "execution_count": 29,
     "metadata": {},
     "output_type": "execute_result"
    }
   ],
   "source": [
    "sns.heatmap(df.corr(),cmap='coolwarm')\n",
    "plt.savefig('corr.png',dpi=300,bbox_inches='tight')\n",
    "plt.show() #correlation \n",
    "df.corr()"
   ]
  },
  {
   "cell_type": "markdown",
   "metadata": {},
   "source": [
    " ## Title and Overview Wordclouds\n",
    "There are certain words that use more often in titles and overviews. I use WordCloud library to find out what are these words.\n",
    "\n",
    "The word **Love** is the most commonly used word in movie titles. **Girl**, **Day** and **Man** are also among the most commonly occurring words. "
   ]
  },
  {
   "cell_type": "code",
   "execution_count": 30,
   "metadata": {},
   "outputs": [
    {
     "data": {
      "image/png": "[encoded data removed]",
      "text/plain": [
       "<Figure size 1152x576 with 1 Axes>"
      ]
     },
     "metadata": {},
     "output_type": "display_data"
    }
   ],
   "source": [
    "df['title'] = df['title'].astype('str')\n",
    "df['overview'] = df['overview'].astype('str')\n",
    "\n",
    "title_corpus = ' '.join(df['title'])\n",
    "overview_corpus = ' '.join(df['overview'])\n",
    "\n",
    "title_wordcloud = WordCloud(stopwords=STOPWORDS, background_color='white', height=2000, width=4000).generate(title_corpus)\n",
    "plt.figure(figsize=(16,8))\n",
    "plt.imshow(title_wordcloud)\n",
    "plt.axis('off')\n",
    "plt.savefig('word1.png',dpi=300,bbox_inches='tight')\n",
    "plt.show()"
   ]
  },
  {
   "cell_type": "markdown",
   "metadata": {},
   "source": [
    "**Life** is the most commonly used word in Movie titles. **One** and **Find** are also popular."
   ]
  },
  {
   "cell_type": "code",
   "execution_count": 31,
   "metadata": {},
   "outputs": [
    {
     "data": {
      "image/png": "[encoded data removed]",
      "text/plain": [
       "<Figure size 1152x576 with 1 Axes>"
      ]
     },
     "metadata": {},
     "output_type": "display_data"
    }
   ],
   "source": [
    "overview_wordcloud = WordCloud(stopwords=STOPWORDS, background_color='white', height=2000, width=4000).generate(overview_corpus)\n",
    "plt.figure(figsize=(16,8))\n",
    "plt.imshow(overview_wordcloud)\n",
    "plt.axis('off')\n",
    "plt.savefig('word2.png',dpi=300,bbox_inches='tight')\n",
    "plt.show()"
   ]
  },
  {
   "cell_type": "markdown",
   "metadata": {},
   "source": [
    "# Statistics\n",
    "\n",
    "\n",
    "\n",
    "### Popularity\n",
    "\n",
    "The Popularity score seems to be an extremely skewed quantity with a mean of only 2.9 but maximum values reaching as high as 547, which is almost 1800% greater than the mean. However, as can be seen from the distribution plot, almost all movies have a popularity score of less than 10 (the 75th percentile is at 3.678902).\n",
    "\n",
    "\n",
    "**Minions** is the most popular movie by the TMDB Popularity Score. __Wonder Woman__ and __Beauty and the Beast__, two extremely successful woman centric movies come in second and third respectively."
   ]
  },
  {
   "cell_type": "code",
   "execution_count": 32,
   "metadata": {},
   "outputs": [
    {
     "name": "stdout",
     "output_type": "stream",
     "text": [
      "Statistics about Popularity\n",
      "count    45430.000000\n",
      "mean         2.921206\n",
      "std          6.006708\n",
      "min          0.000000\n",
      "25%          0.385872\n",
      "50%          1.127238\n",
      "75%          3.678128\n",
      "max        547.488298\n",
      "Name: popularity, dtype: float64\n",
      " \n"
     ]
    },
    {
     "name": "stderr",
     "output_type": "stream",
     "text": [
      "C:\\Python\\Anaconda3\\lib\\site-packages\\matplotlib\\axes\\_axes.py:6462: UserWarning: The 'normed' kwarg is deprecated, and has been replaced by the 'density' kwarg.\n",
      "  warnings.warn(\"The 'normed' kwarg is deprecated, and has been \"\n"
     ]
    },
    {
     "data": {
      "image/png": "[encoded data removed]",
      "text/plain": [
       "<Figure size 432x288 with 1 Axes>"
      ]
     },
     "metadata": {},
     "output_type": "display_data"
    },
    {
     "data": {
      "image/png": "[encoded data removed]",
      "text/plain": [
       "<Figure size 432x288 with 1 Axes>"
      ]
     },
     "metadata": {},
     "output_type": "display_data"
    },
    {
     "data": {
      "text/html": [
       "<div>\n",
       "<style scoped>\n",
       "    .dataframe tbody tr th:only-of-type {\n",
       "        vertical-align: middle;\n",
       "    }\n",
       "\n",
       "    .dataframe tbody tr th {\n",
       "        vertical-align: top;\n",
       "    }\n",
       "\n",
       "    .dataframe thead th {\n",
       "        text-align: right;\n",
       "    }\n",
       "</style>\n",
       "<table border=\"1\" class=\"dataframe\">\n",
       "  <thead>\n",
       "    <tr style=\"text-align: right;\">\n",
       "      <th></th>\n",
       "      <th>title</th>\n",
       "      <th>popularity</th>\n",
       "      <th>year</th>\n",
       "    </tr>\n",
       "  </thead>\n",
       "  <tbody>\n",
       "    <tr>\n",
       "      <th>30700</th>\n",
       "      <td>Minions</td>\n",
       "      <td>547.488298</td>\n",
       "      <td>2015</td>\n",
       "    </tr>\n",
       "    <tr>\n",
       "      <th>33356</th>\n",
       "      <td>Wonder Woman</td>\n",
       "      <td>294.337037</td>\n",
       "      <td>2017</td>\n",
       "    </tr>\n",
       "    <tr>\n",
       "      <th>42222</th>\n",
       "      <td>Beauty and the Beast</td>\n",
       "      <td>287.253654</td>\n",
       "      <td>2017</td>\n",
       "    </tr>\n",
       "    <tr>\n",
       "      <th>43644</th>\n",
       "      <td>Baby Driver</td>\n",
       "      <td>228.032744</td>\n",
       "      <td>2017</td>\n",
       "    </tr>\n",
       "    <tr>\n",
       "      <th>24455</th>\n",
       "      <td>Big Hero 6</td>\n",
       "      <td>213.849907</td>\n",
       "      <td>2014</td>\n",
       "    </tr>\n",
       "    <tr>\n",
       "      <th>26564</th>\n",
       "      <td>Deadpool</td>\n",
       "      <td>187.860492</td>\n",
       "      <td>2016</td>\n",
       "    </tr>\n",
       "    <tr>\n",
       "      <th>26566</th>\n",
       "      <td>Guardians of the Galaxy Vol. 2</td>\n",
       "      <td>185.330992</td>\n",
       "      <td>2017</td>\n",
       "    </tr>\n",
       "    <tr>\n",
       "      <th>14551</th>\n",
       "      <td>Avatar</td>\n",
       "      <td>185.070892</td>\n",
       "      <td>2009</td>\n",
       "    </tr>\n",
       "    <tr>\n",
       "      <th>24351</th>\n",
       "      <td>John Wick</td>\n",
       "      <td>183.870374</td>\n",
       "      <td>2014</td>\n",
       "    </tr>\n",
       "    <tr>\n",
       "      <th>23675</th>\n",
       "      <td>Gone Girl</td>\n",
       "      <td>154.801009</td>\n",
       "      <td>2014</td>\n",
       "    </tr>\n",
       "  </tbody>\n",
       "</table>\n",
       "</div>"
      ],
      "text/plain": [
       "                                title  popularity  year\n",
       "30700                         Minions  547.488298  2015\n",
       "33356                    Wonder Woman  294.337037  2017\n",
       "42222            Beauty and the Beast  287.253654  2017\n",
       "43644                     Baby Driver  228.032744  2017\n",
       "24455                      Big Hero 6  213.849907  2014\n",
       "26564                        Deadpool  187.860492  2016\n",
       "26566  Guardians of the Galaxy Vol. 2  185.330992  2017\n",
       "14551                          Avatar  185.070892  2009\n",
       "24351                       John Wick  183.870374  2014\n",
       "23675                       Gone Girl  154.801009  2014"
      ]
     },
     "execution_count": 32,
     "metadata": {},
     "output_type": "execute_result"
    }
   ],
   "source": [
    "print('Statistics about Popularity')\n",
    "print(df.popularity.describe())\n",
    "print(' ')\n",
    "\n",
    "sns.distplot(df['popularity'].fillna(df['popularity'].median()))\n",
    "plt.show()\n",
    "\n",
    "\n",
    "df['popularity'].plot(logy=True, kind='hist')\n",
    "plt.savefig('s1.png',dpi=300,bbox_inches='tight')\n",
    "plt.show()\n",
    "\n",
    "\n",
    "df[['title', 'popularity', 'year']].sort_values('popularity', ascending=False).head(10)"
   ]
  },
  {
   "cell_type": "markdown",
   "metadata": {},
   "source": [
    "### Vote average \n",
    "The mean rating is only a 5.6 on a scale of 10. Half the movies have a rating of less than or equal to 6. "
   ]
  },
  {
   "cell_type": "code",
   "execution_count": 33,
   "metadata": {},
   "outputs": [
    {
     "name": "stdout",
     "output_type": "stream",
     "text": [
      "Statistics about vote_avg\n",
      "count    45430.000000\n",
      "mean         5.618329\n",
      "std          1.924139\n",
      "min          0.000000\n",
      "25%          5.000000\n",
      "50%          6.000000\n",
      "75%          6.800000\n",
      "max         10.000000\n",
      "Name: vote_average, dtype: float64\n",
      " \n"
     ]
    },
    {
     "name": "stderr",
     "output_type": "stream",
     "text": [
      "C:\\Python\\Anaconda3\\lib\\site-packages\\matplotlib\\axes\\_axes.py:6462: UserWarning: The 'normed' kwarg is deprecated, and has been replaced by the 'density' kwarg.\n",
      "  warnings.warn(\"The 'normed' kwarg is deprecated, and has been \"\n"
     ]
    },
    {
     "data": {
      "image/png": "[encoded data removed]",
      "text/plain": [
       "<Figure size 432x288 with 1 Axes>"
      ]
     },
     "metadata": {},
     "output_type": "display_data"
    }
   ],
   "source": [
    "\n",
    "print('Statistics about vote_avg')\n",
    "print(df.vote_average.describe())\n",
    "print(' ')\n",
    "\n",
    "\n",
    "sns.distplot(df['vote_average'].fillna(df['vote_average'].median()))\n",
    "plt.savefig('s1.png',dpi=300,bbox_inches='tight')\n",
    "plt.show()\n"
   ]
  },
  {
   "cell_type": "markdown",
   "metadata": {},
   "source": [
    "### Revenue\n",
    "\n",
    "The revenue statistics for movies with more than 2000 votes. The distribution plot is skewed to the right.\n"
   ]
  },
  {
   "cell_type": "code",
   "execution_count": 34,
   "metadata": {},
   "outputs": [
    {
     "name": "stdout",
     "output_type": "stream",
     "text": [
      "Statistics about Revenue\n",
      "count    5.120000e+02\n",
      "mean     4.139510e+08\n",
      "std      3.354796e+08\n",
      "min      1.000000e+06\n",
      "25%      1.705235e+08\n",
      "50%      3.347582e+08\n",
      "75%      5.851754e+08\n",
      "max      2.787965e+09\n",
      "Name: revenue, dtype: float64\n"
     ]
    },
    {
     "name": "stderr",
     "output_type": "stream",
     "text": [
      "C:\\Python\\Anaconda3\\lib\\site-packages\\matplotlib\\axes\\_axes.py:6462: UserWarning: The 'normed' kwarg is deprecated, and has been replaced by the 'density' kwarg.\n",
      "  warnings.warn(\"The 'normed' kwarg is deprecated, and has been \"\n"
     ]
    },
    {
     "data": {
      "image/png": "[encoded data removed]",
      "text/plain": [
       "<Figure size 432x288 with 1 Axes>"
      ]
     },
     "metadata": {},
     "output_type": "display_data"
    }
   ],
   "source": [
    "print('Statistics about Revenue')\n",
    "print(df[df['vote_count']>2000]['revenue'].describe())\n",
    "\n",
    "sns.distplot(df[df['vote_count']>2000]['revenue'].fillna(df['revenue'].median()))\n",
    "plt.savefig('s1.png',dpi=300,bbox_inches='tight')\n",
    "plt.show()"
   ]
  },
  {
   "cell_type": "markdown",
   "metadata": {},
   "source": [
    "### Runtime\n",
    "\n",
    "The average length of a movie is about 1 hour and 30 minutes. The longest movie on record in this dataset is a staggering 1256 minutes (or 20 hours) long."
   ]
  },
  {
   "cell_type": "code",
   "execution_count": 35,
   "metadata": {},
   "outputs": [
    {
     "name": "stdout",
     "output_type": "stream",
     "text": [
      "Statistics about Runtime\n",
      "count    45430.000000\n",
      "mean        94.129254\n",
      "std         38.306780\n",
      "min          0.000000\n",
      "25%         85.000000\n",
      "50%         95.000000\n",
      "75%        107.000000\n",
      "max       1256.000000\n",
      "Name: runtime, dtype: float64\n"
     ]
    },
    {
     "name": "stderr",
     "output_type": "stream",
     "text": [
      "C:\\Python\\Anaconda3\\lib\\site-packages\\matplotlib\\axes\\_axes.py:6462: UserWarning: The 'normed' kwarg is deprecated, and has been replaced by the 'density' kwarg.\n",
      "  warnings.warn(\"The 'normed' kwarg is deprecated, and has been \"\n"
     ]
    },
    {
     "data": {
      "image/png": "[encoded data removed]",
      "text/plain": [
       "<Figure size 432x288 with 1 Axes>"
      ]
     },
     "metadata": {},
     "output_type": "display_data"
    }
   ],
   "source": [
    "print('Statistics about Runtime')\n",
    "print(df['runtime'].fillna(df['runtime'].median()).describe())\n",
    "\n",
    "sns.distplot(df[(df['runtime']<300)&(df['runtime']>0)]['runtime'].fillna(df['runtime'].median()))\n",
    "plt.savefig('s1.png',dpi=300,bbox_inches='tight')\n",
    "plt.show()"
   ]
  },
  {
   "cell_type": "markdown",
   "metadata": {},
   "source": [
    "#### Shortest  and longest movies\n",
    "\n",
    "\n",
    "* We can see there is several one minute lenght movies.\n",
    "\n",
    "* All these long time films are TV series and we dont have acceess to the runtime of each episode in this dataset."
   ]
  },
  {
   "cell_type": "code",
   "execution_count": 36,
   "metadata": {},
   "outputs": [
    {
     "data": {
      "text/html": [
       "<div>\n",
       "<style scoped>\n",
       "    .dataframe tbody tr th:only-of-type {\n",
       "        vertical-align: middle;\n",
       "    }\n",
       "\n",
       "    .dataframe tbody tr th {\n",
       "        vertical-align: top;\n",
       "    }\n",
       "\n",
       "    .dataframe thead th {\n",
       "        text-align: right;\n",
       "    }\n",
       "</style>\n",
       "<table border=\"1\" class=\"dataframe\">\n",
       "  <thead>\n",
       "    <tr style=\"text-align: right;\">\n",
       "      <th></th>\n",
       "      <th>runtime</th>\n",
       "      <th>title</th>\n",
       "      <th>year</th>\n",
       "    </tr>\n",
       "  </thead>\n",
       "  <tbody>\n",
       "    <tr>\n",
       "      <th>41870</th>\n",
       "      <td>1.0</td>\n",
       "      <td>Mr. Edison at Work in His Chemical Laboratory</td>\n",
       "      <td>1897</td>\n",
       "    </tr>\n",
       "    <tr>\n",
       "      <th>44694</th>\n",
       "      <td>1.0</td>\n",
       "      <td>Grandma's Reading Glass</td>\n",
       "      <td>1900</td>\n",
       "    </tr>\n",
       "    <tr>\n",
       "      <th>44693</th>\n",
       "      <td>1.0</td>\n",
       "      <td>What Happened on Twenty-Third Street, New York...</td>\n",
       "      <td>1901</td>\n",
       "    </tr>\n",
       "    <tr>\n",
       "      <th>37996</th>\n",
       "      <td>1.0</td>\n",
       "      <td>The Magician</td>\n",
       "      <td>1898</td>\n",
       "    </tr>\n",
       "    <tr>\n",
       "      <th>44672</th>\n",
       "      <td>1.0</td>\n",
       "      <td>Panorama pris d'un train en marche</td>\n",
       "      <td>1898</td>\n",
       "    </tr>\n",
       "    <tr>\n",
       "      <th>44669</th>\n",
       "      <td>1.0</td>\n",
       "      <td>Divers at Work on the Wreck of the \"Maine\"</td>\n",
       "      <td>1898</td>\n",
       "    </tr>\n",
       "    <tr>\n",
       "      <th>44668</th>\n",
       "      <td>1.0</td>\n",
       "      <td>After the Ball</td>\n",
       "      <td>1897</td>\n",
       "    </tr>\n",
       "    <tr>\n",
       "      <th>44665</th>\n",
       "      <td>1.0</td>\n",
       "      <td>Between Calais and Dover</td>\n",
       "      <td>1897</td>\n",
       "    </tr>\n",
       "    <tr>\n",
       "      <th>44655</th>\n",
       "      <td>1.0</td>\n",
       "      <td>The Surrender of Tournavos</td>\n",
       "      <td>1897</td>\n",
       "    </tr>\n",
       "    <tr>\n",
       "      <th>19138</th>\n",
       "      <td>1.0</td>\n",
       "      <td>Blacksmith Scene</td>\n",
       "      <td>1893</td>\n",
       "    </tr>\n",
       "  </tbody>\n",
       "</table>\n",
       "</div>"
      ],
      "text/plain": [
       "       runtime                                              title  year\n",
       "41870      1.0      Mr. Edison at Work in His Chemical Laboratory  1897\n",
       "44694      1.0                            Grandma's Reading Glass  1900\n",
       "44693      1.0  What Happened on Twenty-Third Street, New York...  1901\n",
       "37996      1.0                                       The Magician  1898\n",
       "44672      1.0                 Panorama pris d'un train en marche  1898\n",
       "44669      1.0         Divers at Work on the Wreck of the \"Maine\"  1898\n",
       "44668      1.0                                     After the Ball  1897\n",
       "44665      1.0                           Between Calais and Dover  1897\n",
       "44655      1.0                         The Surrender of Tournavos  1897\n",
       "19138      1.0                                   Blacksmith Scene  1893"
      ]
     },
     "execution_count": 36,
     "metadata": {},
     "output_type": "execute_result"
    }
   ],
   "source": [
    "df[df['runtime'] > 0][['runtime', 'title', 'year']].sort_values('runtime').head(10)"
   ]
  },
  {
   "cell_type": "code",
   "execution_count": 37,
   "metadata": {},
   "outputs": [
    {
     "data": {
      "text/html": [
       "<div>\n",
       "<style scoped>\n",
       "    .dataframe tbody tr th:only-of-type {\n",
       "        vertical-align: middle;\n",
       "    }\n",
       "\n",
       "    .dataframe tbody tr th {\n",
       "        vertical-align: top;\n",
       "    }\n",
       "\n",
       "    .dataframe thead th {\n",
       "        text-align: right;\n",
       "    }\n",
       "</style>\n",
       "<table border=\"1\" class=\"dataframe\">\n",
       "  <thead>\n",
       "    <tr style=\"text-align: right;\">\n",
       "      <th></th>\n",
       "      <th>runtime</th>\n",
       "      <th>title</th>\n",
       "      <th>year</th>\n",
       "    </tr>\n",
       "  </thead>\n",
       "  <tbody>\n",
       "    <tr>\n",
       "      <th>24178</th>\n",
       "      <td>1256.0</td>\n",
       "      <td>Centennial</td>\n",
       "      <td>1978</td>\n",
       "    </tr>\n",
       "    <tr>\n",
       "      <th>19965</th>\n",
       "      <td>1140.0</td>\n",
       "      <td>Jazz</td>\n",
       "      <td>2001</td>\n",
       "    </tr>\n",
       "    <tr>\n",
       "      <th>40938</th>\n",
       "      <td>1140.0</td>\n",
       "      <td>Baseball</td>\n",
       "      <td>1994</td>\n",
       "    </tr>\n",
       "    <tr>\n",
       "      <th>13767</th>\n",
       "      <td>931.0</td>\n",
       "      <td>Berlin Alexanderplatz</td>\n",
       "      <td>1980</td>\n",
       "    </tr>\n",
       "    <tr>\n",
       "      <th>13953</th>\n",
       "      <td>925.0</td>\n",
       "      <td>Heimat: A Chronicle of Germany</td>\n",
       "      <td>1984</td>\n",
       "    </tr>\n",
       "    <tr>\n",
       "      <th>27855</th>\n",
       "      <td>900.0</td>\n",
       "      <td>The Story of Film: An Odyssey</td>\n",
       "      <td>2011</td>\n",
       "    </tr>\n",
       "    <tr>\n",
       "      <th>26682</th>\n",
       "      <td>877.0</td>\n",
       "      <td>Taken</td>\n",
       "      <td>2002</td>\n",
       "    </tr>\n",
       "    <tr>\n",
       "      <th>19158</th>\n",
       "      <td>874.0</td>\n",
       "      <td>The War</td>\n",
       "      <td>2007</td>\n",
       "    </tr>\n",
       "    <tr>\n",
       "      <th>34667</th>\n",
       "      <td>840.0</td>\n",
       "      <td>The Roosevelts: An Intimate History</td>\n",
       "      <td>2014</td>\n",
       "    </tr>\n",
       "    <tr>\n",
       "      <th>34732</th>\n",
       "      <td>840.0</td>\n",
       "      <td>Seventeen Moments in Spring</td>\n",
       "      <td>1973</td>\n",
       "    </tr>\n",
       "  </tbody>\n",
       "</table>\n",
       "</div>"
      ],
      "text/plain": [
       "       runtime                                title  year\n",
       "24178   1256.0                           Centennial  1978\n",
       "19965   1140.0                                 Jazz  2001\n",
       "40938   1140.0                             Baseball  1994\n",
       "13767    931.0                Berlin Alexanderplatz  1980\n",
       "13953    925.0       Heimat: A Chronicle of Germany  1984\n",
       "27855    900.0        The Story of Film: An Odyssey  2011\n",
       "26682    877.0                                Taken  2002\n",
       "19158    874.0                              The War  2007\n",
       "34667    840.0  The Roosevelts: An Intimate History  2014\n",
       "34732    840.0          Seventeen Moments in Spring  1973"
      ]
     },
     "execution_count": 37,
     "metadata": {},
     "output_type": "execute_result"
    }
   ],
   "source": [
    "df[df['runtime'] > 0][['runtime', 'title', 'year']].sort_values('runtime',ascending=False).head(10)"
   ]
  },
  {
   "cell_type": "markdown",
   "metadata": {},
   "source": [
    "### Budget\n",
    "\n",
    "\n",
    "The distribution of movie budgets shows an exponential decay. More than 75% of the movies have a budget smaller than 25 million dollars."
   ]
  },
  {
   "cell_type": "code",
   "execution_count": 38,
   "metadata": {},
   "outputs": [
    {
     "name": "stdout",
     "output_type": "stream",
     "text": [
      "count    4.543000e+04\n",
      "mean     4.224828e+06\n",
      "std      1.742853e+07\n",
      "min      0.000000e+00\n",
      "25%      0.000000e+00\n",
      "50%      0.000000e+00\n",
      "75%      0.000000e+00\n",
      "max      3.800000e+08\n",
      "Name: budget, dtype: float64\n"
     ]
    },
    {
     "name": "stderr",
     "output_type": "stream",
     "text": [
      "C:\\Python\\Anaconda3\\lib\\site-packages\\matplotlib\\axes\\_axes.py:6462: UserWarning: The 'normed' kwarg is deprecated, and has been replaced by the 'density' kwarg.\n",
      "  warnings.warn(\"The 'normed' kwarg is deprecated, and has been \"\n"
     ]
    },
    {
     "data": {
      "text/plain": [
       "<matplotlib.axes._subplots.AxesSubplot at 0x2841d36ab70>"
      ]
     },
     "execution_count": 38,
     "metadata": {},
     "output_type": "execute_result"
    },
    {
     "data": {
      "image/png": "[encoded data removed]",
      "text/plain": [
       "<Figure size 432x288 with 1 Axes>"
      ]
     },
     "metadata": {},
     "output_type": "display_data"
    }
   ],
   "source": [
    "print(df['budget'].describe())\n",
    "\n",
    "sns.distplot(df[df['budget'].notnull()]['budget'])\n"
   ]
  },
  {
   "cell_type": "code",
   "execution_count": 39,
   "metadata": {},
   "outputs": [
    {
     "data": {
      "image/png": "[encoded data removed]",
      "text/plain": [
       "<Figure size 432x288 with 1 Axes>"
      ]
     },
     "metadata": {},
     "output_type": "display_data"
    }
   ],
   "source": [
    "df['budget'].plot(logy=True, kind='hist')\n",
    "plt.savefig('s1.png',dpi=300,bbox_inches='tight')\n",
    "plt.show()"
   ]
  },
  {
   "cell_type": "markdown",
   "metadata": {},
   "source": [
    "# Recommender System\n",
    "\n"
   ]
  },
  {
   "cell_type": "markdown",
   "metadata": {},
   "source": [
    "\n",
    "\n",
    "## 1- Simple Recommender\n",
    "\n",
    "The Simple Recommender offers generalized recommnendations to every user based on movie popularity, ratings, number of votes and genre. The basic idea behind this recommender is that movies that are more popular and more critically acclaimed will have a higher probability of being liked by the average audience. This model does not give personalized recommendations based on the user. \n",
    "\n",
    "So I sort the movies base on their genre, and I recommend the ones with the highest number of votes and the higher average rankings to the new audience."
   ]
  },
  {
   "cell_type": "code",
   "execution_count": 40,
   "metadata": {},
   "outputs": [
    {
     "name": "stdout",
     "output_type": "stream",
     "text": [
      "<class 'pandas.core.frame.DataFrame'>\n",
      "Int64Index: 45430 entries, 0 to 45465\n",
      "Data columns (total 7 columns):\n",
      "title           45430 non-null object\n",
      "genres          45430 non-null object\n",
      "id              45430 non-null object\n",
      "popularity      45430 non-null float64\n",
      "movieId         45430 non-null int64\n",
      "vote_average    45430 non-null float64\n",
      "vote_count      45430 non-null float64\n",
      "dtypes: float64(3), int64(1), object(3)\n",
      "memory usage: 2.8+ MB\n"
     ]
    }
   ],
   "source": [
    "df1=df[['title','genres','id','popularity','movieId','vote_average','vote_count']].dropna()\n",
    "df1.info()"
   ]
  },
  {
   "cell_type": "code",
   "execution_count": 41,
   "metadata": {},
   "outputs": [],
   "source": [
    "sep = df1.reset_index().set_index(['title','movieId','vote_average','popularity','vote_count'])['genres'].apply(pd.Series).stack()\n",
    "sep = sep.reset_index()\n",
    "sep.columns=['title','movieId','vote_average','popularity','vote_count','level','genres']\n",
    "sep.drop('level',axis=1,inplace=True)"
   ]
  },
  {
   "cell_type": "code",
   "execution_count": 42,
   "metadata": {},
   "outputs": [
    {
     "data": {
      "text/html": [
       "<div>\n",
       "<style scoped>\n",
       "    .dataframe tbody tr th:only-of-type {\n",
       "        vertical-align: middle;\n",
       "    }\n",
       "\n",
       "    .dataframe tbody tr th {\n",
       "        vertical-align: top;\n",
       "    }\n",
       "\n",
       "    .dataframe thead th {\n",
       "        text-align: right;\n",
       "    }\n",
       "</style>\n",
       "<table border=\"1\" class=\"dataframe\">\n",
       "  <thead>\n",
       "    <tr style=\"text-align: right;\">\n",
       "      <th></th>\n",
       "      <th>title</th>\n",
       "      <th>movieId</th>\n",
       "      <th>vote_average</th>\n",
       "      <th>popularity</th>\n",
       "      <th>vote_count</th>\n",
       "      <th>genres</th>\n",
       "    </tr>\n",
       "  </thead>\n",
       "  <tbody>\n",
       "    <tr>\n",
       "      <th>0</th>\n",
       "      <td>Toy Story</td>\n",
       "      <td>39018</td>\n",
       "      <td>7.7</td>\n",
       "      <td>21.946943</td>\n",
       "      <td>5415.0</td>\n",
       "      <td>Animation</td>\n",
       "    </tr>\n",
       "    <tr>\n",
       "      <th>1</th>\n",
       "      <td>Toy Story</td>\n",
       "      <td>39018</td>\n",
       "      <td>7.7</td>\n",
       "      <td>21.946943</td>\n",
       "      <td>5415.0</td>\n",
       "      <td>Comedy</td>\n",
       "    </tr>\n",
       "    <tr>\n",
       "      <th>2</th>\n",
       "      <td>Toy Story</td>\n",
       "      <td>39018</td>\n",
       "      <td>7.7</td>\n",
       "      <td>21.946943</td>\n",
       "      <td>5415.0</td>\n",
       "      <td>Family</td>\n",
       "    </tr>\n",
       "    <tr>\n",
       "      <th>3</th>\n",
       "      <td>Jumanji</td>\n",
       "      <td>16806</td>\n",
       "      <td>6.9</td>\n",
       "      <td>17.015539</td>\n",
       "      <td>2413.0</td>\n",
       "      <td>Adventure</td>\n",
       "    </tr>\n",
       "    <tr>\n",
       "      <th>4</th>\n",
       "      <td>Jumanji</td>\n",
       "      <td>16806</td>\n",
       "      <td>6.9</td>\n",
       "      <td>17.015539</td>\n",
       "      <td>2413.0</td>\n",
       "      <td>Fantasy</td>\n",
       "    </tr>\n",
       "  </tbody>\n",
       "</table>\n",
       "</div>"
      ],
      "text/plain": [
       "       title  movieId  vote_average  popularity  vote_count     genres\n",
       "0  Toy Story    39018           7.7   21.946943      5415.0  Animation\n",
       "1  Toy Story    39018           7.7   21.946943      5415.0     Comedy\n",
       "2  Toy Story    39018           7.7   21.946943      5415.0     Family\n",
       "3    Jumanji    16806           6.9   17.015539      2413.0  Adventure\n",
       "4    Jumanji    16806           6.9   17.015539      2413.0    Fantasy"
      ]
     },
     "execution_count": 42,
     "metadata": {},
     "output_type": "execute_result"
    }
   ],
   "source": [
    "sep.head()"
   ]
  },
  {
   "cell_type": "markdown",
   "metadata": {},
   "source": [
    "### The list of the 15 best Drama movies to recommend are:"
   ]
  },
  {
   "cell_type": "code",
   "execution_count": 43,
   "metadata": {},
   "outputs": [
    {
     "data": {
      "text/plain": [
       "0              The Dark Knight\n",
       "1                 Interstellar\n",
       "2                   Fight Club\n",
       "3     The Shawshank Redemption\n",
       "4                 Forrest Gump\n",
       "5                The Godfather\n",
       "6             The Intouchables\n",
       "7             Schindler's List\n",
       "8                     Whiplash\n",
       "9       Leon: The Professional\n",
       "10              The Green Mile\n",
       "11           Life Is Beautiful\n",
       "12      The Godfather: Part II\n",
       "13          The Usual Suspects\n",
       "14                  GoodFellas\n",
       "Name: title, dtype: object"
      ]
     },
     "execution_count": 43,
     "metadata": {},
     "output_type": "execute_result"
    }
   ],
   "source": [
    "a=sep[(sep.genres=='Drama')&(sep.vote_average>8)&(sep.popularity>5)&(sep.vote_count>2000)].sort_values('vote_count',ascending=False).head(15)\n",
    "b=sep[(sep.genres=='Drama')&(sep.vote_average>8)&(sep.popularity>5)&(sep.vote_count>2000)].sort_values('vote_average',ascending=False).head(15)\n",
    "c=a.merge(b,how='outer').sort_values('vote_count',ascending=False).reset_index()\n",
    "c.title.head(15)\n",
    "         "
   ]
  },
  {
   "cell_type": "markdown",
   "metadata": {},
   "source": [
    "### The list of the 15 best Romance movies to recommend are:"
   ]
  },
  {
   "cell_type": "code",
   "execution_count": 44,
   "metadata": {},
   "outputs": [
    {
     "data": {
      "text/plain": [
       "0                              Forrest Gump\n",
       "1                                   Titanic\n",
       "2                                La La Land\n",
       "3                                       Her\n",
       "4                          The Great Gatsby\n",
       "5                    The Fault in Our Stars\n",
       "6     Eternal Sunshine of the Spotless Mind\n",
       "7                       Edward Scissorhands\n",
       "8                                   Aladdin\n",
       "9                                    Amélie\n",
       "10                 The Theory of Everything\n",
       "11      The Curious Case of Benjamin Button\n",
       "12                             The Notebook\n",
       "13                         A Beautiful Mind\n",
       "14          The Perks of Being a Wallflower\n",
       "Name: title, dtype: object"
      ]
     },
     "execution_count": 44,
     "metadata": {},
     "output_type": "execute_result"
    }
   ],
   "source": [
    "a=sep[(sep.genres=='Romance')&(sep.vote_average>7)&(sep.popularity>5)&(sep.vote_count>1000)].sort_values('vote_count',ascending=False).head(15)\n",
    "b=sep[(sep.genres=='Romance')&(sep.vote_average>7)&(sep.popularity>5)&(sep.vote_count>1000)].sort_values('vote_average',ascending=False).head(15)\n",
    "c=a.merge(b,how='outer').sort_values('vote_count',ascending=False).reset_index()\n",
    "c.title.head(15)"
   ]
  },
  {
   "cell_type": "markdown",
   "metadata": {},
   "source": [
    "### The list of the 15 best Action movies to recommend are:"
   ]
  },
  {
   "cell_type": "code",
   "execution_count": 45,
   "metadata": {},
   "outputs": [
    {
     "data": {
      "text/plain": [
       "0                                             Inception\n",
       "1                                       The Dark Knight\n",
       "2                                                Avatar\n",
       "3                                          The Avengers\n",
       "4                                              Deadpool\n",
       "5                               Guardians of the Galaxy\n",
       "6                                    Mad Max: Fury Road\n",
       "7                                 The Dark Knight Rises\n",
       "8                                            The Matrix\n",
       "9                                              Iron Man\n",
       "10    The Lord of the Rings: The Fellowship of the Ring\n",
       "11        The Lord of the Rings: The Return of the King\n",
       "12                         Star Wars: The Force Awakens\n",
       "13                The Lord of the Rings: The Two Towers\n",
       "14                                        Batman Begins\n",
       "Name: title, dtype: object"
      ]
     },
     "execution_count": 45,
     "metadata": {},
     "output_type": "execute_result"
    }
   ],
   "source": [
    "a=sep[(sep.genres=='Action')&(sep.vote_average>7)&(sep.popularity>5)&(sep.vote_count>1000)].sort_values('vote_count',ascending=False).head(15)\n",
    "b=sep[(sep.genres=='Action')&(sep.vote_average>7)&(sep.popularity>5)&(sep.vote_count>1000)].sort_values('vote_average',ascending=False).head(15)\n",
    "c=a.merge(b,how='outer').sort_values('vote_count',ascending=False).reset_index()\n",
    "c.title.head(15)"
   ]
  },
  {
   "cell_type": "markdown",
   "metadata": {},
   "source": [
    "### The list of the 15 best Fantasy movies to recommend are:"
   ]
  },
  {
   "cell_type": "code",
   "execution_count": 46,
   "metadata": {},
   "outputs": [
    {
     "data": {
      "text/plain": [
       "0                                                Avatar\n",
       "1     The Lord of the Rings: The Fellowship of the Ring\n",
       "2         The Lord of the Rings: The Return of the King\n",
       "3                          Star Wars: The Force Awakens\n",
       "4                 The Lord of the Rings: The Two Towers\n",
       "5     Pirates of the Caribbean: The Curse of the Bla...\n",
       "6              Harry Potter and the Philosopher's Stone\n",
       "7                            X-Men: Days of Future Past\n",
       "8          Harry Potter and the Deathly Hallows: Part 2\n",
       "9              Harry Potter and the Prisoner of Azkaban\n",
       "10              Harry Potter and the Chamber of Secrets\n",
       "11                                       Doctor Strange\n",
       "12                  Harry Potter and the Goblet of Fire\n",
       "13         Harry Potter and the Deathly Hallows: Part 1\n",
       "14            Harry Potter and the Order of the Phoenix\n",
       "Name: title, dtype: object"
      ]
     },
     "execution_count": 46,
     "metadata": {},
     "output_type": "execute_result"
    }
   ],
   "source": [
    "a=sep[(sep.genres=='Fantasy')&(sep.vote_average>7)&(sep.popularity>5)&(sep.vote_count>1000)].sort_values('vote_count',ascending=False).head(15)\n",
    "b=sep[(sep.genres=='Fantasy')&(sep.vote_average>7)&(sep.popularity>5)&(sep.vote_count>1000)].sort_values('vote_average',ascending=False).head(15)\n",
    "c=a.merge(b,how='outer').sort_values('vote_count',ascending=False).reset_index()\n",
    "c.title.head(15)"
   ]
  },
  {
   "cell_type": "markdown",
   "metadata": {},
   "source": [
    "## 2- IMDB Weighted Rating Formula\n",
    "Another technique could be IMDB's *weighted rating* formula which is mathematically represented as follows:\n",
    "\n",
    "Weighted Rating (WR) = $(\\frac{v}{v + m} . R) + (\\frac{m}{v + m} . C)$\n",
    "\n",
    "where,\n",
    "* *v* is the number of votes for the movie\n",
    "* *m* is the minimum votes required to be listed in the chart\n",
    "* *R* is the average rating of the movie\n",
    "* *C* is the mean vote across the whole report\n",
    "\n",
    "The next step is to determine an appropriate value for *m*, the minimum votes required to be listed in the chart. We will use **95th percentile** as our cutoff. In other words, for a movie to feature in the charts, it must have more votes than at least 95% of the movies in the list.\n"
   ]
  },
  {
   "cell_type": "code",
   "execution_count": 47,
   "metadata": {},
   "outputs": [
    {
     "name": "stdout",
     "output_type": "stream",
     "text": [
      "mean vote across the whole report (C): 5.24503631961259\n",
      "minimum votes required to be listed in the chart (m): 434.0\n",
      "2181  movies are qualified\n"
     ]
    }
   ],
   "source": [
    "vote_counts = df[df['vote_count'].notnull()]['vote_count'].astype('int')\n",
    "vote_averages = df[df['vote_average'].notnull()]['vote_average'].astype('int')\n",
    "C = vote_averages.mean()\n",
    "m = vote_counts.quantile(0.95)\n",
    "print('mean vote across the whole report (C):',C)\n",
    "print('minimum votes required to be listed in the chart (m):',m)\n",
    "qualified = df[(df['vote_count'] >= m) & (df['vote_count'].notnull()) & (df['vote_average']>=C)&(df['vote_average'].notnull())][['title', 'year', 'vote_count', 'vote_average', 'popularity', 'genres']]\n",
    "qualified['vote_count'] = qualified['vote_count'].astype('int')\n",
    "qualified['vote_average'] = qualified['vote_average'].astype('int')\n",
    "print(qualified.shape[0],' movies are qualified')\n"
   ]
  },
  {
   "cell_type": "code",
   "execution_count": 48,
   "metadata": {},
   "outputs": [
    {
     "data": {
      "text/html": [
       "<div>\n",
       "<style scoped>\n",
       "    .dataframe tbody tr th:only-of-type {\n",
       "        vertical-align: middle;\n",
       "    }\n",
       "\n",
       "    .dataframe tbody tr th {\n",
       "        vertical-align: top;\n",
       "    }\n",
       "\n",
       "    .dataframe thead th {\n",
       "        text-align: right;\n",
       "    }\n",
       "</style>\n",
       "<table border=\"1\" class=\"dataframe\">\n",
       "  <thead>\n",
       "    <tr style=\"text-align: right;\">\n",
       "      <th></th>\n",
       "      <th>title</th>\n",
       "      <th>year</th>\n",
       "      <th>vote_count</th>\n",
       "      <th>vote_average</th>\n",
       "      <th>popularity</th>\n",
       "      <th>genres</th>\n",
       "      <th>wr</th>\n",
       "    </tr>\n",
       "  </thead>\n",
       "  <tbody>\n",
       "    <tr>\n",
       "      <th>15480</th>\n",
       "      <td>Inception</td>\n",
       "      <td>2010</td>\n",
       "      <td>14075</td>\n",
       "      <td>8</td>\n",
       "      <td>29.108149</td>\n",
       "      <td>[Action, Thriller, Science Fiction, Mystery, A...</td>\n",
       "      <td>7.917592</td>\n",
       "    </tr>\n",
       "    <tr>\n",
       "      <th>12481</th>\n",
       "      <td>The Dark Knight</td>\n",
       "      <td>2008</td>\n",
       "      <td>12269</td>\n",
       "      <td>8</td>\n",
       "      <td>123.167259</td>\n",
       "      <td>[Drama, Action, Crime, Thriller]</td>\n",
       "      <td>7.905876</td>\n",
       "    </tr>\n",
       "    <tr>\n",
       "      <th>22879</th>\n",
       "      <td>Interstellar</td>\n",
       "      <td>2014</td>\n",
       "      <td>11187</td>\n",
       "      <td>8</td>\n",
       "      <td>32.213481</td>\n",
       "      <td>[Adventure, Drama, Science Fiction]</td>\n",
       "      <td>7.897113</td>\n",
       "    </tr>\n",
       "    <tr>\n",
       "      <th>2843</th>\n",
       "      <td>Fight Club</td>\n",
       "      <td>1999</td>\n",
       "      <td>9678</td>\n",
       "      <td>8</td>\n",
       "      <td>63.869599</td>\n",
       "      <td>[Drama]</td>\n",
       "      <td>7.881759</td>\n",
       "    </tr>\n",
       "    <tr>\n",
       "      <th>4863</th>\n",
       "      <td>The Lord of the Rings: The Fellowship of the Ring</td>\n",
       "      <td>2001</td>\n",
       "      <td>8892</td>\n",
       "      <td>8</td>\n",
       "      <td>32.070725</td>\n",
       "      <td>[Adventure, Fantasy, Action]</td>\n",
       "      <td>7.871793</td>\n",
       "    </tr>\n",
       "    <tr>\n",
       "      <th>292</th>\n",
       "      <td>Pulp Fiction</td>\n",
       "      <td>1994</td>\n",
       "      <td>8670</td>\n",
       "      <td>8</td>\n",
       "      <td>140.950236</td>\n",
       "      <td>[Thriller, Crime]</td>\n",
       "      <td>7.868667</td>\n",
       "    </tr>\n",
       "    <tr>\n",
       "      <th>314</th>\n",
       "      <td>The Shawshank Redemption</td>\n",
       "      <td>1994</td>\n",
       "      <td>8358</td>\n",
       "      <td>8</td>\n",
       "      <td>51.645403</td>\n",
       "      <td>[Drama, Crime]</td>\n",
       "      <td>7.864007</td>\n",
       "    </tr>\n",
       "    <tr>\n",
       "      <th>7000</th>\n",
       "      <td>The Lord of the Rings: The Return of the King</td>\n",
       "      <td>2003</td>\n",
       "      <td>8226</td>\n",
       "      <td>8</td>\n",
       "      <td>29.324358</td>\n",
       "      <td>[Adventure, Fantasy, Action]</td>\n",
       "      <td>7.861934</td>\n",
       "    </tr>\n",
       "    <tr>\n",
       "      <th>351</th>\n",
       "      <td>Forrest Gump</td>\n",
       "      <td>1994</td>\n",
       "      <td>8147</td>\n",
       "      <td>8</td>\n",
       "      <td>48.307194</td>\n",
       "      <td>[Comedy, Drama, Romance]</td>\n",
       "      <td>7.860663</td>\n",
       "    </tr>\n",
       "    <tr>\n",
       "      <th>5814</th>\n",
       "      <td>The Lord of the Rings: The Two Towers</td>\n",
       "      <td>2002</td>\n",
       "      <td>7641</td>\n",
       "      <td>8</td>\n",
       "      <td>29.423537</td>\n",
       "      <td>[Adventure, Fantasy, Action]</td>\n",
       "      <td>7.851931</td>\n",
       "    </tr>\n",
       "    <tr>\n",
       "      <th>256</th>\n",
       "      <td>Star Wars</td>\n",
       "      <td>1977</td>\n",
       "      <td>6778</td>\n",
       "      <td>8</td>\n",
       "      <td>42.149697</td>\n",
       "      <td>[Adventure, Action, Science Fiction]</td>\n",
       "      <td>7.834213</td>\n",
       "    </tr>\n",
       "    <tr>\n",
       "      <th>1225</th>\n",
       "      <td>Back to the Future</td>\n",
       "      <td>1985</td>\n",
       "      <td>6239</td>\n",
       "      <td>8</td>\n",
       "      <td>25.778509</td>\n",
       "      <td>[Adventure, Comedy, Science Fiction, Family]</td>\n",
       "      <td>7.820822</td>\n",
       "    </tr>\n",
       "    <tr>\n",
       "      <th>834</th>\n",
       "      <td>The Godfather</td>\n",
       "      <td>1972</td>\n",
       "      <td>6024</td>\n",
       "      <td>8</td>\n",
       "      <td>41.109264</td>\n",
       "      <td>[Drama, Crime]</td>\n",
       "      <td>7.814857</td>\n",
       "    </tr>\n",
       "    <tr>\n",
       "      <th>1154</th>\n",
       "      <td>The Empire Strikes Back</td>\n",
       "      <td>1980</td>\n",
       "      <td>5998</td>\n",
       "      <td>8</td>\n",
       "      <td>19.470959</td>\n",
       "      <td>[Adventure, Action, Science Fiction]</td>\n",
       "      <td>7.814108</td>\n",
       "    </tr>\n",
       "    <tr>\n",
       "      <th>46</th>\n",
       "      <td>Se7en</td>\n",
       "      <td>1995</td>\n",
       "      <td>5915</td>\n",
       "      <td>8</td>\n",
       "      <td>18.457430</td>\n",
       "      <td>[Crime, Mystery, Thriller]</td>\n",
       "      <td>7.811678</td>\n",
       "    </tr>\n",
       "    <tr>\n",
       "      <th>24860</th>\n",
       "      <td>The Imitation Game</td>\n",
       "      <td>2014</td>\n",
       "      <td>5895</td>\n",
       "      <td>8</td>\n",
       "      <td>31.595940</td>\n",
       "      <td>[History, Drama, Thriller, War]</td>\n",
       "      <td>7.811083</td>\n",
       "    </tr>\n",
       "    <tr>\n",
       "      <th>359</th>\n",
       "      <td>The Lion King</td>\n",
       "      <td>1994</td>\n",
       "      <td>5520</td>\n",
       "      <td>8</td>\n",
       "      <td>21.605761</td>\n",
       "      <td>[Family, Animation, Drama]</td>\n",
       "      <td>7.799185</td>\n",
       "    </tr>\n",
       "    <tr>\n",
       "      <th>18465</th>\n",
       "      <td>The Intouchables</td>\n",
       "      <td>2011</td>\n",
       "      <td>5410</td>\n",
       "      <td>8</td>\n",
       "      <td>16.086919</td>\n",
       "      <td>[Drama, Comedy]</td>\n",
       "      <td>7.795405</td>\n",
       "    </tr>\n",
       "    <tr>\n",
       "      <th>22841</th>\n",
       "      <td>The Grand Budapest Hotel</td>\n",
       "      <td>2014</td>\n",
       "      <td>4644</td>\n",
       "      <td>8</td>\n",
       "      <td>14.442048</td>\n",
       "      <td>[Comedy, Drama]</td>\n",
       "      <td>7.764542</td>\n",
       "    </tr>\n",
       "    <tr>\n",
       "      <th>586</th>\n",
       "      <td>The Silence of the Lambs</td>\n",
       "      <td>1991</td>\n",
       "      <td>4549</td>\n",
       "      <td>8</td>\n",
       "      <td>4.307222</td>\n",
       "      <td>[Crime, Drama, Thriller]</td>\n",
       "      <td>7.760053</td>\n",
       "    </tr>\n",
       "    <tr>\n",
       "      <th>11354</th>\n",
       "      <td>The Prestige</td>\n",
       "      <td>2006</td>\n",
       "      <td>4510</td>\n",
       "      <td>8</td>\n",
       "      <td>16.945560</td>\n",
       "      <td>[Drama, Mystery, Thriller]</td>\n",
       "      <td>7.758161</td>\n",
       "    </tr>\n",
       "    <tr>\n",
       "      <th>522</th>\n",
       "      <td>Schindler's List</td>\n",
       "      <td>1993</td>\n",
       "      <td>4436</td>\n",
       "      <td>8</td>\n",
       "      <td>41.725123</td>\n",
       "      <td>[Drama, History, War]</td>\n",
       "      <td>7.754486</td>\n",
       "    </tr>\n",
       "    <tr>\n",
       "      <th>23673</th>\n",
       "      <td>Whiplash</td>\n",
       "      <td>2014</td>\n",
       "      <td>4376</td>\n",
       "      <td>8</td>\n",
       "      <td>64.299990</td>\n",
       "      <td>[Drama]</td>\n",
       "      <td>7.751423</td>\n",
       "    </tr>\n",
       "    <tr>\n",
       "      <th>289</th>\n",
       "      <td>Leon: The Professional</td>\n",
       "      <td>1994</td>\n",
       "      <td>4293</td>\n",
       "      <td>8</td>\n",
       "      <td>20.477329</td>\n",
       "      <td>[Thriller, Crime, Drama]</td>\n",
       "      <td>7.747059</td>\n",
       "    </tr>\n",
       "    <tr>\n",
       "      <th>4099</th>\n",
       "      <td>Memento</td>\n",
       "      <td>2000</td>\n",
       "      <td>4168</td>\n",
       "      <td>8</td>\n",
       "      <td>15.450789</td>\n",
       "      <td>[Mystery, Thriller]</td>\n",
       "      <td>7.740188</td>\n",
       "    </tr>\n",
       "    <tr>\n",
       "      <th>3030</th>\n",
       "      <td>The Green Mile</td>\n",
       "      <td>1999</td>\n",
       "      <td>4166</td>\n",
       "      <td>8</td>\n",
       "      <td>19.966780</td>\n",
       "      <td>[Fantasy, Drama, Crime]</td>\n",
       "      <td>7.740075</td>\n",
       "    </tr>\n",
       "    <tr>\n",
       "      <th>5481</th>\n",
       "      <td>Spirited Away</td>\n",
       "      <td>2001</td>\n",
       "      <td>3968</td>\n",
       "      <td>8</td>\n",
       "      <td>41.048867</td>\n",
       "      <td>[Fantasy, Adventure, Animation, Family]</td>\n",
       "      <td>7.728384</td>\n",
       "    </tr>\n",
       "    <tr>\n",
       "      <th>1213</th>\n",
       "      <td>The Shining</td>\n",
       "      <td>1980</td>\n",
       "      <td>3890</td>\n",
       "      <td>8</td>\n",
       "      <td>19.611589</td>\n",
       "      <td>[Horror, Thriller]</td>\n",
       "      <td>7.723484</td>\n",
       "    </tr>\n",
       "    <tr>\n",
       "      <th>1057</th>\n",
       "      <td>Reservoir Dogs</td>\n",
       "      <td>1992</td>\n",
       "      <td>3821</td>\n",
       "      <td>8</td>\n",
       "      <td>12.220340</td>\n",
       "      <td>[Crime, Thriller]</td>\n",
       "      <td>7.719000</td>\n",
       "    </tr>\n",
       "    <tr>\n",
       "      <th>2211</th>\n",
       "      <td>Life Is Beautiful</td>\n",
       "      <td>1997</td>\n",
       "      <td>3643</td>\n",
       "      <td>8</td>\n",
       "      <td>39.394970</td>\n",
       "      <td>[Comedy, Drama]</td>\n",
       "      <td>7.706732</td>\n",
       "    </tr>\n",
       "  </tbody>\n",
       "</table>\n",
       "</div>"
      ],
      "text/plain": [
       "                                                   title  year  vote_count  \\\n",
       "15480                                          Inception  2010       14075   \n",
       "12481                                    The Dark Knight  2008       12269   \n",
       "22879                                       Interstellar  2014       11187   \n",
       "2843                                          Fight Club  1999        9678   \n",
       "4863   The Lord of the Rings: The Fellowship of the Ring  2001        8892   \n",
       "292                                         Pulp Fiction  1994        8670   \n",
       "314                             The Shawshank Redemption  1994        8358   \n",
       "7000       The Lord of the Rings: The Return of the King  2003        8226   \n",
       "351                                         Forrest Gump  1994        8147   \n",
       "5814               The Lord of the Rings: The Two Towers  2002        7641   \n",
       "256                                            Star Wars  1977        6778   \n",
       "1225                                  Back to the Future  1985        6239   \n",
       "834                                        The Godfather  1972        6024   \n",
       "1154                             The Empire Strikes Back  1980        5998   \n",
       "46                                                 Se7en  1995        5915   \n",
       "24860                                 The Imitation Game  2014        5895   \n",
       "359                                        The Lion King  1994        5520   \n",
       "18465                                   The Intouchables  2011        5410   \n",
       "22841                           The Grand Budapest Hotel  2014        4644   \n",
       "586                             The Silence of the Lambs  1991        4549   \n",
       "11354                                       The Prestige  2006        4510   \n",
       "522                                     Schindler's List  1993        4436   \n",
       "23673                                           Whiplash  2014        4376   \n",
       "289                               Leon: The Professional  1994        4293   \n",
       "4099                                             Memento  2000        4168   \n",
       "3030                                      The Green Mile  1999        4166   \n",
       "5481                                       Spirited Away  2001        3968   \n",
       "1213                                         The Shining  1980        3890   \n",
       "1057                                      Reservoir Dogs  1992        3821   \n",
       "2211                                   Life Is Beautiful  1997        3643   \n",
       "\n",
       "       vote_average  popularity  \\\n",
       "15480             8   29.108149   \n",
       "12481             8  123.167259   \n",
       "22879             8   32.213481   \n",
       "2843              8   63.869599   \n",
       "4863              8   32.070725   \n",
       "292               8  140.950236   \n",
       "314               8   51.645403   \n",
       "7000              8   29.324358   \n",
       "351               8   48.307194   \n",
       "5814              8   29.423537   \n",
       "256               8   42.149697   \n",
       "1225              8   25.778509   \n",
       "834               8   41.109264   \n",
       "1154              8   19.470959   \n",
       "46                8   18.457430   \n",
       "24860             8   31.595940   \n",
       "359               8   21.605761   \n",
       "18465             8   16.086919   \n",
       "22841             8   14.442048   \n",
       "586               8    4.307222   \n",
       "11354             8   16.945560   \n",
       "522               8   41.725123   \n",
       "23673             8   64.299990   \n",
       "289               8   20.477329   \n",
       "4099              8   15.450789   \n",
       "3030              8   19.966780   \n",
       "5481              8   41.048867   \n",
       "1213              8   19.611589   \n",
       "1057              8   12.220340   \n",
       "2211              8   39.394970   \n",
       "\n",
       "                                                  genres        wr  \n",
       "15480  [Action, Thriller, Science Fiction, Mystery, A...  7.917592  \n",
       "12481                   [Drama, Action, Crime, Thriller]  7.905876  \n",
       "22879                [Adventure, Drama, Science Fiction]  7.897113  \n",
       "2843                                             [Drama]  7.881759  \n",
       "4863                        [Adventure, Fantasy, Action]  7.871793  \n",
       "292                                    [Thriller, Crime]  7.868667  \n",
       "314                                       [Drama, Crime]  7.864007  \n",
       "7000                        [Adventure, Fantasy, Action]  7.861934  \n",
       "351                             [Comedy, Drama, Romance]  7.860663  \n",
       "5814                        [Adventure, Fantasy, Action]  7.851931  \n",
       "256                 [Adventure, Action, Science Fiction]  7.834213  \n",
       "1225        [Adventure, Comedy, Science Fiction, Family]  7.820822  \n",
       "834                                       [Drama, Crime]  7.814857  \n",
       "1154                [Adventure, Action, Science Fiction]  7.814108  \n",
       "46                            [Crime, Mystery, Thriller]  7.811678  \n",
       "24860                    [History, Drama, Thriller, War]  7.811083  \n",
       "359                           [Family, Animation, Drama]  7.799185  \n",
       "18465                                    [Drama, Comedy]  7.795405  \n",
       "22841                                    [Comedy, Drama]  7.764542  \n",
       "586                             [Crime, Drama, Thriller]  7.760053  \n",
       "11354                         [Drama, Mystery, Thriller]  7.758161  \n",
       "522                                [Drama, History, War]  7.754486  \n",
       "23673                                            [Drama]  7.751423  \n",
       "289                             [Thriller, Crime, Drama]  7.747059  \n",
       "4099                                 [Mystery, Thriller]  7.740188  \n",
       "3030                             [Fantasy, Drama, Crime]  7.740075  \n",
       "5481             [Fantasy, Adventure, Animation, Family]  7.728384  \n",
       "1213                                  [Horror, Thriller]  7.723484  \n",
       "1057                                   [Crime, Thriller]  7.719000  \n",
       "2211                                     [Comedy, Drama]  7.706732  "
      ]
     },
     "execution_count": 48,
     "metadata": {},
     "output_type": "execute_result"
    }
   ],
   "source": [
    "def weighted_rating(x):\n",
    "    v = x['vote_count']\n",
    "    R = x['vote_average']\n",
    "    return (v/(v+m) * R) + (m/(m+v) * C)\n",
    "\n",
    "qualified['wr'] = qualified.apply(weighted_rating, axis=1)\n",
    "qualified = qualified.sort_values('wr', ascending=False)\n",
    "qualified.head(30)"
   ]
  },
  {
   "cell_type": "markdown",
   "metadata": {},
   "source": [
    "The best 30 movies to receommend from IMDB's weighting rating is provided above."
   ]
  },
  {
   "cell_type": "markdown",
   "metadata": {},
   "source": [
    "## 3- Matrix Factorization-based algorithms\n",
    "\n",
    "The idea is basically to take a large (or potentially huge) matrix and factor it into some smaller representation of the original matrix. You can think of it in the same way as we would take a large number and factor it into two much smaller primes. We end up with two or more lower dimensional matrices whose product equals the original one.\n",
    "When we talk about collaborative filtering for recommender systems we want to solve the problem of our original matrix having millions of different dimensions, but our “tastes” not being nearly as complex. Even if i’ve viewed hundreds of items they might just express a couple of different tastes. Here we can actually use matrix factorization to mathematically reduce the dimensionality of our original “all users by all items” matrix into something much smaller that represents “all items by some taste dimensions” and “all users by some taste dimensions”. These dimensions are called latent or hidden features and we learn them from our data.\n",
    "Doing this reduction and working with fewer dimensions makes it both much more computationally efficient and but also gives us better results since we can reason about items in this more compact “taste space”.\n",
    "If we can express each user as a vector of their taste values, and at the same time express each item as a vector of what tastes they represent. You can see we can quite easily make a recommendation. This also gives us the ability to find connections between users who have no specific items in common but share common tastes.\n",
    "\n",
    "#### SVD \n",
    "SVD is a matrix factorization technique that is usually used to reduce the number of features of a data set by reducing space dimensions from N to K where K < N. For the purpose of the recommendation systems however, we are only interested in the matrix factorization part keeping same dimensionality. The matrix factorization is done on the user-item ratings matrix. From a high level, matrix factorization can be thought of as finding 2 matrices whose product is the original matrix. (https://medium.com/@m_n_malaeb/singular-value-decomposition-svd-in-recommender-systems-for-non-math-statistics-programming-4a622de653e9)\n",
    "\n",
    "I use **Surprise** library which has several powerful algorithms like **Singular Value Decomposition (SVD), Non-negative Matrix Factorization (NMF), K Nearest Neighbor (KNN), and CoClusternig**  to minimise RMSE (Root Mean Square Error) and give recommendations.\n",
    "\n",
    "- In the first part, the vote_average is predicted from the vote_count and the popularity.\n",
    "\n"
   ]
  },
  {
   "cell_type": "code",
   "execution_count": 49,
   "metadata": {},
   "outputs": [
    {
     "name": "stdout",
     "output_type": "stream",
     "text": [
      "Evaluating RMSE, MAE of algorithm SVD on 5 split(s).\n",
      "\n",
      "                  Fold 1  Fold 2  Fold 3  Fold 4  Fold 5  Mean    Std     \n",
      "RMSE (testset)    1.6135  1.6017  1.6002  1.6051  1.5833  1.6007  0.0099  \n",
      "MAE (testset)     1.3504  1.3289  1.3268  1.3305  1.3172  1.3307  0.0108  \n",
      "Fit time          4.84    7.97    6.00    5.30    5.33    5.89    1.11    \n",
      "Test time         0.11    0.20    0.11    0.23    0.11    0.15    0.05    \n",
      "Total Elapsed time with the SVD is: 31.72580361366272\n"
     ]
    }
   ],
   "source": [
    "data = Dataset.load_from_df(df1[['popularity','vote_count','vote_average']], Reader())\n",
    "start = time.time()\n",
    "cross_validate(SVD(), data, measures=['RMSE', 'MAE'], cv=5, verbose=True)\n",
    "end = time.time()\n",
    "print('Total Elapsed time with the SVD is:',end - start)"
   ]
  },
  {
   "cell_type": "markdown",
   "metadata": {},
   "source": [
    "- In the second part, the vote_average is predicted from the vote_count and the budget."
   ]
  },
  {
   "cell_type": "code",
   "execution_count": 50,
   "metadata": {},
   "outputs": [
    {
     "name": "stdout",
     "output_type": "stream",
     "text": [
      "Evaluating RMSE, MAE of algorithm SVD on 5 split(s).\n",
      "\n",
      "                  Fold 1  Fold 2  Fold 3  Fold 4  Fold 5  Mean    Std     \n",
      "RMSE (testset)    1.6114  1.6108  1.5814  1.5896  1.6005  1.5987  0.0118  \n",
      "MAE (testset)     1.3444  1.3439  1.3123  1.3195  1.3274  1.3295  0.0129  \n",
      "Fit time          3.55    4.06    4.47    3.70    3.64    3.88    0.34    \n",
      "Test time         0.09    0.08    0.11    0.09    0.08    0.09    0.01    \n",
      "Total Elapsed time with SVD is: 20.359972715377808\n"
     ]
    }
   ],
   "source": [
    "data = Dataset.load_from_df(df[['budget','vote_count','vote_average']], Reader())\n",
    "start = time.time()\n",
    "cross_validate(SVD(), data, measures=['RMSE', 'MAE'], cv=5, verbose=True)\n",
    "end = time.time()\n",
    "print('Total Elapsed time with SVD is:',end - start)"
   ]
  },
  {
   "cell_type": "markdown",
   "metadata": {},
   "source": [
    "\n",
    "### In this section I applied different machine learning techniques to find the best model with the lowest RMSE."
   ]
  },
  {
   "cell_type": "markdown",
   "metadata": {},
   "source": [
    "## 4- Random Forest Regression\n",
    "\n",
    "Random forest is a type of supervised machine learning algorithm based on ensemble learning. The random forest algorithm combines multiple algorithm of the same type i.e. multiple decision trees, resulting in a forest of trees, hence the name \"Random Forest\".\n",
    "\n",
    "I check random forest regressor to find the vote_average base on some features 'id', 'popularity', 'movieId', 'vote_count', 'revenue', 'budget'.\n",
    "\n",
    "I have checked different number of estimators to get the minimum RMSE."
   ]
  },
  {
   "cell_type": "code",
   "execution_count": 51,
   "metadata": {},
   "outputs": [
    {
     "name": "stdout",
     "output_type": "stream",
     "text": [
      "Total Elapsed time with model is: 28.215449810028076\n",
      "RMSE value for n_estimator=  100 is: 1.230501506418753\n",
      "\n",
      "Total Elapsed time with model is: 31.374329328536987\n",
      "RMSE value for n_estimator=  110 is: 1.2297851910704445\n",
      "\n",
      "Total Elapsed time with model is: 37.9064404964447\n",
      "RMSE value for n_estimator=  120 is: 1.2291184320901682\n",
      "\n",
      "Total Elapsed time with model is: 36.906747579574585\n",
      "RMSE value for n_estimator=  130 is: 1.2285653671442673\n",
      "\n",
      "Total Elapsed time with model is: 46.061957120895386\n",
      "RMSE value for n_estimator=  140 is: 1.228152851883824\n",
      "\n",
      "Total Elapsed time with model is: 44.93423366546631\n",
      "RMSE value for n_estimator=  150 is: 1.2278656497690312\n",
      "\n",
      "Total Elapsed time with model is: 46.453067779541016\n",
      "RMSE value for n_estimator=  160 is: 1.2273117394335689\n",
      "\n",
      "Total Elapsed time with model is: 53.81268286705017\n",
      "RMSE value for n_estimator=  170 is: 1.2268291900261832\n",
      "\n",
      "Total Elapsed time with model is: 51.734548568725586\n",
      "RMSE value for n_estimator=  180 is: 1.2270316755432094\n",
      "\n",
      "Total Elapsed time with model is: 58.96215224266052\n",
      "RMSE value for n_estimator=  190 is: 1.22688515828762\n",
      "\n"
     ]
    }
   ],
   "source": [
    "from sklearn.model_selection import train_test_split\n",
    "\n",
    "X_train, X_test, y_train, y_test=train_test_split(df[['id','popularity','movieId','vote_count','revenue','budget']],\n",
    "                                                  df['vote_average'],test_size=0.25, \n",
    "                                                  random_state=55)\n",
    "sc = StandardScaler()  \n",
    "X_train = sc.fit_transform(X_train)  \n",
    "X_test = sc.transform(X_test)  \n",
    "\n",
    "for i in range(100,200,10):\n",
    "    start = time.time()\n",
    "    regressor = RandomForestRegressor(n_estimators=i, random_state=0)  \n",
    "    regressor.fit(X_train, y_train)  \n",
    "    end = time.time()\n",
    "    print('Total Elapsed time with model is:',end - start)\n",
    "    y_pred = regressor.predict(X_test)  \n",
    "\n",
    "    #RMSE\n",
    "    rmse = np.linalg.norm(y_pred - y_test) / np.sqrt(len(y_pred))\n",
    "    print('RMSE value for n_estimator= ', i , 'is:', rmse)\n",
    "    print('')"
   ]
  },
  {
   "cell_type": "markdown",
   "metadata": {},
   "source": [
    "The minimum RMSE is achieved with n_estimator=170."
   ]
  },
  {
   "cell_type": "markdown",
   "metadata": {},
   "source": [
    "## 5- Support Vector Regression\n",
    "\n",
    "Support Vector Machine can also be used as a regression method, maintaining all the main features that characterize the algorithm (maximal margin). The Support Vector Regression (SVR) uses the same principles as the SVM for classification, with only a few minor differences. First of all, because output is a real number it becomes very difficult to predict the information at hand, which has infinite possibilities. In the case of regression, a margin of tolerance (epsilon) is set in approximation to the SVM which would have already requested from the problem. But besides this fact, there is also a more complicated reason, the algorithm is more complicated therefore to be taken in consideration. However, the main idea is always the same: to minimize error, individualizing the hyperplane which maximizes the margin, keeping in mind that part of the error is tolerated. \t\t![My Title](s.png)\n",
    "\n",
    "\n"
   ]
  },
  {
   "cell_type": "code",
   "execution_count": 52,
   "metadata": {},
   "outputs": [
    {
     "name": "stdout",
     "output_type": "stream",
     "text": [
      "Total Elapsed time with model is: 86.35217189788818\n",
      "SVR RMSE (gamma=.01, C=100) is: 1.8604387694736897\n",
      "\n",
      "Total Elapsed time with model is: 80.72496223449707\n",
      "SVR RMSE(gamma=0.001, C=100) is: 1.8819087974081985\n",
      "\n",
      "Total Elapsed time with model is: 68.56248378753662\n",
      "SVR RMSE(gamma=0.001, C=10) is: 1.888942925254787\n",
      "\n"
     ]
    }
   ],
   "source": [
    "start=time.time()\n",
    "svr_reg = SVR(gamma=0.01, C=100.0, epsilon=0.2)\n",
    "svr_reg.fit(X_train, y_train)\n",
    "end=time.time()\n",
    "print('Total Elapsed time with model is:',end - start)\n",
    "pred=svr_reg.predict(X_test) \n",
    "error = np.sqrt(mean_squared_error(y_test,pred)) \n",
    "print('SVR RMSE (gamma=.01, C=100) is:',error)\n",
    "print('')\n",
    "\n",
    "start=time.time()\n",
    "svr_reg = SVR(gamma=0.001, C=100.0, epsilon=0.2)\n",
    "svr_reg.fit(X_train, y_train)\n",
    "end=time.time()\n",
    "print('Total Elapsed time with model is:',end - start)\n",
    "pred=svr_reg.predict(X_test) \n",
    "error = np.sqrt(mean_squared_error(y_test,pred)) \n",
    "print('SVR RMSE(gamma=0.001, C=100) is:',error)\n",
    "print('')\n",
    "\n",
    "start=time.time()\n",
    "svr_reg = SVR(gamma=0.001, C=10.0, epsilon=0.2)\n",
    "svr_reg.fit(X_train, y_train)\n",
    "end=time.time()\n",
    "print('Total Elapsed time with model is:',end - start)\n",
    "pred=svr_reg.predict(X_test) \n",
    "error = np.sqrt(mean_squared_error(y_test,pred)) \n",
    "print('SVR RMSE(gamma=0.001, C=10) is:',error)\n",
    "print('')"
   ]
  },
  {
   "cell_type": "markdown",
   "metadata": {},
   "source": [
    "As it can see from the results, although SVR is a strong technique for prediction but is slow and it is essential to tune the parameters and the RMSE is not as small as random forest. "
   ]
  },
  {
   "cell_type": "markdown",
   "metadata": {},
   "source": [
    "## 6- K-Nearest Neighbors (Regression)"
   ]
  },
  {
   "cell_type": "code",
   "execution_count": 53,
   "metadata": {},
   "outputs": [
    {
     "name": "stdout",
     "output_type": "stream",
     "text": [
      "RMSE value for k= 11 is: 1.8038207834268334\n",
      "RMSE value for k= 13 is: 1.7934131089891299\n",
      "RMSE value for k= 15 is: 1.78986557123273\n",
      "RMSE value for k= 17 is: 1.786579572380617\n",
      "RMSE value for k= 19 is: 1.783226039661783\n"
     ]
    }
   ],
   "source": [
    "rmse_val = [] \n",
    "for K in range(10,20,2):\n",
    "    K = K+1\n",
    "    model = neighbors.KNeighborsRegressor(n_neighbors = K)\n",
    "\n",
    "    model.fit(X_train, y_train)  #fit the model\n",
    "    pred=model.predict(X_test) \n",
    "    error = sqrt(mean_squared_error(y_test,pred)) \n",
    "    rmse_val.append(error)\n",
    "    print('RMSE value for k=' , K , 'is:', error)"
   ]
  },
  {
   "cell_type": "markdown",
   "metadata": {},
   "source": [
    "KNN is fast but the RMSE is not as small as random forest."
   ]
  },
  {
   "cell_type": "markdown",
   "metadata": {},
   "source": [
    "## Conclusion: \n",
    "\n",
    "- The lowest RMSE=1.2268 is achieved with **Random Forest** with 170 estimators. Random Forest could be a good model for predicting the average score of the movies. \n"
   ]
  },
  {
   "cell_type": "code",
   "execution_count": null,
   "metadata": {},
   "outputs": [],
   "source": []
  }
 ],
 "metadata": {
  "kernelspec": {
   "display_name": "Python 3",
   "language": "python",
   "name": "python3"
  },
  "language_info": {
   "codemirror_mode": {
    "name": "ipython",
    "version": 3
   },
   "file_extension": ".py",
   "mimetype": "text/x-python",
   "name": "python",
   "nbconvert_exporter": "python",
   "pygments_lexer": "ipython3",
   "version": "3.6.5"
  }
 },
 "nbformat": 4,
 "nbformat_minor": 2
}
