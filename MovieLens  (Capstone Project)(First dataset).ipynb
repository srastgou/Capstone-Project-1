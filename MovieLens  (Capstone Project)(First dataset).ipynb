{
 "cells": [
  {
   "cell_type": "markdown",
   "metadata": {},
   "source": [
    "![My Title](coverpage.png)"
   ]
  },
  {
   "cell_type": "markdown",
   "metadata": {},
   "source": [
    "# First DataSet: MovieLens\n",
    "(https://grouplens.org/datasets/movielens)\n",
    "\n",
    "## Problem Statement\n",
    "\n",
    "Nowadays, we need recommender systems almost everywhere in our lives. Therefore, retailers are become more interested in recommender systems to analyze patterns of user interest in products and provide personalized recommendations. The first goal of this project is understanding, analyzing, and correlating the trend in average rating movies of different genres from 1995-2015. The second goal is building a recommender engine to predict the rating of each movie. \n",
    "\n",
    "## Business Objective\n",
    "\n",
    "The recommender system is useful to any business that makes money via recommendations. Since we want to work with movie dataset, the client of this project could be Amazon, Netflix, Hulu, HBO, etc. \n",
    "Giving good recommendations will help users spend less time searching for their type of movie and having a recommender platform. This will help the customer to continue with the service and having a good experience.\n",
    "\n",
    "## Data\n",
    "\n",
    "I use two datasets for this project as:\n",
    "\n",
    "1-The first dataset is collected from a free, noncommercial movie recommender as  MoviLens.org. (https://grouplens.org/datasets/movielens).\n",
    " This recommender is like Netflix, minus the ability to watch movies. The dataset which was released in April 2015 contains 20 million ratings and 465,000 tag applications applied to 27,000 movies by 138,000 users (movies.csv, ratings.csv, link.csv). The data has been created in October 2016. Users were selected at random for inclusion. All selected users had rated at least 20 movies.\n",
    " \n",
    "2- The second dataset is collected from (https://www.kaggle.com/karrrimba/movie-metadatacsv). We have more features in this dataset like information about revenue, budget, release date, popularity,... .\n",
    "\n",
    "## Solution\n",
    "\n",
    "__1- How to get the insight about how people’s rating change for different genres over the years?__\n",
    "\n",
    "Getting different distributions of the movie-ratings and movie-relevancy across title, genre, year, and tag of each movie can give the insight about how people’s taste vary over the years. Different inferential statistics and visualization techniques can be implemented to deliver a better understanding of the trends.\n",
    "\n",
    "__2- How to recommend movies?__\n",
    "\n",
    "In this work different Collaborative filtering (CF)  and Content-based filtering techniques will be used to analyze relationships between users and interdependencies among products to identify new user-item associations. Most CF algorithms are based on a user-item rating matrix where each row represents a user, each column an item. The entries of this matrix are ratings given by users to items. One of the primary areas of collaborative filtering is the latent factor models which are based on matrix factorization (Singular value decomposition (SVD)).\n",
    "\n",
    "__3- How to predict movie ratings?__\n",
    "\n",
    "In this work different machine learning techniques like Random Forest, Support Vector Machine, K-Nearest Neighbors,... will be implemented to predict the rating of the test set.\n",
    "\n",
    "\n",
    "## Workflow\n",
    "\n",
    "- Collecting data and applying data wrangling methods\n",
    "- Starting exploratory data analysis to find trends and storytelling\n",
    "- Conduct further data analysis to identify relationships between different variables\n",
    "- Perform in-depth analysis using collaborative filtering and machine learning techniques to recommend and  predict\n"
   ]
  },
  {
   "cell_type": "markdown",
   "metadata": {},
   "source": [
    "## Import libraries, Read the data"
   ]
  },
  {
   "cell_type": "code",
   "execution_count": 1,
   "metadata": {},
   "outputs": [
    {
     "name": "stderr",
     "output_type": "stream",
     "text": [
      "C:\\Python\\Anaconda3\\lib\\site-packages\\h5py\\__init__.py:36: FutureWarning: Conversion of the second argument of issubdtype from `float` to `np.floating` is deprecated. In future, it will be treated as `np.float64 == np.dtype(float).type`.\n",
      "  from ._conv import register_converters as _register_converters\n"
     ]
    }
   ],
   "source": [
    "%matplotlib inline\n",
    "import pandas as pd\n",
    "import numpy as np\n",
    "import matplotlib.pyplot as plt\n",
    "import seaborn as sns\n",
    "from scipy import stats\n",
    "import time\n",
    "from ast import literal_eval\n",
    "from sklearn.feature_extraction.text import TfidfVectorizer, CountVectorizer\n",
    "from sklearn.metrics.pairwise import linear_kernel, cosine_similarity\n",
    "from nltk.stem.snowball import SnowballStemmer\n",
    "from nltk.stem.wordnet import WordNetLemmatizer\n",
    "from nltk.corpus import wordnet\n",
    "from surprise import Reader, Dataset, SVD, evaluate, SlopeOne, NMF, SVDpp, KNNBaseline, CoClustering, accuracy\n",
    "from surprise.model_selection import cross_validate\n",
    "from __future__ import (absolute_import, division, print_function,unicode_literals)\n",
    "from sklearn.model_selection import train_test_split\n",
    "from wordcloud import WordCloud, STOPWORDS, ImageColorGenerator\n",
    "import sys\n",
    "import scipy.sparse as sparse\n",
    "from scipy.sparse.linalg import spsolve\n",
    "import random\n",
    "from sklearn.preprocessing import MinMaxScaler\n",
    "import implicit\n",
    "import tensorrec"
   ]
  },
  {
   "cell_type": "markdown",
   "metadata": {},
   "source": [
    "Reading the data"
   ]
  },
  {
   "cell_type": "code",
   "execution_count": 2,
   "metadata": {},
   "outputs": [
    {
     "data": {
      "text/html": [
       "<div>\n",
       "<style scoped>\n",
       "    .dataframe tbody tr th:only-of-type {\n",
       "        vertical-align: middle;\n",
       "    }\n",
       "\n",
       "    .dataframe tbody tr th {\n",
       "        vertical-align: top;\n",
       "    }\n",
       "\n",
       "    .dataframe thead th {\n",
       "        text-align: right;\n",
       "    }\n",
       "</style>\n",
       "<table border=\"1\" class=\"dataframe\">\n",
       "  <thead>\n",
       "    <tr style=\"text-align: right;\">\n",
       "      <th></th>\n",
       "      <th>userId</th>\n",
       "      <th>movieId</th>\n",
       "      <th>rating</th>\n",
       "      <th>timestamp</th>\n",
       "    </tr>\n",
       "  </thead>\n",
       "  <tbody>\n",
       "    <tr>\n",
       "      <th>0</th>\n",
       "      <td>1</td>\n",
       "      <td>2</td>\n",
       "      <td>3.5</td>\n",
       "      <td>1112486027</td>\n",
       "    </tr>\n",
       "    <tr>\n",
       "      <th>1</th>\n",
       "      <td>1</td>\n",
       "      <td>29</td>\n",
       "      <td>3.5</td>\n",
       "      <td>1112484676</td>\n",
       "    </tr>\n",
       "    <tr>\n",
       "      <th>2</th>\n",
       "      <td>1</td>\n",
       "      <td>32</td>\n",
       "      <td>3.5</td>\n",
       "      <td>1112484819</td>\n",
       "    </tr>\n",
       "    <tr>\n",
       "      <th>3</th>\n",
       "      <td>1</td>\n",
       "      <td>47</td>\n",
       "      <td>3.5</td>\n",
       "      <td>1112484727</td>\n",
       "    </tr>\n",
       "    <tr>\n",
       "      <th>4</th>\n",
       "      <td>1</td>\n",
       "      <td>50</td>\n",
       "      <td>3.5</td>\n",
       "      <td>1112484580</td>\n",
       "    </tr>\n",
       "  </tbody>\n",
       "</table>\n",
       "</div>"
      ],
      "text/plain": [
       "   userId  movieId  rating   timestamp\n",
       "0       1        2     3.5  1112486027\n",
       "1       1       29     3.5  1112484676\n",
       "2       1       32     3.5  1112484819\n",
       "3       1       47     3.5  1112484727\n",
       "4       1       50     3.5  1112484580"
      ]
     },
     "execution_count": 2,
     "metadata": {},
     "output_type": "execute_result"
    }
   ],
   "source": [
    "r=pd.read_csv('ratings.csv')\n",
    "r.head()"
   ]
  },
  {
   "cell_type": "code",
   "execution_count": 3,
   "metadata": {},
   "outputs": [
    {
     "data": {
      "text/html": [
       "<div>\n",
       "<style scoped>\n",
       "    .dataframe tbody tr th:only-of-type {\n",
       "        vertical-align: middle;\n",
       "    }\n",
       "\n",
       "    .dataframe tbody tr th {\n",
       "        vertical-align: top;\n",
       "    }\n",
       "\n",
       "    .dataframe thead th {\n",
       "        text-align: right;\n",
       "    }\n",
       "</style>\n",
       "<table border=\"1\" class=\"dataframe\">\n",
       "  <thead>\n",
       "    <tr style=\"text-align: right;\">\n",
       "      <th></th>\n",
       "      <th>movieId</th>\n",
       "      <th>title</th>\n",
       "      <th>genres</th>\n",
       "    </tr>\n",
       "  </thead>\n",
       "  <tbody>\n",
       "    <tr>\n",
       "      <th>0</th>\n",
       "      <td>1</td>\n",
       "      <td>Toy Story (1995)</td>\n",
       "      <td>Adventure|Animation|Children|Comedy|Fantasy</td>\n",
       "    </tr>\n",
       "    <tr>\n",
       "      <th>1</th>\n",
       "      <td>2</td>\n",
       "      <td>Jumanji (1995)</td>\n",
       "      <td>Adventure|Children|Fantasy</td>\n",
       "    </tr>\n",
       "    <tr>\n",
       "      <th>2</th>\n",
       "      <td>3</td>\n",
       "      <td>Grumpier Old Men (1995)</td>\n",
       "      <td>Comedy|Romance</td>\n",
       "    </tr>\n",
       "    <tr>\n",
       "      <th>3</th>\n",
       "      <td>4</td>\n",
       "      <td>Waiting to Exhale (1995)</td>\n",
       "      <td>Comedy|Drama|Romance</td>\n",
       "    </tr>\n",
       "    <tr>\n",
       "      <th>4</th>\n",
       "      <td>5</td>\n",
       "      <td>Father of the Bride Part II (1995)</td>\n",
       "      <td>Comedy</td>\n",
       "    </tr>\n",
       "  </tbody>\n",
       "</table>\n",
       "</div>"
      ],
      "text/plain": [
       "   movieId                               title  \\\n",
       "0        1                    Toy Story (1995)   \n",
       "1        2                      Jumanji (1995)   \n",
       "2        3             Grumpier Old Men (1995)   \n",
       "3        4            Waiting to Exhale (1995)   \n",
       "4        5  Father of the Bride Part II (1995)   \n",
       "\n",
       "                                        genres  \n",
       "0  Adventure|Animation|Children|Comedy|Fantasy  \n",
       "1                   Adventure|Children|Fantasy  \n",
       "2                               Comedy|Romance  \n",
       "3                         Comedy|Drama|Romance  \n",
       "4                                       Comedy  "
      ]
     },
     "execution_count": 3,
     "metadata": {},
     "output_type": "execute_result"
    }
   ],
   "source": [
    "movies=pd.read_csv('movies.csv')\n",
    "movies.head()"
   ]
  },
  {
   "cell_type": "code",
   "execution_count": 4,
   "metadata": {},
   "outputs": [
    {
     "name": "stdout",
     "output_type": "stream",
     "text": [
      "<class 'pandas.core.frame.DataFrame'>\n",
      "RangeIndex: 27278 entries, 0 to 27277\n",
      "Data columns (total 3 columns):\n",
      "movieId    27278 non-null int64\n",
      "title      27278 non-null object\n",
      "genres     27278 non-null object\n",
      "dtypes: int64(1), object(2)\n",
      "memory usage: 639.4+ KB\n"
     ]
    }
   ],
   "source": [
    "movies.info()"
   ]
  },
  {
   "cell_type": "markdown",
   "metadata": {},
   "source": [
    "# Data Wrangling"
   ]
  },
  {
   "cell_type": "code",
   "execution_count": 5,
   "metadata": {},
   "outputs": [
    {
     "data": {
      "text/html": [
       "<div>\n",
       "<style scoped>\n",
       "    .dataframe tbody tr th:only-of-type {\n",
       "        vertical-align: middle;\n",
       "    }\n",
       "\n",
       "    .dataframe tbody tr th {\n",
       "        vertical-align: top;\n",
       "    }\n",
       "\n",
       "    .dataframe thead th {\n",
       "        text-align: right;\n",
       "    }\n",
       "</style>\n",
       "<table border=\"1\" class=\"dataframe\">\n",
       "  <thead>\n",
       "    <tr style=\"text-align: right;\">\n",
       "      <th></th>\n",
       "      <th>title</th>\n",
       "      <th>genres</th>\n",
       "      <th>year</th>\n",
       "      <th>Decade</th>\n",
       "    </tr>\n",
       "    <tr>\n",
       "      <th>movieId</th>\n",
       "      <th></th>\n",
       "      <th></th>\n",
       "      <th></th>\n",
       "      <th></th>\n",
       "    </tr>\n",
       "  </thead>\n",
       "  <tbody>\n",
       "    <tr>\n",
       "      <th>129851</th>\n",
       "      <td>Dickson Greeting (1891)</td>\n",
       "      <td>[(no genres listed)]</td>\n",
       "      <td>1891</td>\n",
       "      <td>1890</td>\n",
       "    </tr>\n",
       "    <tr>\n",
       "      <th>95541</th>\n",
       "      <td>Blacksmith Scene (1893)</td>\n",
       "      <td>[(no genres listed)]</td>\n",
       "      <td>1893</td>\n",
       "      <td>1890</td>\n",
       "    </tr>\n",
       "    <tr>\n",
       "      <th>94951</th>\n",
       "      <td>Dickson Experimental Sound Film (1894)</td>\n",
       "      <td>[Musical]</td>\n",
       "      <td>1894</td>\n",
       "      <td>1890</td>\n",
       "    </tr>\n",
       "    <tr>\n",
       "      <th>88674</th>\n",
       "      <td>Edison Kinetoscopic Record of a Sneeze (1894)</td>\n",
       "      <td>[Documentary]</td>\n",
       "      <td>1894</td>\n",
       "      <td>1890</td>\n",
       "    </tr>\n",
       "    <tr>\n",
       "      <th>120869</th>\n",
       "      <td>Employees Leaving the Lumière Factory (1895)</td>\n",
       "      <td>[Documentary]</td>\n",
       "      <td>1895</td>\n",
       "      <td>1890</td>\n",
       "    </tr>\n",
       "  </tbody>\n",
       "</table>\n",
       "</div>"
      ],
      "text/plain": [
       "                                                 title                genres  \\\n",
       "movieId                                                                        \n",
       "129851                         Dickson Greeting (1891)  [(no genres listed)]   \n",
       "95541                          Blacksmith Scene (1893)  [(no genres listed)]   \n",
       "94951           Dickson Experimental Sound Film (1894)             [Musical]   \n",
       "88674    Edison Kinetoscopic Record of a Sneeze (1894)         [Documentary]   \n",
       "120869    Employees Leaving the Lumière Factory (1895)         [Documentary]   \n",
       "\n",
       "         year  Decade  \n",
       "movieId                \n",
       "129851   1891    1890  \n",
       "95541    1893    1890  \n",
       "94951    1894    1890  \n",
       "88674    1894    1890  \n",
       "120869   1895    1890  "
      ]
     },
     "execution_count": 5,
     "metadata": {},
     "output_type": "execute_result"
    }
   ],
   "source": [
    "movies['genres'] = movies['genres'].str.split('|')\n",
    "movies['year']=movies['title'].str[-5:-1]\n",
    "movies=movies[(movies['title'].str[-1]==')')&(movies['title'].str[-6]=='(')] #drop the movies without year in title\n",
    "movies.year=pd.to_numeric(movies.year)\n",
    "movies['Decade']=movies['year']//10 *10\n",
    "movies=movies.set_index('movieId')\n",
    "movies.sort_values('year').head() "
   ]
  },
  {
   "cell_type": "markdown",
   "metadata": {},
   "source": [
    "** Seperating each Genre**"
   ]
  },
  {
   "cell_type": "code",
   "execution_count": 6,
   "metadata": {},
   "outputs": [
    {
     "name": "stdout",
     "output_type": "stream",
     "text": [
      "Available Genres:  ['Adventure' 'Animation' 'Children' 'Comedy' 'Fantasy' 'Romance' 'Drama'\n",
      " 'Action' 'Crime' 'Thriller' 'Horror' 'Mystery' 'Sci-Fi' 'IMAX'\n",
      " 'Documentary' 'War' 'Musical' 'Western' 'Film-Noir' '(no genres listed)']\n"
     ]
    },
    {
     "data": {
      "text/html": [
       "<div>\n",
       "<style scoped>\n",
       "    .dataframe tbody tr th:only-of-type {\n",
       "        vertical-align: middle;\n",
       "    }\n",
       "\n",
       "    .dataframe tbody tr th {\n",
       "        vertical-align: top;\n",
       "    }\n",
       "\n",
       "    .dataframe thead th {\n",
       "        text-align: right;\n",
       "    }\n",
       "</style>\n",
       "<table border=\"1\" class=\"dataframe\">\n",
       "  <thead>\n",
       "    <tr style=\"text-align: right;\">\n",
       "      <th></th>\n",
       "      <th>movieId</th>\n",
       "      <th>title</th>\n",
       "      <th>year</th>\n",
       "      <th>level</th>\n",
       "      <th>genres</th>\n",
       "    </tr>\n",
       "  </thead>\n",
       "  <tbody>\n",
       "    <tr>\n",
       "      <th>0</th>\n",
       "      <td>1</td>\n",
       "      <td>Toy Story (1995)</td>\n",
       "      <td>1995</td>\n",
       "      <td>0</td>\n",
       "      <td>Adventure</td>\n",
       "    </tr>\n",
       "    <tr>\n",
       "      <th>1</th>\n",
       "      <td>1</td>\n",
       "      <td>Toy Story (1995)</td>\n",
       "      <td>1995</td>\n",
       "      <td>1</td>\n",
       "      <td>Animation</td>\n",
       "    </tr>\n",
       "    <tr>\n",
       "      <th>2</th>\n",
       "      <td>1</td>\n",
       "      <td>Toy Story (1995)</td>\n",
       "      <td>1995</td>\n",
       "      <td>2</td>\n",
       "      <td>Children</td>\n",
       "    </tr>\n",
       "    <tr>\n",
       "      <th>3</th>\n",
       "      <td>1</td>\n",
       "      <td>Toy Story (1995)</td>\n",
       "      <td>1995</td>\n",
       "      <td>3</td>\n",
       "      <td>Comedy</td>\n",
       "    </tr>\n",
       "    <tr>\n",
       "      <th>4</th>\n",
       "      <td>1</td>\n",
       "      <td>Toy Story (1995)</td>\n",
       "      <td>1995</td>\n",
       "      <td>4</td>\n",
       "      <td>Fantasy</td>\n",
       "    </tr>\n",
       "  </tbody>\n",
       "</table>\n",
       "</div>"
      ],
      "text/plain": [
       "   movieId             title  year  level     genres\n",
       "0        1  Toy Story (1995)  1995      0  Adventure\n",
       "1        1  Toy Story (1995)  1995      1  Animation\n",
       "2        1  Toy Story (1995)  1995      2   Children\n",
       "3        1  Toy Story (1995)  1995      3     Comedy\n",
       "4        1  Toy Story (1995)  1995      4    Fantasy"
      ]
     },
     "execution_count": 6,
     "metadata": {},
     "output_type": "execute_result"
    }
   ],
   "source": [
    "sep = movies.reset_index().set_index(['movieId','title','year'])['genres'].apply(pd.Series).stack()\n",
    "sep = sep.reset_index()\n",
    "sep.columns=['movieId','title','year','level','genres']\n",
    "sep.to_csv('sep.csv')\n",
    "print('Available Genres: ',sep.genres.unique())\n",
    "sep.head()"
   ]
  },
  {
   "cell_type": "markdown",
   "metadata": {},
   "source": [
    "# Exploratory Data Analysis (Storytelling)"
   ]
  },
  {
   "cell_type": "code",
   "execution_count": 7,
   "metadata": {},
   "outputs": [
    {
     "data": {
      "text/html": [
       "<div>\n",
       "<style scoped>\n",
       "    .dataframe tbody tr th:only-of-type {\n",
       "        vertical-align: middle;\n",
       "    }\n",
       "\n",
       "    .dataframe tbody tr th {\n",
       "        vertical-align: top;\n",
       "    }\n",
       "\n",
       "    .dataframe thead th {\n",
       "        text-align: right;\n",
       "    }\n",
       "</style>\n",
       "<table border=\"1\" class=\"dataframe\">\n",
       "  <thead>\n",
       "    <tr style=\"text-align: right;\">\n",
       "      <th></th>\n",
       "      <th>rating</th>\n",
       "      <th>num of ratings</th>\n",
       "    </tr>\n",
       "    <tr>\n",
       "      <th>title</th>\n",
       "      <th></th>\n",
       "      <th></th>\n",
       "    </tr>\n",
       "  </thead>\n",
       "  <tbody>\n",
       "    <tr>\n",
       "      <th>\"Great Performances\" Cats (1998)</th>\n",
       "      <td>2.748387</td>\n",
       "      <td>155</td>\n",
       "    </tr>\n",
       "    <tr>\n",
       "      <th>#chicagoGirl: The Social Network Takes on a Dictator (2013)</th>\n",
       "      <td>3.666667</td>\n",
       "      <td>3</td>\n",
       "    </tr>\n",
       "    <tr>\n",
       "      <th>$ (Dollars) (1971)</th>\n",
       "      <td>2.833333</td>\n",
       "      <td>24</td>\n",
       "    </tr>\n",
       "    <tr>\n",
       "      <th>$5 a Day (2008)</th>\n",
       "      <td>2.871795</td>\n",
       "      <td>39</td>\n",
       "    </tr>\n",
       "    <tr>\n",
       "      <th>$9.99 (2008)</th>\n",
       "      <td>3.009091</td>\n",
       "      <td>55</td>\n",
       "    </tr>\n",
       "  </tbody>\n",
       "</table>\n",
       "</div>"
      ],
      "text/plain": [
       "                                                      rating  num of ratings\n",
       "title                                                                       \n",
       "\"Great Performances\" Cats (1998)                    2.748387             155\n",
       "#chicagoGirl: The Social Network Takes on a Dic...  3.666667               3\n",
       "$ (Dollars) (1971)                                  2.833333              24\n",
       "$5 a Day (2008)                                     2.871795              39\n",
       "$9.99 (2008)                                        3.009091              55"
      ]
     },
     "execution_count": 7,
     "metadata": {},
     "output_type": "execute_result"
    }
   ],
   "source": [
    "df = pd.merge(r,movies,on='movieId')\n",
    "ratings = pd.DataFrame(df.groupby('title')['rating'].mean())\n",
    "ratings['num of ratings'] = pd.DataFrame(df.groupby('title')['rating'].count())\n",
    "ratings.head()"
   ]
  },
  {
   "cell_type": "code",
   "execution_count": 8,
   "metadata": {},
   "outputs": [
    {
     "data": {
      "image/png": "[encoded data removed]",
      "text/plain": [
       "<Figure size 432x288 with 1 Axes>"
      ]
     },
     "metadata": {},
     "output_type": "display_data"
    }
   ],
   "source": [
    "ratings['num of ratings'].plot(logy=True, kind='hist')\n",
    "plt.show()"
   ]
  },
  {
   "cell_type": "code",
   "execution_count": 9,
   "metadata": {},
   "outputs": [
    {
     "data": {
      "image/png": "[encoded data removed]",
      "text/plain": [
       "<Figure size 720x288 with 1 Axes>"
      ]
     },
     "metadata": {},
     "output_type": "display_data"
    }
   ],
   "source": [
    "plt.figure(figsize=(10,4))\n",
    "ratings['rating'].hist(bins=70)\n",
    "plt.show()"
   ]
  },
  {
   "cell_type": "code",
   "execution_count": 10,
   "metadata": {},
   "outputs": [
    {
     "name": "stderr",
     "output_type": "stream",
     "text": [
      "C:\\Python\\Anaconda3\\lib\\site-packages\\matplotlib\\axes\\_axes.py:6462: UserWarning: The 'normed' kwarg is deprecated, and has been replaced by the 'density' kwarg.\n",
      "  warnings.warn(\"The 'normed' kwarg is deprecated, and has been \"\n",
      "C:\\Python\\Anaconda3\\lib\\site-packages\\matplotlib\\axes\\_axes.py:6462: UserWarning: The 'normed' kwarg is deprecated, and has been replaced by the 'density' kwarg.\n",
      "  warnings.warn(\"The 'normed' kwarg is deprecated, and has been \"\n"
     ]
    },
    {
     "data": {
      "image/png": "[encoded data removed]",
      "text/plain": [
       "<Figure size 432x432 with 3 Axes>"
      ]
     },
     "metadata": {},
     "output_type": "display_data"
    }
   ],
   "source": [
    "sns.jointplot(x='rating',y='num of ratings',data=ratings,alpha=0.5)\n",
    "plt.show()"
   ]
  },
  {
   "cell_type": "markdown",
   "metadata": {},
   "source": [
    "Total number of movies of each Genre\n",
    "\n",
    "**Drama, Comedy, and Thriller** have the most production.\n"
   ]
  },
  {
   "cell_type": "code",
   "execution_count": 11,
   "metadata": {},
   "outputs": [
    {
     "data": {
      "image/png": "[encoded data removed]",
      "text/plain": [
       "<Figure size 576x360 with 1 Axes>"
      ]
     },
     "metadata": {},
     "output_type": "display_data"
    }
   ],
   "source": [
    "plt.figure(figsize=(8,5))\n",
    "sep['genres'].value_counts().plot(kind='bar')\n",
    "plt.ylabel('Number of movies in each genre')\n",
    "plt.xlabel('Genre')\n",
    "plt.savefig('foo.png',dpi=300,bbox_inches='tight')\n",
    "plt.show()\n"
   ]
  },
  {
   "cell_type": "markdown",
   "metadata": {},
   "source": [
    "Total number of movies in each decade\n",
    "\n",
    "Most production was in **2000 decade.**"
   ]
  },
  {
   "cell_type": "code",
   "execution_count": 12,
   "metadata": {},
   "outputs": [
    {
     "data": {
      "image/png": "[encoded data removed]",
      "text/plain": [
       "<Figure size 576x360 with 1 Axes>"
      ]
     },
     "metadata": {},
     "output_type": "display_data"
    }
   ],
   "source": [
    "plt.figure(figsize=(8,5))\n",
    "movies['Decade'].value_counts().sort_index().plot(kind='bar') \n",
    "plt.xlabel('Decade')\n",
    "plt.ylabel('Number of movies in each decade')\n",
    "plt.savefig('foo1.png',dpi=300,bbox_inches='tight')\n",
    "plt.show()"
   ]
  },
  {
   "cell_type": "markdown",
   "metadata": {},
   "source": [
    "3 years with most Drama genre are:\n",
    "\n",
    "Most drama movies produced in **2009, 2007, and 2008** respectively."
   ]
  },
  {
   "cell_type": "code",
   "execution_count": 13,
   "metadata": {},
   "outputs": [
    {
     "data": {
      "text/plain": [
       "2009    505\n",
       "2007    473\n",
       "2008    462\n",
       "Name: year, dtype: int64"
      ]
     },
     "execution_count": 13,
     "metadata": {},
     "output_type": "execute_result"
    }
   ],
   "source": [
    "sep[sep['genres']=='Drama']['year'].value_counts().head(3) "
   ]
  },
  {
   "cell_type": "markdown",
   "metadata": {},
   "source": [
    "Number of drama movies in each decade.\n",
    "\n",
    "Most drama movies produced in **decade 2000 **."
   ]
  },
  {
   "cell_type": "code",
   "execution_count": 14,
   "metadata": {
    "scrolled": true
   },
   "outputs": [
    {
     "data": {
      "image/png": "[encoded data removed]",
      "text/plain": [
       "<Figure size 576x360 with 1 Axes>"
      ]
     },
     "metadata": {},
     "output_type": "display_data"
    }
   ],
   "source": [
    "plt.figure(figsize=(8,5))\n",
    "sep['Decade']=sep['year']//10 *10\n",
    "sep[sep['genres']=='Drama']['Decade'].value_counts().sort_index().plot(kind='bar')\n",
    "plt.xlabel('Decade')\n",
    "plt.ylabel('Number of Drama movies in each decade')\n",
    "plt.savefig('foo2.png',dpi=300,bbox_inches='tight')\n",
    "plt.show()"
   ]
  },
  {
   "cell_type": "markdown",
   "metadata": {},
   "source": [
    "Movies with same title including the year are:\n",
    "\n",
    "*16 movies* are with same title."
   ]
  },
  {
   "cell_type": "code",
   "execution_count": 15,
   "metadata": {},
   "outputs": [
    {
     "data": {
      "text/plain": [
       "16"
      ]
     },
     "execution_count": 15,
     "metadata": {},
     "output_type": "execute_result"
    }
   ],
   "source": [
    "sum(movies['title'].value_counts()>1)"
   ]
  },
  {
   "cell_type": "markdown",
   "metadata": {},
   "source": [
    "These movies which have repeated twice including the year are:"
   ]
  },
  {
   "cell_type": "code",
   "execution_count": 16,
   "metadata": {},
   "outputs": [
    {
     "data": {
      "text/plain": [
       "Hamlet (2000)                          2\n",
       "Johnny Express (2014)                  2\n",
       "Emma (1996)                            2\n",
       "Clear History (2013)                   2\n",
       "Darling (2007)                         2\n",
       "Girl, The (2012)                       2\n",
       "Men with Guns (1997)                   2\n",
       "Beneath (2013)                         2\n",
       "Chaos (2005)                           2\n",
       "Aladdin (1992)                         2\n",
       "Casanova (2005)                        2\n",
       "Paradise (2013)                        2\n",
       "Offside (2006)                         2\n",
       "War of the Worlds (2005)               2\n",
       "20,000 Leagues Under the Sea (1997)    2\n",
       "Blackout (2007)                        2\n",
       "Name: title, dtype: int64"
      ]
     },
     "execution_count": 16,
     "metadata": {},
     "output_type": "execute_result"
    }
   ],
   "source": [
    "movies['title'].value_counts().head(16) "
   ]
  },
  {
   "cell_type": "markdown",
   "metadata": {},
   "source": [
    "These movie titles (excluding the year in the title) have been repeated several times."
   ]
  },
  {
   "cell_type": "code",
   "execution_count": 17,
   "metadata": {},
   "outputs": [
    {
     "data": {
      "text/plain": [
       "Misérables, Les              9\n",
       "Hamlet                       8\n",
       "Three Musketeers, The        7\n",
       "Alice in Wonderland          6\n",
       "Christmas Carol, A           6\n",
       "Wuthering Heights            6\n",
       "Jane Eyre                    5\n",
       "Cinderella                   5\n",
       "Eden                         4\n",
       "Boy Meets Girl               4\n",
       "Emma                         4\n",
       "Angel                        4\n",
       "Dangerous Liaisons           4\n",
       "The Count of Monte Cristo    4\n",
       "Oliver Twist                 4\n",
       "Raven, The                   4\n",
       "Carrie                       4\n",
       "Dr. Jekyll and Mr. Hyde      4\n",
       "Maniac                       4\n",
       "Blackout                     4\n",
       "Name: Name, dtype: int64"
      ]
     },
     "execution_count": 17,
     "metadata": {},
     "output_type": "execute_result"
    }
   ],
   "source": [
    "movies['Name']=movies['title'].str[:-7] #removing the year from title\n",
    "movies['Name'].value_counts().head(20) "
   ]
  },
  {
   "cell_type": "markdown",
   "metadata": {},
   "source": [
    "8 movies have been produced with the title 'Hamlet', The following barplot shows the number of 'Hamlet' movies in each decade."
   ]
  },
  {
   "cell_type": "code",
   "execution_count": 18,
   "metadata": {},
   "outputs": [
    {
     "data": {
      "image/png": "[encoded data removed]",
      "text/plain": [
       "<Figure size 432x288 with 1 Axes>"
      ]
     },
     "metadata": {},
     "output_type": "display_data"
    }
   ],
   "source": [
    "movies[movies.Name=='Hamlet'].sort_values(by='Decade').Decade.value_counts().plot(kind='bar')\n",
    "plt.xlabel('Decades')\n",
    "plt.ylabel('Movies with name Hamlet')\n",
    "plt.savefig('foo2.png',dpi=300,bbox_inches='tight')\n",
    "plt.show()\n"
   ]
  },
  {
   "cell_type": "markdown",
   "metadata": {},
   "source": [
    "9 movies has been produced with title 'Misérables, Les'. The following barplot shows the number of 'Misérables, Les' movies in each decade. "
   ]
  },
  {
   "cell_type": "code",
   "execution_count": 19,
   "metadata": {},
   "outputs": [
    {
     "data": {
      "image/png": "[encoded data removed]",
      "text/plain": [
       "<Figure size 432x288 with 1 Axes>"
      ]
     },
     "metadata": {},
     "output_type": "display_data"
    }
   ],
   "source": [
    "movies[movies.Name=='Misérables, Les'].sort_values(by='Decade').Decade.value_counts().plot(kind='bar')\n",
    "plt.xlabel('Decades')\n",
    "plt.ylabel('Movies with name Misérables, Les')\n",
    "plt.savefig('foo3.png',dpi=300,bbox_inches='tight')\n",
    "plt.show()"
   ]
  },
  {
   "cell_type": "code",
   "execution_count": 20,
   "metadata": {},
   "outputs": [
    {
     "data": {
      "text/plain": [
       "4.0    5561926\n",
       "3.0    4291193\n",
       "5.0    2898660\n",
       "3.5    2200156\n",
       "4.5    1534824\n",
       "2.0    1430997\n",
       "2.5     883398\n",
       "1.0     680732\n",
       "1.5     279252\n",
       "0.5     239125\n",
       "Name: rating, dtype: int64"
      ]
     },
     "execution_count": 20,
     "metadata": {},
     "output_type": "execute_result"
    }
   ],
   "source": [
    "r.rating.value_counts()"
   ]
  },
  {
   "cell_type": "markdown",
   "metadata": {},
   "source": [
    "Movies with highest rankings are:\n",
    "\n",
    "**Rank=5**\n",
    "- As it was expected, **Shawshank Redemption, Pulp Fiction and Silence of the Lambs** are the first three.\n",
    "\n",
    "**Rank=4.5**\n",
    "- The first three are, **Shawshank Redemption, Matrix, and Pulp Fiction.**\n",
    "\n",
    "**Rank=4**\n",
    "- The first three are, **Silence of the Lambs, Fugitive, and Jurassic.**\n"
   ]
  },
  {
   "cell_type": "code",
   "execution_count": 21,
   "metadata": {},
   "outputs": [
    {
     "name": "stdout",
     "output_type": "stream",
     "text": [
      "Rate: 4.000000\n",
      "593             Silence of the Lambs, The (1991)\n",
      "457                         Fugitive, The (1993)\n",
      "356                          Forrest Gump (1994)\n",
      "480                         Jurassic Park (1993)\n",
      "589            Terminator 2: Judgment Day (1991)\n",
      "150                             Apollo 13 (1995)\n",
      "1                               Toy Story (1995)\n",
      "296                          Pulp Fiction (1994)\n",
      "32     Twelve Monkeys (a.k.a. 12 Monkeys) (1995)\n",
      "110                            Braveheart (1995)\n",
      "Name: title, dtype: object\n",
      " \n",
      "Rate: 4.500000\n",
      "318                      Shawshank Redemption, The (1994)\n",
      "2571                                   Matrix, The (1999)\n",
      "296                                   Pulp Fiction (1994)\n",
      "2959                                    Fight Club (1999)\n",
      "4993    Lord of the Rings: The Fellowship of the Ring,...\n",
      "5952        Lord of the Rings: The Two Towers, The (2002)\n",
      "7153    Lord of the Rings: The Return of the King, The...\n",
      "50                             Usual Suspects, The (1995)\n",
      "593                      Silence of the Lambs, The (1991)\n",
      "356                                   Forrest Gump (1994)\n",
      "Name: title, dtype: object\n",
      " \n",
      "Rate: 5.000000\n",
      "318              Shawshank Redemption, The (1994)\n",
      "296                           Pulp Fiction (1994)\n",
      "593              Silence of the Lambs, The (1991)\n",
      "527                       Schindler's List (1993)\n",
      "260     Star Wars: Episode IV - A New Hope (1977)\n",
      "356                           Forrest Gump (1994)\n",
      "858                         Godfather, The (1972)\n",
      "50                     Usual Suspects, The (1995)\n",
      "2571                           Matrix, The (1999)\n",
      "110                             Braveheart (1995)\n",
      "Name: title, dtype: object\n",
      " \n"
     ]
    }
   ],
   "source": [
    "List=[]\n",
    "for i in np.arange(4,5.5, 0.5):\n",
    "    M=movies.loc[r[r.rating==i].movieId.value_counts().head(10).index,'title']\n",
    "    print('Rate: %f' %i)\n",
    "    print(M)\n",
    "    print(' ')"
   ]
  },
  {
   "cell_type": "markdown",
   "metadata": {},
   "source": [
    "Average rating for the **Shawshank Redemption** is:"
   ]
  },
  {
   "cell_type": "code",
   "execution_count": 22,
   "metadata": {},
   "outputs": [
    {
     "data": {
      "text/plain": [
       "4.446990499637029"
      ]
     },
     "execution_count": 22,
     "metadata": {},
     "output_type": "execute_result"
    }
   ],
   "source": [
    "r[r.movieId==318].rating.mean()  #Average rating for the 'Shawshank Redemption, The'"
   ]
  },
  {
   "cell_type": "markdown",
   "metadata": {},
   "source": [
    "Average rating for the **Pulp Fiction** is:"
   ]
  },
  {
   "cell_type": "code",
   "execution_count": 23,
   "metadata": {},
   "outputs": [
    {
     "data": {
      "text/plain": [
       "4.174231169217055"
      ]
     },
     "execution_count": 23,
     "metadata": {},
     "output_type": "execute_result"
    }
   ],
   "source": [
    "r[r.movieId==296].rating.mean() #Average rating for 'Pulp Fiction' "
   ]
  },
  {
   "cell_type": "markdown",
   "metadata": {},
   "source": [
    "The movies with the max number of ratings are:\n",
    "\n",
    "**Pulp Fiction, Forrest Gump, Shawshank redemption** respectively."
   ]
  },
  {
   "cell_type": "code",
   "execution_count": 24,
   "metadata": {},
   "outputs": [],
   "source": [
    "MaxRating=r['movieId'].value_counts().head(10)"
   ]
  },
  {
   "cell_type": "code",
   "execution_count": 25,
   "metadata": {},
   "outputs": [
    {
     "data": {
      "text/plain": [
       "296                           Pulp Fiction (1994)\n",
       "356                           Forrest Gump (1994)\n",
       "318              Shawshank Redemption, The (1994)\n",
       "593              Silence of the Lambs, The (1991)\n",
       "480                          Jurassic Park (1993)\n",
       "260     Star Wars: Episode IV - A New Hope (1977)\n",
       "110                             Braveheart (1995)\n",
       "589             Terminator 2: Judgment Day (1991)\n",
       "2571                           Matrix, The (1999)\n",
       "527                       Schindler's List (1993)\n",
       "Name: title, dtype: object"
      ]
     },
     "execution_count": 25,
     "metadata": {},
     "output_type": "execute_result"
    }
   ],
   "source": [
    "movies.loc[MaxRating.index,'title'] "
   ]
  },
  {
   "cell_type": "code",
   "execution_count": 26,
   "metadata": {},
   "outputs": [
    {
     "data": {
      "image/png": "[encoded data removed]",
      "text/plain": [
       "<Figure size 432x288 with 1 Axes>"
      ]
     },
     "metadata": {},
     "output_type": "display_data"
    }
   ],
   "source": [
    "plt.plot(range(len(MaxRating)), MaxRating,'mo--')\n",
    "plt.xticks(range(len(MaxRating)), movies.loc[MaxRating.index,'title'],rotation=90)\n",
    "plt.xlabel('10 movies with the max number of rating')\n",
    "plt.ylabel('number of ratings')\n",
    "plt.savefig('foo4.png',dpi=300,bbox_inches='tight')\n",
    "plt.show()"
   ]
  },
  {
   "cell_type": "markdown",
   "metadata": {},
   "source": [
    "The movies with the highest average rating are:\n",
    "\n",
    "**Pulp Fiction, Forrest Gump, Shawshank redemption** respectively"
   ]
  },
  {
   "cell_type": "code",
   "execution_count": 27,
   "metadata": {},
   "outputs": [
    {
     "data": {
      "image/png": "[encoded data removed]",
      "text/plain": [
       "<Figure size 432x288 with 1 Axes>"
      ]
     },
     "metadata": {},
     "output_type": "display_data"
    }
   ],
   "source": [
    "List5=[]\n",
    "for i in MaxRating.index:\n",
    "    List5.append(r[r.movieId==i].rating.mean())\n",
    "plt.plot(range(len(List5)), sorted(List5,reverse=True),'mo--')\n",
    "plt.xticks(range(len(List5)), movies.loc[MaxRating.index,'title'],rotation=90)\n",
    "plt.xlabel('Movies with highest number of rating')\n",
    "plt.ylabel('Average Rating')\n",
    "plt.savefig('foo5.png',dpi=300,bbox_inches='tight')\n",
    "plt.show()"
   ]
  },
  {
   "cell_type": "code",
   "execution_count": 28,
   "metadata": {},
   "outputs": [
    {
     "name": "stderr",
     "output_type": "stream",
     "text": [
      "C:\\Python\\Anaconda3\\lib\\site-packages\\pandas\\core\\indexing.py:1027: FutureWarning: \n",
      "Passing list-likes to .loc or [] with any missing label will raise\n",
      "KeyError in the future, you can use .reindex() as an alternative.\n",
      "\n",
      "See the documentation here:\n",
      "https://pandas.pydata.org/pandas-docs/stable/indexing.html#deprecate-loc-reindex-listlike\n",
      "  return getattr(section, self.name)[new_key]\n"
     ]
    },
    {
     "name": "stdout",
     "output_type": "stream",
     "text": [
      "Number of movies which are rated once: (3972,)\n"
     ]
    }
   ],
   "source": [
    "MinRating=r['movieId'].value_counts()\n",
    "MinRating=MinRating[MinRating==1]\n",
    "print('Number of movies which are rated once:',movies.loc[MinRating.index,'title'].shape) "
   ]
  },
  {
   "cell_type": "markdown",
   "metadata": {},
   "source": [
    "Merge movie and rating data frames."
   ]
  },
  {
   "cell_type": "code",
   "execution_count": 29,
   "metadata": {},
   "outputs": [
    {
     "data": {
      "text/html": [
       "<div>\n",
       "<style scoped>\n",
       "    .dataframe tbody tr th:only-of-type {\n",
       "        vertical-align: middle;\n",
       "    }\n",
       "\n",
       "    .dataframe tbody tr th {\n",
       "        vertical-align: top;\n",
       "    }\n",
       "\n",
       "    .dataframe thead th {\n",
       "        text-align: right;\n",
       "    }\n",
       "</style>\n",
       "<table border=\"1\" class=\"dataframe\">\n",
       "  <thead>\n",
       "    <tr style=\"text-align: right;\">\n",
       "      <th></th>\n",
       "      <th>userId</th>\n",
       "      <th>movieId</th>\n",
       "      <th>rating</th>\n",
       "      <th>index</th>\n",
       "      <th>title</th>\n",
       "      <th>year</th>\n",
       "      <th>level</th>\n",
       "      <th>genres</th>\n",
       "      <th>Decade</th>\n",
       "    </tr>\n",
       "  </thead>\n",
       "  <tbody>\n",
       "    <tr>\n",
       "      <th>0</th>\n",
       "      <td>1</td>\n",
       "      <td>2</td>\n",
       "      <td>3.5</td>\n",
       "      <td>5</td>\n",
       "      <td>Jumanji (1995)</td>\n",
       "      <td>1995</td>\n",
       "      <td>0</td>\n",
       "      <td>Adventure</td>\n",
       "      <td>1990</td>\n",
       "    </tr>\n",
       "    <tr>\n",
       "      <th>1</th>\n",
       "      <td>1</td>\n",
       "      <td>2</td>\n",
       "      <td>3.5</td>\n",
       "      <td>6</td>\n",
       "      <td>Jumanji (1995)</td>\n",
       "      <td>1995</td>\n",
       "      <td>1</td>\n",
       "      <td>Children</td>\n",
       "      <td>1990</td>\n",
       "    </tr>\n",
       "    <tr>\n",
       "      <th>2</th>\n",
       "      <td>1</td>\n",
       "      <td>2</td>\n",
       "      <td>3.5</td>\n",
       "      <td>7</td>\n",
       "      <td>Jumanji (1995)</td>\n",
       "      <td>1995</td>\n",
       "      <td>2</td>\n",
       "      <td>Fantasy</td>\n",
       "      <td>1990</td>\n",
       "    </tr>\n",
       "    <tr>\n",
       "      <th>3</th>\n",
       "      <td>5</td>\n",
       "      <td>2</td>\n",
       "      <td>3.0</td>\n",
       "      <td>5</td>\n",
       "      <td>Jumanji (1995)</td>\n",
       "      <td>1995</td>\n",
       "      <td>0</td>\n",
       "      <td>Adventure</td>\n",
       "      <td>1990</td>\n",
       "    </tr>\n",
       "    <tr>\n",
       "      <th>4</th>\n",
       "      <td>5</td>\n",
       "      <td>2</td>\n",
       "      <td>3.0</td>\n",
       "      <td>6</td>\n",
       "      <td>Jumanji (1995)</td>\n",
       "      <td>1995</td>\n",
       "      <td>1</td>\n",
       "      <td>Children</td>\n",
       "      <td>1990</td>\n",
       "    </tr>\n",
       "  </tbody>\n",
       "</table>\n",
       "</div>"
      ],
      "text/plain": [
       "   userId  movieId  rating  index           title  year  level     genres  \\\n",
       "0       1        2     3.5      5  Jumanji (1995)  1995      0  Adventure   \n",
       "1       1        2     3.5      6  Jumanji (1995)  1995      1   Children   \n",
       "2       1        2     3.5      7  Jumanji (1995)  1995      2    Fantasy   \n",
       "3       5        2     3.0      5  Jumanji (1995)  1995      0  Adventure   \n",
       "4       5        2     3.0      6  Jumanji (1995)  1995      1   Children   \n",
       "\n",
       "   Decade  \n",
       "0    1990  \n",
       "1    1990  \n",
       "2    1990  \n",
       "3    1990  \n",
       "4    1990  "
      ]
     },
     "execution_count": 29,
     "metadata": {},
     "output_type": "execute_result"
    }
   ],
   "source": [
    "r1= r.merge(sep.reset_index(), left_on='movieId', right_on='movieId', how='inner')\n",
    "del r1['timestamp']\n",
    "r1.head() #merge sep and rating"
   ]
  },
  {
   "cell_type": "markdown",
   "metadata": {},
   "source": [
    "Boxplot of 'Decade' vs 'Rating'\n",
    "\n",
    "*Movies of **40th decade** has the highest rating*"
   ]
  },
  {
   "cell_type": "code",
   "execution_count": 30,
   "metadata": {},
   "outputs": [
    {
     "data": {
      "image/png": "[encoded data removed]",
      "text/plain": [
       "<Figure size 432x288 with 1 Axes>"
      ]
     },
     "metadata": {},
     "output_type": "display_data"
    }
   ],
   "source": [
    "sns.boxplot(x='Decade', y='rating', data=r1,palette='rainbow')\n",
    "plt.xticks(rotation=60)\n",
    "plt.savefig('foo5.png',dpi=300,bbox_inches='tight')\n",
    "plt.show()"
   ]
  },
  {
   "cell_type": "markdown",
   "metadata": {},
   "source": [
    "Boxplot of the 'Decade' vs 'Genres'"
   ]
  },
  {
   "cell_type": "code",
   "execution_count": 31,
   "metadata": {},
   "outputs": [
    {
     "data": {
      "image/png": "[encoded data removed]",
      "text/plain": [
       "<Figure size 432x288 with 1 Axes>"
      ]
     },
     "metadata": {},
     "output_type": "display_data"
    }
   ],
   "source": [
    "sns.boxplot(x='genres', y='Decade', data=sep,palette='rainbow')\n",
    "plt.xticks(rotation=90)\n",
    "plt.savefig('foo6.png',dpi=300,bbox_inches='tight')\n",
    "plt.show()"
   ]
  },
  {
   "cell_type": "markdown",
   "metadata": {},
   "source": [
    "Average rating of the ppl with highest number of rating"
   ]
  },
  {
   "cell_type": "code",
   "execution_count": 32,
   "metadata": {},
   "outputs": [
    {
     "data": {
      "text/plain": [
       "[3.2909304463282605,\n",
       " 3.2126359112967626,\n",
       " 1.654984847307483,\n",
       " 3.026239975083703,\n",
       " 2.780034504391468,\n",
       " 3.765411234508289,\n",
       " 3.4983650780675224,\n",
       " 3.225420576549159,\n",
       " 2.4983633387888706,\n",
       " 3.3196820944366525]"
      ]
     },
     "execution_count": 32,
     "metadata": {},
     "output_type": "execute_result"
    }
   ],
   "source": [
    "ID=r1.userId.value_counts().head(10) #UserID wih highest number of rating\n",
    "List5=[]\n",
    "for i in ID.index:\n",
    "    List5.append(r1[r1.userId==i]['rating'].mean())\n",
    "\n",
    "List5"
   ]
  },
  {
   "cell_type": "markdown",
   "metadata": {},
   "source": [
    "Boxplot of the 'Genre' vs 'Rating' \n",
    "\n",
    "**Drama, Mystery,Crime, War,Imax, documentary** has the highest ratings. **Horror** is the least favorit."
   ]
  },
  {
   "cell_type": "code",
   "execution_count": 33,
   "metadata": {},
   "outputs": [
    {
     "data": {
      "text/plain": [
       "<function matplotlib.pyplot.show(*args, **kw)>"
      ]
     },
     "execution_count": 33,
     "metadata": {},
     "output_type": "execute_result"
    },
    {
     "data": {
      "image/png": "[encoded data removed]",
      "text/plain": [
       "<Figure size 432x288 with 1 Axes>"
      ]
     },
     "metadata": {},
     "output_type": "display_data"
    }
   ],
   "source": [
    "sns.boxplot(x='genres', y='rating', data=r1,palette='rainbow')\n",
    "plt.xticks(rotation=90)\n",
    "plt.savefig('foo7.png',dpi=300,bbox_inches='tight')\n",
    "plt.show"
   ]
  },
  {
   "cell_type": "markdown",
   "metadata": {},
   "source": [
    "Correlation matrix: (There is no correlation)"
   ]
  },
  {
   "cell_type": "code",
   "execution_count": 34,
   "metadata": {},
   "outputs": [
    {
     "data": {
      "image/png": "[encoded data removed]",
      "text/plain": [
       "<Figure size 432x288 with 2 Axes>"
      ]
     },
     "metadata": {},
     "output_type": "display_data"
    }
   ],
   "source": [
    "sns.heatmap(r1[['userId','movieId','rating','year']].corr(),cmap='coolwarm')\n",
    "plt.show()"
   ]
  },
  {
   "cell_type": "markdown",
   "metadata": {},
   "source": [
    " ## Title Wordclouds\n",
    "There are certain words that use more often in titles. I use WordCloud library to find out what are these words.\n",
    "\n",
    "The word **Love** is the most commonly used word in movie titles. **Girl**, **Day** and **Man** are also among the most commonly occuring words. "
   ]
  },
  {
   "cell_type": "code",
   "execution_count": 35,
   "metadata": {},
   "outputs": [
    {
     "data": {
      "image/png": "[encoded data removed]",
      "text/plain": [
       "<Figure size 1152x576 with 1 Axes>"
      ]
     },
     "metadata": {},
     "output_type": "display_data"
    }
   ],
   "source": [
    "movies['title'] = movies['title'].astype('str')\n",
    "\n",
    "title_corpus = ' '.join(movies['title'])\n",
    "\n",
    "\n",
    "title_wordcloud = WordCloud(stopwords=STOPWORDS, background_color='white', height=2000, width=4000).generate(title_corpus)\n",
    "plt.figure(figsize=(16,8))\n",
    "plt.imshow(title_wordcloud)\n",
    "plt.axis('off')\n",
    "plt.savefig('world1.png',dpi=300,bbox_inches='tight')\n",
    "plt.show()"
   ]
  },
  {
   "cell_type": "markdown",
   "metadata": {},
   "source": [
    "# Recommender System\n"
   ]
  },
  {
   "cell_type": "markdown",
   "metadata": {},
   "source": [
    "### Preparing the data"
   ]
  },
  {
   "cell_type": "code",
   "execution_count": 36,
   "metadata": {},
   "outputs": [],
   "source": [
    "movielens=r.drop(['timestamp'],axis=1)\n",
    "movielens=movielens.iloc[(r.userId.value_counts()>100).index,:]#user id with more than 100 voting"
   ]
  },
  {
   "cell_type": "code",
   "execution_count": 37,
   "metadata": {},
   "outputs": [],
   "source": [
    "from sklearn.model_selection import train_test_split\n",
    "X_train, X_test, y_train, y_test=train_test_split(movielens[['userId','movieId']],movielens['rating'],test_size=0.25, \n",
    "                                                  random_state=55)\n",
    "\n",
    "y_train=pd.DataFrame(y_train)\n",
    "train=X_train.join(y_train)\n",
    "\n",
    "y_test=pd.DataFrame(y_test)\n",
    "test=X_test.join(y_test)"
   ]
  },
  {
   "cell_type": "markdown",
   "metadata": {},
   "source": [
    "## Well-known Solutions to the Recommendation Problem are:\n",
    "\n",
    "\n",
    "## 1- Simple Recommender\n",
    "The Simple Recommender offers generalized recommnendations to every user based on movie popularity, ratings, and genre. The basic idea behind this recommender is that movies that are more popular and more critically acclaimed will have a higher probability of being liked by the average audience. This model does not give personalized recommendations based on the user. \n",
    "\n",
    "So I sort the movies base on their genre, and I recommend the ones with the highest number of votes and the higher average rankings to the new audience."
   ]
  },
  {
   "cell_type": "code",
   "execution_count": 38,
   "metadata": {},
   "outputs": [
    {
     "data": {
      "text/html": [
       "<div>\n",
       "<style scoped>\n",
       "    .dataframe tbody tr th:only-of-type {\n",
       "        vertical-align: middle;\n",
       "    }\n",
       "\n",
       "    .dataframe tbody tr th {\n",
       "        vertical-align: top;\n",
       "    }\n",
       "\n",
       "    .dataframe thead th {\n",
       "        text-align: right;\n",
       "    }\n",
       "</style>\n",
       "<table border=\"1\" class=\"dataframe\">\n",
       "  <thead>\n",
       "    <tr style=\"text-align: right;\">\n",
       "      <th></th>\n",
       "      <th>userId</th>\n",
       "      <th>movieId</th>\n",
       "      <th>rating</th>\n",
       "      <th>title</th>\n",
       "      <th>genres</th>\n",
       "    </tr>\n",
       "  </thead>\n",
       "  <tbody>\n",
       "    <tr>\n",
       "      <th>0</th>\n",
       "      <td>1</td>\n",
       "      <td>2</td>\n",
       "      <td>3.5</td>\n",
       "      <td>Jumanji (1995)</td>\n",
       "      <td>Adventure</td>\n",
       "    </tr>\n",
       "    <tr>\n",
       "      <th>1</th>\n",
       "      <td>1</td>\n",
       "      <td>2</td>\n",
       "      <td>3.5</td>\n",
       "      <td>Jumanji (1995)</td>\n",
       "      <td>Children</td>\n",
       "    </tr>\n",
       "    <tr>\n",
       "      <th>2</th>\n",
       "      <td>1</td>\n",
       "      <td>2</td>\n",
       "      <td>3.5</td>\n",
       "      <td>Jumanji (1995)</td>\n",
       "      <td>Fantasy</td>\n",
       "    </tr>\n",
       "    <tr>\n",
       "      <th>3</th>\n",
       "      <td>5</td>\n",
       "      <td>2</td>\n",
       "      <td>3.0</td>\n",
       "      <td>Jumanji (1995)</td>\n",
       "      <td>Adventure</td>\n",
       "    </tr>\n",
       "    <tr>\n",
       "      <th>4</th>\n",
       "      <td>5</td>\n",
       "      <td>2</td>\n",
       "      <td>3.0</td>\n",
       "      <td>Jumanji (1995)</td>\n",
       "      <td>Children</td>\n",
       "    </tr>\n",
       "  </tbody>\n",
       "</table>\n",
       "</div>"
      ],
      "text/plain": [
       "   userId  movieId  rating           title     genres\n",
       "0       1        2     3.5  Jumanji (1995)  Adventure\n",
       "1       1        2     3.5  Jumanji (1995)   Children\n",
       "2       1        2     3.5  Jumanji (1995)    Fantasy\n",
       "3       5        2     3.0  Jumanji (1995)  Adventure\n",
       "4       5        2     3.0  Jumanji (1995)   Children"
      ]
     },
     "execution_count": 38,
     "metadata": {},
     "output_type": "execute_result"
    }
   ],
   "source": [
    "r1=r1[['userId','movieId','rating','title','genres']]\n",
    "r1.head()"
   ]
  },
  {
   "cell_type": "markdown",
   "metadata": {},
   "source": [
    "### The list of the 10 best Drama movies to recommend are:\n"
   ]
  },
  {
   "cell_type": "code",
   "execution_count": 39,
   "metadata": {},
   "outputs": [
    {
     "name": "stdout",
     "output_type": "stream",
     "text": [
      "1 : Pulp Fiction (1994)\n",
      "2 : Shawshank Redemption, The (1994)\n",
      "3 : Schindler's List (1993)\n",
      "4 : American Beauty (1999)\n",
      "5 : Fargo (1996)\n",
      "6 : Godfather, The (1972)\n",
      "7 : Fight Club (1999)\n",
      "8 : Lord of the Rings: The Return of the King, The (2003)\n",
      "9 : One Flew Over the Cuckoo's Nest (1975)\n",
      "10 : Godfather: Part II, The (1974)\n"
     ]
    }
   ],
   "source": [
    "a=r1[r1.genres=='Drama'].movieId.value_counts().head(30).index\n",
    "count=0\n",
    "for i in a:\n",
    "    if (r1[(r1.movieId==i)].rating.mean()>4.1)&(count<10):\n",
    "        count+=1\n",
    "        print(count,':',r1[(r1.genres=='Drama')&(r1.movieId==i)].title.iloc[0])"
   ]
  },
  {
   "cell_type": "markdown",
   "metadata": {},
   "source": [
    "### The list of the 10 best Romance movies to recommend are:\n"
   ]
  },
  {
   "cell_type": "code",
   "execution_count": 40,
   "metadata": {},
   "outputs": [
    {
     "name": "stdout",
     "output_type": "stream",
     "text": [
      "1 : Forrest Gump (1994)\n",
      "2 : Beauty and the Beast (1991)\n",
      "3 : Princess Bride, The (1987)\n",
      "4 : Groundhog Day (1993)\n",
      "5 : Shrek (2001)\n",
      "6 : Sleepless in Seattle (1993)\n",
      "7 : Good Will Hunting (1997)\n",
      "8 : Four Weddings and a Funeral (1994)\n",
      "9 : Crouching Tiger, Hidden Dragon (Wo hu cang long) (2000)\n",
      "10 : There's Something About Mary (1998)\n"
     ]
    }
   ],
   "source": [
    "a=r1[r1.genres=='Romance'].movieId.value_counts().head(30).index\n",
    "count=0\n",
    "for i in a:\n",
    "    if (r1[(r1.movieId==i)].rating.mean()>3.5)&(count<10):\n",
    "        count+=1\n",
    "        print(count,':',r1[(r1.genres=='Romance')&(r1.movieId==i)].title.iloc[0])"
   ]
  },
  {
   "cell_type": "markdown",
   "metadata": {},
   "source": [
    "### The list of the 10 best Action movies to recommend are:\n",
    "\n"
   ]
  },
  {
   "cell_type": "code",
   "execution_count": 41,
   "metadata": {},
   "outputs": [
    {
     "name": "stdout",
     "output_type": "stream",
     "text": [
      "1 : Star Wars: Episode IV - A New Hope (1977)\n",
      "2 : Braveheart (1995)\n",
      "3 : Matrix, The (1999)\n",
      "4 : Star Wars: Episode VI - Return of the Jedi (1983)\n",
      "5 : Star Wars: Episode V - The Empire Strikes Back (1980)\n",
      "6 : Raiders of the Lost Ark (Indiana Jones and the Raiders of the Lost Ark) (1981)\n",
      "7 : Fight Club (1999)\n",
      "8 : Saving Private Ryan (1998)\n",
      "9 : Princess Bride, The (1987)\n",
      "10 : Lord of the Rings: The Return of the King, The (2003)\n"
     ]
    }
   ],
   "source": [
    "a=r1[r1.genres=='Action'].movieId.value_counts().head(30).index\n",
    "count=0\n",
    "for i in a:\n",
    "    if (r1[(r1.movieId==i)].rating.mean()>4)&(count<10):\n",
    "        count+=1\n",
    "        print(count,':',r1[(r1.genres=='Action')&(r1.movieId==i)].title.iloc[0])"
   ]
  },
  {
   "cell_type": "markdown",
   "metadata": {},
   "source": [
    "## 2- IMDB Weighted Rating Formula\n",
    "Another technique could be IMDB's *weighted rating* formula which is mathematically represented as follows:\n",
    "\n",
    "Weighted Rating (WR) = $(\\frac{v}{v + m} . R) + (\\frac{m}{v + m} . C)$\n",
    "\n",
    "where,\n",
    "* *v* is the number of votes for the movie\n",
    "* *m* is the minimum votes required to be listed in the chart\n",
    "* *R* is the average rating of the movie\n",
    "* *C* is the mean vote across the whole report\n",
    "\n",
    "The next step is to determine an appropriate value for *m*, the minimum votes required to be listed in the chart. We will use **95th percentile** as our cutoff. In other words, for a movie to feature in the charts, it must have more votes than at least 95% of the movies in the list."
   ]
  },
  {
   "cell_type": "code",
   "execution_count": 42,
   "metadata": {},
   "outputs": [
    {
     "name": "stdout",
     "output_type": "stream",
     "text": [
      " mean vote across the whole report (C): 3.1336633211120817\n",
      "minimum votes required to be listed in the chart (m): 8463.75\n"
     ]
    }
   ],
   "source": [
    "C=r1.groupby('movieId').rating.mean().mean()\n",
    "m=r1.movieId.value_counts().quantile(0.95)\n",
    "print(' mean vote across the whole report (C):',C)\n",
    "print('minimum votes required to be listed in the chart (m):',m)"
   ]
  },
  {
   "cell_type": "code",
   "execution_count": 43,
   "metadata": {},
   "outputs": [],
   "source": [
    "a=r1.movieId.value_counts().sort_index()\n",
    "b=r1.groupby('movieId').rating.mean()"
   ]
  },
  {
   "cell_type": "code",
   "execution_count": 44,
   "metadata": {},
   "outputs": [
    {
     "name": "stdout",
     "output_type": "stream",
     "text": [
      "Number of Movies which are qualified: 1061\n"
     ]
    }
   ],
   "source": [
    "print('Number of Movies which are qualified:',sum((a>m)&(b>C)))"
   ]
  },
  {
   "cell_type": "code",
   "execution_count": 45,
   "metadata": {},
   "outputs": [],
   "source": [
    "a=pd.DataFrame(a.values,columns=['counts'],index=a.index)\n",
    "b=pd.DataFrame(b.values,columns=['mean'],index=b.index)"
   ]
  },
  {
   "cell_type": "code",
   "execution_count": 46,
   "metadata": {},
   "outputs": [
    {
     "name": "stdout",
     "output_type": "stream",
     "text": [
      "1061  movies are qualified\n"
     ]
    }
   ],
   "source": [
    "df=pd.concat([a,b], axis=1, sort=False)\n",
    "qualified = df[(df['counts'] >= m)  & (df['mean']>=C)]\n",
    "\n",
    "print(qualified.shape[0],' movies are qualified')"
   ]
  },
  {
   "cell_type": "code",
   "execution_count": 47,
   "metadata": {},
   "outputs": [
    {
     "name": "stderr",
     "output_type": "stream",
     "text": [
      "C:\\Python\\Anaconda3\\lib\\site-packages\\ipykernel_launcher.py:6: SettingWithCopyWarning: \n",
      "A value is trying to be set on a copy of a slice from a DataFrame.\n",
      "Try using .loc[row_indexer,col_indexer] = value instead\n",
      "\n",
      "See the caveats in the documentation: http://pandas.pydata.org/pandas-docs/stable/indexing.html#indexing-view-versus-copy\n",
      "  \n"
     ]
    },
    {
     "data": {
      "text/html": [
       "<div>\n",
       "<style scoped>\n",
       "    .dataframe tbody tr th:only-of-type {\n",
       "        vertical-align: middle;\n",
       "    }\n",
       "\n",
       "    .dataframe tbody tr th {\n",
       "        vertical-align: top;\n",
       "    }\n",
       "\n",
       "    .dataframe thead th {\n",
       "        text-align: right;\n",
       "    }\n",
       "</style>\n",
       "<table border=\"1\" class=\"dataframe\">\n",
       "  <thead>\n",
       "    <tr style=\"text-align: right;\">\n",
       "      <th></th>\n",
       "      <th>Best to Recommend</th>\n",
       "    </tr>\n",
       "  </thead>\n",
       "  <tbody>\n",
       "    <tr>\n",
       "      <th>0</th>\n",
       "      <td>Shawshank Redemption, The (1994)</td>\n",
       "    </tr>\n",
       "    <tr>\n",
       "      <th>1</th>\n",
       "      <td>Usual Suspects, The (1995)</td>\n",
       "    </tr>\n",
       "    <tr>\n",
       "      <th>2</th>\n",
       "      <td>Godfather, The (1972)</td>\n",
       "    </tr>\n",
       "    <tr>\n",
       "      <th>3</th>\n",
       "      <td>Schindler's List (1993)</td>\n",
       "    </tr>\n",
       "    <tr>\n",
       "      <th>4</th>\n",
       "      <td>Fight Club (1999)</td>\n",
       "    </tr>\n",
       "    <tr>\n",
       "      <th>5</th>\n",
       "      <td>Pulp Fiction (1994)</td>\n",
       "    </tr>\n",
       "    <tr>\n",
       "      <th>6</th>\n",
       "      <td>Star Wars: Episode IV - A New Hope (1977)</td>\n",
       "    </tr>\n",
       "    <tr>\n",
       "      <th>7</th>\n",
       "      <td>Silence of the Lambs, The (1991)</td>\n",
       "    </tr>\n",
       "    <tr>\n",
       "      <th>8</th>\n",
       "      <td>Matrix, The (1999)</td>\n",
       "    </tr>\n",
       "    <tr>\n",
       "      <th>9</th>\n",
       "      <td>Star Wars: Episode V - The Empire Strikes Back...</td>\n",
       "    </tr>\n",
       "    <tr>\n",
       "      <th>10</th>\n",
       "      <td>North by Northwest (1959)</td>\n",
       "    </tr>\n",
       "    <tr>\n",
       "      <th>11</th>\n",
       "      <td>Princess Bride, The (1987)</td>\n",
       "    </tr>\n",
       "    <tr>\n",
       "      <th>12</th>\n",
       "      <td>Godfather: Part II, The (1974)</td>\n",
       "    </tr>\n",
       "    <tr>\n",
       "      <th>13</th>\n",
       "      <td>Raiders of the Lost Ark (Indiana Jones and the...</td>\n",
       "    </tr>\n",
       "    <tr>\n",
       "      <th>14</th>\n",
       "      <td>Dark Knight, The (2008)</td>\n",
       "    </tr>\n",
       "    <tr>\n",
       "      <th>15</th>\n",
       "      <td>City of God (Cidade de Deus) (2002)</td>\n",
       "    </tr>\n",
       "    <tr>\n",
       "      <th>16</th>\n",
       "      <td>Monty Python and the Holy Grail (1975)</td>\n",
       "    </tr>\n",
       "    <tr>\n",
       "      <th>17</th>\n",
       "      <td>Casablanca (1942)</td>\n",
       "    </tr>\n",
       "    <tr>\n",
       "      <th>18</th>\n",
       "      <td>Lord of the Rings: The Return of the King, The...</td>\n",
       "    </tr>\n",
       "    <tr>\n",
       "      <th>19</th>\n",
       "      <td>Dr. Strangelove or: How I Learned to Stop Worr...</td>\n",
       "    </tr>\n",
       "    <tr>\n",
       "      <th>20</th>\n",
       "      <td>Inception (2010)</td>\n",
       "    </tr>\n",
       "    <tr>\n",
       "      <th>21</th>\n",
       "      <td>Chinatown (1974)</td>\n",
       "    </tr>\n",
       "    <tr>\n",
       "      <th>22</th>\n",
       "      <td>American Beauty (1999)</td>\n",
       "    </tr>\n",
       "    <tr>\n",
       "      <th>23</th>\n",
       "      <td>Life Is Beautiful (La Vita è bella) (1997)</td>\n",
       "    </tr>\n",
       "    <tr>\n",
       "      <th>24</th>\n",
       "      <td>Fargo (1996)</td>\n",
       "    </tr>\n",
       "    <tr>\n",
       "      <th>25</th>\n",
       "      <td>Wallace &amp; Gromit: The Wrong Trousers (1993)</td>\n",
       "    </tr>\n",
       "    <tr>\n",
       "      <th>26</th>\n",
       "      <td>Seven Samurai (Shichinin no samurai) (1954)</td>\n",
       "    </tr>\n",
       "    <tr>\n",
       "      <th>27</th>\n",
       "      <td>Memento (2000)</td>\n",
       "    </tr>\n",
       "    <tr>\n",
       "      <th>28</th>\n",
       "      <td>Rear Window (1954)</td>\n",
       "    </tr>\n",
       "    <tr>\n",
       "      <th>29</th>\n",
       "      <td>Blade Runner (1982)</td>\n",
       "    </tr>\n",
       "  </tbody>\n",
       "</table>\n",
       "</div>"
      ],
      "text/plain": [
       "                                    Best to Recommend\n",
       "0                    Shawshank Redemption, The (1994)\n",
       "1                          Usual Suspects, The (1995)\n",
       "2                               Godfather, The (1972)\n",
       "3                             Schindler's List (1993)\n",
       "4                                   Fight Club (1999)\n",
       "5                                 Pulp Fiction (1994)\n",
       "6           Star Wars: Episode IV - A New Hope (1977)\n",
       "7                    Silence of the Lambs, The (1991)\n",
       "8                                  Matrix, The (1999)\n",
       "9   Star Wars: Episode V - The Empire Strikes Back...\n",
       "10                          North by Northwest (1959)\n",
       "11                         Princess Bride, The (1987)\n",
       "12                     Godfather: Part II, The (1974)\n",
       "13  Raiders of the Lost Ark (Indiana Jones and the...\n",
       "14                            Dark Knight, The (2008)\n",
       "15                City of God (Cidade de Deus) (2002)\n",
       "16             Monty Python and the Holy Grail (1975)\n",
       "17                                  Casablanca (1942)\n",
       "18  Lord of the Rings: The Return of the King, The...\n",
       "19  Dr. Strangelove or: How I Learned to Stop Worr...\n",
       "20                                   Inception (2010)\n",
       "21                                   Chinatown (1974)\n",
       "22                             American Beauty (1999)\n",
       "23         Life Is Beautiful (La Vita è bella) (1997)\n",
       "24                                       Fargo (1996)\n",
       "25        Wallace & Gromit: The Wrong Trousers (1993)\n",
       "26        Seven Samurai (Shichinin no samurai) (1954)\n",
       "27                                     Memento (2000)\n",
       "28                                 Rear Window (1954)\n",
       "29                                Blade Runner (1982)"
      ]
     },
     "execution_count": 47,
     "metadata": {},
     "output_type": "execute_result"
    }
   ],
   "source": [
    "def weighted_rating(x):\n",
    "    v = x['counts']\n",
    "    R = x['mean']\n",
    "    return (v/(v+m) * R) + (m/(m+v) * C)\n",
    "\n",
    "qualified['wr'] = qualified.apply(weighted_rating, axis=1)\n",
    "qualified = qualified.sort_values('wr', ascending=False)\n",
    "\n",
    "List1=[]\n",
    "for i in qualified.head(30).index:\n",
    "    List1.append(movies[movies.index==i]['title'].values)\n",
    "IMDBBest=pd.DataFrame(List1,columns=['Best to Recommend'])\n",
    "IMDBBest"
   ]
  },
  {
   "cell_type": "markdown",
   "metadata": {},
   "source": [
    "## 2- Content-based filtering\n",
    "\n",
    "\n",
    "\n",
    "The recommender we built in the previous section suffers some severe limitations. For one, it gives the same recommendation to everyone, regardless of the user's personal taste. If a person who loves romantic movies (and hates action) were to look at our Top 10 Chart, s/he wouldn't probably like most of the movies. If s/he were to go one step further and look at our charts by genre, s/he wouldn't still be getting the best recommendations.\n",
    "\n",
    "Content based filtering *Recommend based on the user's rating history.* \n",
    "\n",
    "Generic expression (notice how this is kind of a 'row-based' approach):\n",
    "\n",
    "$$ \n",
    "\\newcommand{\\aggr}{\\mathop{\\rm aggr}\\nolimits}\n",
    "r_{u,i} = \\aggr_{i' \\in I(u)} [r_{u,i'}]\n",
    "$$\n",
    "\n",
    "\n",
    "A simple example using the mean as an aggregation function:\n",
    "\n",
    "$$ \n",
    "r_{u,i} = \\bar r_u = \\frac{\\sum_{i' \\in I(u)} r_{u,i'}}{|I(u)|} \n",
    "$$\n"
   ]
  },
  {
   "cell_type": "code",
   "execution_count": 48,
   "metadata": {},
   "outputs": [
    {
     "name": "stdout",
     "output_type": "stream",
     "text": [
      "RMSE for content base filtering is: 0.9969\n",
      "Total elapsed time of content base filtering is: 65.319\n"
     ]
    }
   ],
   "source": [
    "def evaluate(estimate_f):\n",
    "    ids_to_estimate = zip(test.userId, test.movieId)\n",
    "    estimated = np.array([estimate_f(u,i) for (u,i) in ids_to_estimate])\n",
    "    real = y_test.values\n",
    "    return np.sqrt(np.mean(np.power(estimated-real, 2)))\n",
    "\n",
    "def content_mean(user_id, movie_id):\n",
    "    user_condition = X_train.userId == user_id\n",
    "    return y_train[user_condition].mean()\n",
    "\n",
    "start = time.time()\n",
    "print('RMSE for content base filtering is: %s' % round(evaluate(content_mean),4))\n",
    "end = time.time()\n",
    "print('Total elapsed time of content base filtering is:',round(end - start,3))\n"
   ]
  },
  {
   "cell_type": "markdown",
   "metadata": {},
   "source": [
    "\n",
    "## 3- Collaborative Filtering\n",
    "\n",
    "Collaborative Filtering is based on the idea that users similar to a me can be used to predict how much I will like a particular product or service those users have used/experienced but I have not.\n",
    "\n",
    "\n",
    "#### I- Simple Collaborative filtering base on mean\n",
    "\n",
    "*Recommend based on other user's rating histories.* \n",
    "\n",
    "Generic expression (notice how this is kind of a 'col-based' approach):\n",
    "\n",
    "$$ \n",
    "\\newcommand{\\aggr}{\\mathop{\\rm aggr}\\nolimits}\n",
    "r_{u,i} = \\aggr_{u' \\in U(i)} [r_{u',i}] \n",
    "$$\n",
    "A simple example using the mean as an aggregation function:\n",
    "\n",
    "$$ \n",
    "r_{u,i} = \\bar r_i = \\frac{\\sum_{u' \\in U(i)} r_{u',i}}{|U(i)|} \n",
    "$$\n"
   ]
  },
  {
   "cell_type": "code",
   "execution_count": 49,
   "metadata": {},
   "outputs": [
    {
     "name": "stdout",
     "output_type": "stream",
     "text": [
      "Collaborative mean filter for userId: 1 and movieId: 151 is: [3.31060606]\n",
      "Actual rating value is: 4.0\n",
      "\n",
      "Collaborative mean filter for userId: 1 and movieId: 29 is: [3.80232558]\n",
      "Actual rating value is: 3.5\n",
      "\n",
      "Collaborative mean filter for userId: 138493 and movieId: 55269 is: [4.06666667]\n",
      "Actual rating value is: 5.0\n",
      "\n"
     ]
    }
   ],
   "source": [
    "def collab_mean(user_id, movie_id):\n",
    "    user_condition = X_train.movieId == movie_id\n",
    "    return y_train[user_condition].mean()\n",
    "\n",
    "i=1\n",
    "j=151\n",
    "print('Collaborative mean filter for userId:',i, 'and movieId:', j, 'is:',collab_mean(i,j).values)\n",
    "print('Actual rating value is:', r1[(r1.userId==i)&(r1.movieId==j)]['rating'].mean())\n",
    "print('')\n",
    "\n",
    "i=1\n",
    "j=29\n",
    "print('Collaborative mean filter for userId:',i, 'and movieId:', j, 'is:',collab_mean(i,j).values)\n",
    "print('Actual rating value is:', r1[(r1.userId==i)&(r1.movieId==j)]['rating'].mean())\n",
    "print('')\n",
    "\n",
    "\n",
    "\n",
    "i=138493\n",
    "j=55269\n",
    "print('Collaborative mean filter for userId:',i, 'and movieId:', j, 'is:',collab_mean(i,j).values)\n",
    "print('Actual rating value is:', r1[(r1.userId==i)&(r1.movieId==j)]['rating'].mean())\n",
    "print('')"
   ]
  },
  {
   "cell_type": "markdown",
   "metadata": {},
   "source": [
    "#### II- Matrix Factorization-based algorithms\n",
    "\n",
    "The idea is basically to take a large (or potentially huge) matrix and factor it into some smaller representation of the original matrix. You can think of it in the same way as we would take a large number and factor it into two much smaller primes. We end up with two or more lower dimensional matrices whose product equals the original one.\n",
    "When we talk about collaborative filtering for recommender systems we want to solve the problem of our original matrix having millions of different dimensions, but our “tastes” not being nearly as complex. Even if i’ve viewed hundreds of items they might just express a couple of different tastes. Here we can actually use matrix factorization to mathematically reduce the dimensionality of our original “all users by all items” matrix into something much smaller that represents “all items by some taste dimensions” and “all users by some taste dimensions”. These dimensions are called latent or hidden features and we learn them from our data.\n",
    "Doing this reduction and working with fewer dimensions makes it both much more computationally efficient and but also gives us better results since we can reason about items in this more compact “taste space”.\n",
    "If we can express each user as a vector of their taste values, and at the same time express each item as a vector of what tastes they represent. You can see we can quite easily make a recommendation. This also gives us the ability to find connections between users who have no specific items in common but share common tastes.\n",
    "\n",
    "#### SVD \n",
    "SVD is a matrix factorization technique that is usually used to reduce the number of features of a data set by reducing space dimensions from N to K where K < N. For the purpose of the recommendation systems however, we are only interested in the matrix factorization part keeping same dimensionality. The matrix factorization is done on the user-item ratings matrix. From a high level, matrix factorization can be thought of as finding 2 matrices whose product is the original matrix. (https://medium.com/@m_n_malaeb/singular-value-decomposition-svd-in-recommender-systems-for-non-math-statistics-programming-4a622de653e9)\n",
    "\n",
    "I use **Surprise** library which has several powerful algorithms like **Singular Value Decomposition (SVD), Non-negative Matrix Factorization (NMF), K Nearest Neighbor (KNN), and CoClusternig**  to minimise RMSE (Root Mean Square Error) and give recommendations.\n"
   ]
  },
  {
   "cell_type": "code",
   "execution_count": 50,
   "metadata": {},
   "outputs": [],
   "source": [
    "data = Dataset.load_from_df(movielens[['userId', 'movieId', 'rating']], Reader())"
   ]
  },
  {
   "cell_type": "code",
   "execution_count": 51,
   "metadata": {},
   "outputs": [
    {
     "name": "stdout",
     "output_type": "stream",
     "text": [
      "Evaluating RMSE, MAE of algorithm SVD on 5 split(s).\n",
      "\n",
      "                  Fold 1  Fold 2  Fold 3  Fold 4  Fold 5  Mean    Std     \n",
      "RMSE (testset)    0.9171  0.9140  0.9113  0.9219  0.9097  0.9148  0.0043  \n",
      "MAE (testset)     0.7087  0.7049  0.7019  0.7094  0.7012  0.7052  0.0034  \n",
      "Fit time          13.00   13.68   12.76   43.84   21.19   20.89   11.89   \n",
      "Test time         0.30    0.39    0.27    1.97    0.73    0.73    0.64    \n",
      "Total Elapsed time with model is: 110.37742877006531\n",
      " \n",
      " \n",
      "Evaluating RMSE, MAE of algorithm NMF on 5 split(s).\n",
      "\n",
      "                  Fold 1  Fold 2  Fold 3  Fold 4  Fold 5  Mean    Std     \n",
      "RMSE (testset)    0.9582  0.9566  0.9623  0.9655  0.9454  0.9576  0.0069  \n",
      "MAE (testset)     0.7355  0.7348  0.7382  0.7402  0.7297  0.7357  0.0036  \n",
      "Fit time          26.28   17.84   20.05   17.72   13.88   19.15   4.08    \n",
      "Test time         0.27    0.51    0.31    0.33    0.34    0.35    0.08    \n",
      "Total Elapsed time with model is: 99.79825043678284\n",
      " \n",
      " \n",
      "Evaluating RMSE, MAE of algorithm SlopeOne on 5 split(s).\n",
      "\n",
      "                  Fold 1  Fold 2  Fold 3  Fold 4  Fold 5  Mean    Std     \n",
      "RMSE (testset)    0.9424  0.9372  0.9504  0.9505  0.9415  0.9444  0.0053  \n",
      "MAE (testset)     0.7232  0.7189  0.7285  0.7266  0.7235  0.7242  0.0033  \n",
      "Fit time          11.43   20.58   11.48   11.44   11.12   13.21   3.69    \n",
      "Test time         17.39   18.88   14.08   13.85   17.10   16.26   1.97    \n",
      "Total Elapsed time with model is: 149.52348136901855\n",
      " \n",
      " \n",
      "Estimating biases using als...\n",
      "Computing the msd similarity matrix...\n",
      "Done computing similarity matrix.\n",
      "Estimating biases using als...\n",
      "Computing the msd similarity matrix...\n",
      "Done computing similarity matrix.\n",
      "Estimating biases using als...\n",
      "Computing the msd similarity matrix...\n",
      "Done computing similarity matrix.\n",
      "Estimating biases using als...\n",
      "Computing the msd similarity matrix...\n",
      "Done computing similarity matrix.\n",
      "Estimating biases using als...\n",
      "Computing the msd similarity matrix...\n",
      "Done computing similarity matrix.\n",
      "Evaluating RMSE, MAE of algorithm KNNBaseline on 5 split(s).\n",
      "\n",
      "                  Fold 1  Fold 2  Fold 3  Fold 4  Fold 5  Mean    Std     \n",
      "RMSE (testset)    0.9127  0.9108  0.9113  0.9271  0.9168  0.9158  0.0061  \n",
      "MAE (testset)     0.7017  0.7008  0.7017  0.7130  0.7065  0.7047  0.0046  \n",
      "Fit time          1.68    1.68    1.92    1.87    1.90    1.81    0.11    \n",
      "Test time         5.64    6.97    5.06    5.12    6.09    5.78    0.71    \n",
      "Total Elapsed time with model is: 39.58025932312012\n",
      " \n",
      " \n",
      "Evaluating RMSE, MAE of algorithm CoClustering on 5 split(s).\n",
      "\n",
      "                  Fold 1  Fold 2  Fold 3  Fold 4  Fold 5  Mean    Std     \n",
      "RMSE (testset)    0.9879  0.9877  0.9766  0.9816  0.9868  0.9841  0.0044  \n",
      "MAE (testset)     0.7648  0.7648  0.7554  0.7607  0.7615  0.7614  0.0035  \n",
      "Fit time          7.19    6.84    6.81    6.56    7.09    6.90    0.22    \n",
      "Test time         0.20    0.26    0.44    0.23    0.32    0.29    0.08    \n",
      "Total Elapsed time with model is: 37.691476583480835\n",
      " \n",
      " \n"
     ]
    }
   ],
   "source": [
    "Models=[SVD(), NMF(), SlopeOne(), KNNBaseline(), CoClustering()]\n",
    "\n",
    "for i in Models:\n",
    "    start = time.time()\n",
    "    cross_validate(i, data, measures=['RMSE', 'MAE'], cv=5, verbose=True)\n",
    "    end = time.time()\n",
    "    print('Total Elapsed time with model is:',end - start)\n",
    "    print(' ')\n",
    "    print(' ')"
   ]
  },
  {
   "cell_type": "markdown",
   "metadata": {},
   "source": [
    "From the results, **SVD** and **KNN** provide lower RMSE for the test set.\n",
    "\n",
    "\n",
    "Now lets compare the predicted rating values of some samples with their actual values:"
   ]
  },
  {
   "cell_type": "code",
   "execution_count": 52,
   "metadata": {},
   "outputs": [
    {
     "name": "stdout",
     "output_type": "stream",
     "text": [
      "SVD\n",
      "Total Elapsed time with model is: 9.202\n",
      "Prediction of a particular user: 3.69487816192052\n",
      "Actual rating value is: 4.0\n",
      "\n",
      "Prediction of a particular user: 3.6717143007180093\n",
      "Actual rating value is: 3.5\n",
      "\n",
      "Prediction of a particular user: 3.860117330365739\n",
      "Actual rating value is: 5.0\n",
      "\n",
      "\n",
      "NMF\n",
      "Total Elapsed time with model is: 13.435\n",
      "Prediction of a particular user: 3.521631804084474\n",
      "Actual rating value is: 4.0\n",
      "\n",
      "Prediction of a particular user: 3.9313878685910035\n",
      "Actual rating value is: 3.5\n",
      "\n",
      "Prediction of a particular user: 3.4821939173381855\n",
      "Actual rating value is: 5.0\n",
      "\n",
      "\n",
      "Slop One\n",
      "Total Elapsed time with model is: 27.28\n",
      "Prediction of a particular user: 3.488838824068221\n",
      "Actual rating value is: 4.0\n",
      "\n",
      "Prediction of a particular user: 3.7246656846133024\n",
      "Actual rating value is: 3.5\n",
      "\n",
      "Prediction of a particular user: 3.4821939173381855\n",
      "Actual rating value is: 5.0\n",
      "\n",
      "\n",
      "KNN Baseline\n",
      "Estimating biases using als...\n",
      "Computing the msd similarity matrix...\n",
      "Done computing similarity matrix.\n",
      "Total Elapsed time with model is: 7.125\n",
      "Prediction of a particular user: 3.768199247286077\n",
      "Actual rating value is: 4.0\n",
      "\n",
      "Prediction of a particular user: 3.93930073213925\n",
      "Actual rating value is: 3.5\n",
      "\n",
      "Prediction of a particular user: 3.8182531787852976\n",
      "Actual rating value is: 5.0\n",
      "\n",
      "\n",
      "CoClustering\n",
      "Total Elapsed time with model is: 4.837\n",
      "Prediction of a particular user: 3.4540372280042124\n",
      "Actual rating value is: 4.0\n",
      "\n",
      "Prediction of a particular user: 3.6984816724486578\n",
      "Actual rating value is: 3.5\n",
      "\n",
      "Prediction of a particular user: 3.4821939173381855\n",
      "Actual rating value is: 5.0\n",
      "\n",
      "\n"
     ]
    }
   ],
   "source": [
    "from surprise.model_selection import train_test_split\n",
    "trainset, testset = train_test_split(data, test_size=.25, random_state=55)\n",
    "\n",
    "Models=[SVD(), NMF(), SlopeOne(), KNNBaseline(), CoClustering()]\n",
    "m=['SVD','NMF','Slop One','KNN Baseline', 'CoClustering']\n",
    "\n",
    "count=0\n",
    "\n",
    "for algo in Models:\n",
    "    print(m[count])\n",
    "    start = time.time()\n",
    "    algo.fit(trainset)\n",
    "    predictions = algo.test(testset)\n",
    "    end = time.time()    \n",
    "    print('Total Elapsed time with model is:',round(end - start,3)) \n",
    "    i=1\n",
    "    j=151\n",
    "    print('Prediction of a particular user:', algo.predict(i,j, 3).est)\n",
    "    print('Actual rating value is:', r1[(r1.userId==i)&(r1.movieId==j)]['rating'].mean())\n",
    "    print('')\n",
    "    i=1\n",
    "    j=29\n",
    "    print('Prediction of a particular user:', algo.predict(i,j, 3).est)\n",
    "    print('Actual rating value is:', r1[(r1.userId==i)&(r1.movieId==j)]['rating'].mean())\n",
    "    print('')\n",
    "    i=138493\n",
    "    j=55269\n",
    "    print('Prediction of a particular user:', algo.predict(i,j, 3).est)\n",
    "    print('Actual rating value is:', r1[(r1.userId==i)&(r1.movieId==j)]['rating'].mean())\n",
    "    print('')\n",
    "    print('')\n",
    "    count+=1\n"
   ]
  },
  {
   "cell_type": "markdown",
   "metadata": {},
   "source": [
    "#### III- Alternating Least Squares (ALS) Collaborative Filtering\n",
    "\n",
    "\n",
    "Alternating Least Squares (ALS) is a the model we’ll use to fit our data and find similarities.\n",
    "ALS is an iterative optimization process where we for every iteration try to arrive closer and closer to a factorized representation of our original data.\n",
    "We have our original matrix R of size u x i with our users, items and some type of feedback data. We then want to find a way to turn that into one matrix with users and hidden features of size u x f and one with items and hidden features of size f x i. In U and V we have weights for how each user/item relates to each feature. What we do is we calculate U and V so that their product approximates R as closely as possible: R ≈ U x V.\n",
    "\n",
    "By randomly assigning the values in U and V and using least squares iteratively we can arrive at what weights yield the best approximation of R. The least squares approach in it’s basic forms means fitting some line to the data, measuring the sum of squared distances from all points to the line and trying to get an optimal fit by minimising this value.\n",
    "\n",
    "With the alternating least squares approach we use the same idea but iteratively alternate between optimizing U and fixing V and vice versa. We do this for each iteration to arrive closer to R = U x V.\n",
    "\n",
    "For more info read article: https://medium.com/radon-dev/als-implicit-collaborative-filtering-5ed653ba39fe\n",
    "\n",
    "\n",
    "\n",
    "\n"
   ]
  },
  {
   "cell_type": "code",
   "execution_count": 53,
   "metadata": {},
   "outputs": [
    {
     "name": "stderr",
     "output_type": "stream",
     "text": [
      "WARNING:root:OpenBLAS detected. Its highly recommend to set the environment variable 'export OPENBLAS_NUM_THREADS=1' to disable its internal multithreading\n",
      "100%|██████████| 20.0/20 [00:03<00:00,  5.34it/s]\n"
     ]
    }
   ],
   "source": [
    "data=movielens\n",
    "sparse_item_user = sparse.csr_matrix((data['rating'].astype(float), (data['movieId'], data['userId'])))\n",
    "sparse_user_item = sparse.csr_matrix((data['rating'].astype(float), (data['userId'], data['movieId'])))\n",
    "\n",
    "# Initialize the als model and fit it using the sparse item-user matrix\n",
    "model = implicit.als.AlternatingLeastSquares(factors=20, regularization=0.1, iterations=20)\n",
    "\n",
    "# Calculate the confidence by multiplying it by our alpha value.\n",
    "alpha_val = 15\n",
    "data_conf = (sparse_item_user * alpha_val).astype('double')\n",
    "\n",
    "model.fit(data_conf)"
   ]
  },
  {
   "cell_type": "markdown",
   "metadata": {},
   "source": [
    "### Lets find similar items to 'Shawshank Redemption'"
   ]
  },
  {
   "cell_type": "code",
   "execution_count": 54,
   "metadata": {},
   "outputs": [
    {
     "data": {
      "text/html": [
       "<div>\n",
       "<style scoped>\n",
       "    .dataframe tbody tr th:only-of-type {\n",
       "        vertical-align: middle;\n",
       "    }\n",
       "\n",
       "    .dataframe tbody tr th {\n",
       "        vertical-align: top;\n",
       "    }\n",
       "\n",
       "    .dataframe thead th {\n",
       "        text-align: right;\n",
       "    }\n",
       "</style>\n",
       "<table border=\"1\" class=\"dataframe\">\n",
       "  <thead>\n",
       "    <tr style=\"text-align: right;\">\n",
       "      <th></th>\n",
       "      <th>MovieId</th>\n",
       "      <th>Score</th>\n",
       "      <th>Title</th>\n",
       "    </tr>\n",
       "  </thead>\n",
       "  <tbody>\n",
       "    <tr>\n",
       "      <th>0</th>\n",
       "      <td>318</td>\n",
       "      <td>0.302835</td>\n",
       "      <td>Shawshank Redemption, The (1994)</td>\n",
       "    </tr>\n",
       "    <tr>\n",
       "      <th>1</th>\n",
       "      <td>527</td>\n",
       "      <td>0.301579</td>\n",
       "      <td>Schindler's List (1993)</td>\n",
       "    </tr>\n",
       "    <tr>\n",
       "      <th>2</th>\n",
       "      <td>593</td>\n",
       "      <td>0.301338</td>\n",
       "      <td>Silence of the Lambs, The (1991)</td>\n",
       "    </tr>\n",
       "    <tr>\n",
       "      <th>3</th>\n",
       "      <td>110</td>\n",
       "      <td>0.300669</td>\n",
       "      <td>Braveheart (1995)</td>\n",
       "    </tr>\n",
       "    <tr>\n",
       "      <th>4</th>\n",
       "      <td>296</td>\n",
       "      <td>0.300460</td>\n",
       "      <td>Pulp Fiction (1994)</td>\n",
       "    </tr>\n",
       "    <tr>\n",
       "      <th>5</th>\n",
       "      <td>50</td>\n",
       "      <td>0.300460</td>\n",
       "      <td>Usual Suspects, The (1995)</td>\n",
       "    </tr>\n",
       "    <tr>\n",
       "      <th>6</th>\n",
       "      <td>356</td>\n",
       "      <td>0.300159</td>\n",
       "      <td>Forrest Gump (1994)</td>\n",
       "    </tr>\n",
       "    <tr>\n",
       "      <th>7</th>\n",
       "      <td>47</td>\n",
       "      <td>0.298370</td>\n",
       "      <td>Seven (a.k.a. Se7en) (1995)</td>\n",
       "    </tr>\n",
       "    <tr>\n",
       "      <th>8</th>\n",
       "      <td>480</td>\n",
       "      <td>0.298036</td>\n",
       "      <td>Jurassic Park (1993)</td>\n",
       "    </tr>\n",
       "    <tr>\n",
       "      <th>9</th>\n",
       "      <td>589</td>\n",
       "      <td>0.296039</td>\n",
       "      <td>Terminator 2: Judgment Day (1991)</td>\n",
       "    </tr>\n",
       "  </tbody>\n",
       "</table>\n",
       "</div>"
      ],
      "text/plain": [
       "   MovieId     Score                              Title\n",
       "0      318  0.302835   Shawshank Redemption, The (1994)\n",
       "1      527  0.301579            Schindler's List (1993)\n",
       "2      593  0.301338   Silence of the Lambs, The (1991)\n",
       "3      110  0.300669                  Braveheart (1995)\n",
       "4      296  0.300460                Pulp Fiction (1994)\n",
       "5       50  0.300460         Usual Suspects, The (1995)\n",
       "6      356  0.300159                Forrest Gump (1994)\n",
       "7       47  0.298370        Seven (a.k.a. Se7en) (1995)\n",
       "8      480  0.298036               Jurassic Park (1993)\n",
       "9      589  0.296039  Terminator 2: Judgment Day (1991)"
      ]
     },
     "execution_count": 54,
     "metadata": {},
     "output_type": "execute_result"
    }
   ],
   "source": [
    "#---------------------\n",
    "# FIND SIMILAR ITEMS\n",
    "#---------------------\n",
    "item_id = 318 #Shawshank Redemption\n",
    "n_similar = 10\n",
    "\n",
    "# Use implicit to get similar items.\n",
    "similar = model.similar_items(item_id, n_similar)\n",
    "\n",
    "a=[]\n",
    "b=[]\n",
    "c=[]\n",
    "# Print the names of our most similar movies\n",
    "for item in similar:\n",
    "    idx, score = item\n",
    "    a.append(data.movieId.loc[data.movieId == idx].iloc[0])\n",
    "    b.append(score)\n",
    "    recommendations = pd.DataFrame({'MovieId': a, 'Score': b})\n",
    "\n",
    "for i in a:\n",
    "    c.append(r1[r1.movieId==i].title.iloc[0])\n",
    "recommendations['Title']=c\n",
    "recommendations"
   ]
  },
  {
   "cell_type": "markdown",
   "metadata": {},
   "source": [
    "### Find similar items to 'Pulp Fiction'"
   ]
  },
  {
   "cell_type": "code",
   "execution_count": 55,
   "metadata": {},
   "outputs": [
    {
     "data": {
      "text/html": [
       "<div>\n",
       "<style scoped>\n",
       "    .dataframe tbody tr th:only-of-type {\n",
       "        vertical-align: middle;\n",
       "    }\n",
       "\n",
       "    .dataframe tbody tr th {\n",
       "        vertical-align: top;\n",
       "    }\n",
       "\n",
       "    .dataframe thead th {\n",
       "        text-align: right;\n",
       "    }\n",
       "</style>\n",
       "<table border=\"1\" class=\"dataframe\">\n",
       "  <thead>\n",
       "    <tr style=\"text-align: right;\">\n",
       "      <th></th>\n",
       "      <th>MovieId</th>\n",
       "      <th>Score</th>\n",
       "      <th>Title</th>\n",
       "    </tr>\n",
       "  </thead>\n",
       "  <tbody>\n",
       "    <tr>\n",
       "      <th>0</th>\n",
       "      <td>296</td>\n",
       "      <td>0.302010</td>\n",
       "      <td>Pulp Fiction (1994)</td>\n",
       "    </tr>\n",
       "    <tr>\n",
       "      <th>1</th>\n",
       "      <td>50</td>\n",
       "      <td>0.301024</td>\n",
       "      <td>Usual Suspects, The (1995)</td>\n",
       "    </tr>\n",
       "    <tr>\n",
       "      <th>2</th>\n",
       "      <td>593</td>\n",
       "      <td>0.300196</td>\n",
       "      <td>Silence of the Lambs, The (1991)</td>\n",
       "    </tr>\n",
       "    <tr>\n",
       "      <th>3</th>\n",
       "      <td>318</td>\n",
       "      <td>0.299642</td>\n",
       "      <td>Shawshank Redemption, The (1994)</td>\n",
       "    </tr>\n",
       "    <tr>\n",
       "      <th>4</th>\n",
       "      <td>527</td>\n",
       "      <td>0.299502</td>\n",
       "      <td>Schindler's List (1993)</td>\n",
       "    </tr>\n",
       "    <tr>\n",
       "      <th>5</th>\n",
       "      <td>47</td>\n",
       "      <td>0.299315</td>\n",
       "      <td>Seven (a.k.a. Se7en) (1995)</td>\n",
       "    </tr>\n",
       "    <tr>\n",
       "      <th>6</th>\n",
       "      <td>110</td>\n",
       "      <td>0.298087</td>\n",
       "      <td>Braveheart (1995)</td>\n",
       "    </tr>\n",
       "    <tr>\n",
       "      <th>7</th>\n",
       "      <td>356</td>\n",
       "      <td>0.297812</td>\n",
       "      <td>Forrest Gump (1994)</td>\n",
       "    </tr>\n",
       "    <tr>\n",
       "      <th>8</th>\n",
       "      <td>608</td>\n",
       "      <td>0.297702</td>\n",
       "      <td>Fargo (1996)</td>\n",
       "    </tr>\n",
       "    <tr>\n",
       "      <th>9</th>\n",
       "      <td>480</td>\n",
       "      <td>0.296373</td>\n",
       "      <td>Jurassic Park (1993)</td>\n",
       "    </tr>\n",
       "  </tbody>\n",
       "</table>\n",
       "</div>"
      ],
      "text/plain": [
       "   MovieId     Score                             Title\n",
       "0      296  0.302010               Pulp Fiction (1994)\n",
       "1       50  0.301024        Usual Suspects, The (1995)\n",
       "2      593  0.300196  Silence of the Lambs, The (1991)\n",
       "3      318  0.299642  Shawshank Redemption, The (1994)\n",
       "4      527  0.299502           Schindler's List (1993)\n",
       "5       47  0.299315       Seven (a.k.a. Se7en) (1995)\n",
       "6      110  0.298087                 Braveheart (1995)\n",
       "7      356  0.297812               Forrest Gump (1994)\n",
       "8      608  0.297702                      Fargo (1996)\n",
       "9      480  0.296373              Jurassic Park (1993)"
      ]
     },
     "execution_count": 55,
     "metadata": {},
     "output_type": "execute_result"
    }
   ],
   "source": [
    "#---------------------\n",
    "# FIND SIMILAR ITEMS\n",
    "#---------------------\n",
    "item_id = 296 #Pulp fiction\n",
    "n_similar = 10\n",
    "\n",
    "# Use implicit to get similar items.\n",
    "similar = model.similar_items(item_id, n_similar)\n",
    "\n",
    "a=[]\n",
    "b=[]\n",
    "c=[]\n",
    "# Print the names of our most similar movies\n",
    "for item in similar:\n",
    "    idx, score = item\n",
    "    a.append(data.movieId.loc[data.movieId == idx].iloc[0])\n",
    "    b.append(score)\n",
    "    recommendations = pd.DataFrame({'MovieId': a, 'Score': b})\n",
    "\n",
    "for i in a:\n",
    "    c.append(r1[r1.movieId==i].title.iloc[0])\n",
    "recommendations['Title']=c\n",
    "recommendations"
   ]
  },
  {
   "cell_type": "markdown",
   "metadata": {},
   "source": [
    "### Recommend movies to user_id=1"
   ]
  },
  {
   "cell_type": "code",
   "execution_count": 56,
   "metadata": {},
   "outputs": [
    {
     "data": {
      "text/html": [
       "<div>\n",
       "<style scoped>\n",
       "    .dataframe tbody tr th:only-of-type {\n",
       "        vertical-align: middle;\n",
       "    }\n",
       "\n",
       "    .dataframe tbody tr th {\n",
       "        vertical-align: top;\n",
       "    }\n",
       "\n",
       "    .dataframe thead th {\n",
       "        text-align: right;\n",
       "    }\n",
       "</style>\n",
       "<table border=\"1\" class=\"dataframe\">\n",
       "  <thead>\n",
       "    <tr style=\"text-align: right;\">\n",
       "      <th></th>\n",
       "      <th>MovieId</th>\n",
       "      <th>Score</th>\n",
       "      <th>Title</th>\n",
       "    </tr>\n",
       "  </thead>\n",
       "  <tbody>\n",
       "    <tr>\n",
       "      <th>0</th>\n",
       "      <td>594</td>\n",
       "      <td>1.362166</td>\n",
       "      <td>Snow White and the Seven Dwarfs (1937)</td>\n",
       "    </tr>\n",
       "    <tr>\n",
       "      <th>1</th>\n",
       "      <td>2019</td>\n",
       "      <td>1.331825</td>\n",
       "      <td>Seven Samurai (Shichinin no samurai) (1954)</td>\n",
       "    </tr>\n",
       "    <tr>\n",
       "      <th>2</th>\n",
       "      <td>3703</td>\n",
       "      <td>1.304854</td>\n",
       "      <td>Road Warrior, The (Mad Max 2) (1981)</td>\n",
       "    </tr>\n",
       "    <tr>\n",
       "      <th>3</th>\n",
       "      <td>720</td>\n",
       "      <td>1.297422</td>\n",
       "      <td>Wallace &amp; Gromit: The Best of Aardman Animatio...</td>\n",
       "    </tr>\n",
       "    <tr>\n",
       "      <th>4</th>\n",
       "      <td>1375</td>\n",
       "      <td>1.285937</td>\n",
       "      <td>Star Trek III: The Search for Spock (1984)</td>\n",
       "    </tr>\n",
       "    <tr>\n",
       "      <th>5</th>\n",
       "      <td>1282</td>\n",
       "      <td>1.277820</td>\n",
       "      <td>Fantasia (1940)</td>\n",
       "    </tr>\n",
       "    <tr>\n",
       "      <th>6</th>\n",
       "      <td>551</td>\n",
       "      <td>1.234990</td>\n",
       "      <td>Nightmare Before Christmas, The (1993)</td>\n",
       "    </tr>\n",
       "    <tr>\n",
       "      <th>7</th>\n",
       "      <td>2657</td>\n",
       "      <td>1.218386</td>\n",
       "      <td>Rocky Horror Picture Show, The (1975)</td>\n",
       "    </tr>\n",
       "    <tr>\n",
       "      <th>8</th>\n",
       "      <td>2160</td>\n",
       "      <td>1.211304</td>\n",
       "      <td>Rosemary's Baby (1968)</td>\n",
       "    </tr>\n",
       "    <tr>\n",
       "      <th>9</th>\n",
       "      <td>1748</td>\n",
       "      <td>1.211127</td>\n",
       "      <td>Dark City (1998)</td>\n",
       "    </tr>\n",
       "  </tbody>\n",
       "</table>\n",
       "</div>"
      ],
      "text/plain": [
       "   MovieId     Score                                              Title\n",
       "0      594  1.362166             Snow White and the Seven Dwarfs (1937)\n",
       "1     2019  1.331825        Seven Samurai (Shichinin no samurai) (1954)\n",
       "2     3703  1.304854               Road Warrior, The (Mad Max 2) (1981)\n",
       "3      720  1.297422  Wallace & Gromit: The Best of Aardman Animatio...\n",
       "4     1375  1.285937         Star Trek III: The Search for Spock (1984)\n",
       "5     1282  1.277820                                    Fantasia (1940)\n",
       "6      551  1.234990             Nightmare Before Christmas, The (1993)\n",
       "7     2657  1.218386              Rocky Horror Picture Show, The (1975)\n",
       "8     2160  1.211304                             Rosemary's Baby (1968)\n",
       "9     1748  1.211127                                   Dark City (1998)"
      ]
     },
     "execution_count": 56,
     "metadata": {},
     "output_type": "execute_result"
    }
   ],
   "source": [
    "#------------------------------\n",
    "# CREATE USER RECOMMENDATIONS\n",
    "#------------------------------\n",
    "\n",
    "# Create recommendations for user with id 1\n",
    "user_id =1\n",
    "\n",
    "# Use the implicit recommender.\n",
    "recommended = model.recommend(user_id, sparse_user_item)\n",
    "\n",
    "movies = []\n",
    "scores = []\n",
    "c=[]\n",
    "\n",
    "for item in recommended:\n",
    "    idx, score=item\n",
    "    movies.append(data.movieId.loc[data.movieId==idx].iloc[0])\n",
    "    scores.append(score)\n",
    "\n",
    "\n",
    "recommendations = pd.DataFrame({'MovieId': movies, 'Score': scores})\n",
    "\n",
    "for i in movies:\n",
    "    c.append(r1[r1.movieId==i].title.iloc[0])\n",
    "recommendations['Title']=c\n",
    "recommendations"
   ]
  },
  {
   "cell_type": "markdown",
   "metadata": {},
   "source": [
    "### Recommend movies to user_id=903"
   ]
  },
  {
   "cell_type": "code",
   "execution_count": 57,
   "metadata": {},
   "outputs": [
    {
     "data": {
      "text/html": [
       "<div>\n",
       "<style scoped>\n",
       "    .dataframe tbody tr th:only-of-type {\n",
       "        vertical-align: middle;\n",
       "    }\n",
       "\n",
       "    .dataframe tbody tr th {\n",
       "        vertical-align: top;\n",
       "    }\n",
       "\n",
       "    .dataframe thead th {\n",
       "        text-align: right;\n",
       "    }\n",
       "</style>\n",
       "<table border=\"1\" class=\"dataframe\">\n",
       "  <thead>\n",
       "    <tr style=\"text-align: right;\">\n",
       "      <th></th>\n",
       "      <th>MovieId</th>\n",
       "      <th>Score</th>\n",
       "      <th>Title</th>\n",
       "    </tr>\n",
       "  </thead>\n",
       "  <tbody>\n",
       "    <tr>\n",
       "      <th>0</th>\n",
       "      <td>2594</td>\n",
       "      <td>1.563788</td>\n",
       "      <td>Open Your Eyes (Abre los ojos) (1997)</td>\n",
       "    </tr>\n",
       "    <tr>\n",
       "      <th>1</th>\n",
       "      <td>2025</td>\n",
       "      <td>1.354905</td>\n",
       "      <td>Lolita (1997)</td>\n",
       "    </tr>\n",
       "    <tr>\n",
       "      <th>2</th>\n",
       "      <td>1464</td>\n",
       "      <td>1.273544</td>\n",
       "      <td>Lost Highway (1997)</td>\n",
       "    </tr>\n",
       "    <tr>\n",
       "      <th>3</th>\n",
       "      <td>2774</td>\n",
       "      <td>1.260954</td>\n",
       "      <td>Better Than Chocolate (1999)</td>\n",
       "    </tr>\n",
       "    <tr>\n",
       "      <th>4</th>\n",
       "      <td>6791</td>\n",
       "      <td>1.249452</td>\n",
       "      <td>Babette's Feast (Babettes gæstebud) (1987)</td>\n",
       "    </tr>\n",
       "    <tr>\n",
       "      <th>5</th>\n",
       "      <td>938</td>\n",
       "      <td>1.218925</td>\n",
       "      <td>Gigi (1958)</td>\n",
       "    </tr>\n",
       "    <tr>\n",
       "      <th>6</th>\n",
       "      <td>3339</td>\n",
       "      <td>1.194975</td>\n",
       "      <td>Cross of Iron (1977)</td>\n",
       "    </tr>\n",
       "    <tr>\n",
       "      <th>7</th>\n",
       "      <td>2554</td>\n",
       "      <td>1.188760</td>\n",
       "      <td>Children of the Damned (1963)</td>\n",
       "    </tr>\n",
       "    <tr>\n",
       "      <th>8</th>\n",
       "      <td>2906</td>\n",
       "      <td>1.186439</td>\n",
       "      <td>Random Hearts (1999)</td>\n",
       "    </tr>\n",
       "    <tr>\n",
       "      <th>9</th>\n",
       "      <td>2559</td>\n",
       "      <td>1.186221</td>\n",
       "      <td>King and I, The (1999)</td>\n",
       "    </tr>\n",
       "  </tbody>\n",
       "</table>\n",
       "</div>"
      ],
      "text/plain": [
       "   MovieId     Score                                       Title\n",
       "0     2594  1.563788       Open Your Eyes (Abre los ojos) (1997)\n",
       "1     2025  1.354905                               Lolita (1997)\n",
       "2     1464  1.273544                         Lost Highway (1997)\n",
       "3     2774  1.260954                Better Than Chocolate (1999)\n",
       "4     6791  1.249452  Babette's Feast (Babettes gæstebud) (1987)\n",
       "5      938  1.218925                                 Gigi (1958)\n",
       "6     3339  1.194975                        Cross of Iron (1977)\n",
       "7     2554  1.188760               Children of the Damned (1963)\n",
       "8     2906  1.186439                        Random Hearts (1999)\n",
       "9     2559  1.186221                      King and I, The (1999)"
      ]
     },
     "execution_count": 57,
     "metadata": {},
     "output_type": "execute_result"
    }
   ],
   "source": [
    "#------------------------------\n",
    "# CREATE USER RECOMMENDATIONS\n",
    "#------------------------------\n",
    "\n",
    "# Create recommendations for user with id 903\n",
    "user_id =903\n",
    "\n",
    "# Use the implicit recommender.\n",
    "recommended = model.recommend(user_id, sparse_user_item)\n",
    "\n",
    "movies = []\n",
    "scores = []\n",
    "c=[]\n",
    "\n",
    "for item in recommended:\n",
    "    idx, score=item\n",
    "    movies.append(data.movieId.loc[data.movieId==idx].iloc[0])\n",
    "    scores.append(score)\n",
    "\n",
    "\n",
    "recommendations = pd.DataFrame({'MovieId': movies, 'Score': scores})\n",
    "\n",
    "for i in movies:\n",
    "    c.append(r1[r1.movieId==i].title.iloc[0])\n",
    "recommendations['Title']=c\n",
    "recommendations"
   ]
  },
  {
   "cell_type": "markdown",
   "metadata": {},
   "source": [
    "### Future Work"
   ]
  },
  {
   "cell_type": "markdown",
   "metadata": {},
   "source": [
    "\n",
    "## 5- Recommender system with Deep Learning by Keras and TensorRec\n",
    "\n",
    "Read this article for more info:\n",
    "https://hackernoon.com/deep-learning-for-recommendation-with-keras-and-tensorrec-2b8935c795d0"
   ]
  }
 ],
 "metadata": {
  "kernelspec": {
   "display_name": "Python 3",
   "language": "python",
   "name": "python3"
  },
  "language_info": {
   "codemirror_mode": {
    "name": "ipython",
    "version": 3
   },
   "file_extension": ".py",
   "mimetype": "text/x-python",
   "name": "python",
   "nbconvert_exporter": "python",
   "pygments_lexer": "ipython3",
   "version": "3.6.5"
  }
 },
 "nbformat": 4,
 "nbformat_minor": 2
}
