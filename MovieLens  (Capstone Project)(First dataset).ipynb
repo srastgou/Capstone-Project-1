{
 "cells": [
  {
   "cell_type": "markdown",
   "metadata": {},
   "source": [
    "# First DataSet: MovieLens\n",
    "(https://grouplens.org/datasets/movielens)\n",
    "\n",
    "## Problem Statement\n",
    "\n",
    "Nowadays, we need recommender systems almost everywhere in our lives. Therefore, retailers are become more interested in recommender systems to analyze patterns of user interest in products and provide personalized recommendations. The first goal of this project is understanding, analyzing, and correlating the trend in average rating movies of different genres from 1995-2015. The second goal is building a recommender engine to predict the rating of each movie. \n",
    "\n",
    "## Business Objective\n",
    "\n",
    "The recommender system is useful to any business that makes money via recommendations. Since we want to work with movie dataset, the client of this project could be Amazon, Netflix, Hulu, HBO, etc. \n",
    "Giving good recommendations will help users spend less time searching for their type of movie and having a recommender platform. This will help the customer to continue with the service and having a good experience.\n",
    "\n",
    "## Data\n",
    "\n",
    "Two data set have been used for this project:\n",
    "\n",
    "1- The first data set has been collected from a free, noncommercial movie recommender MoviLens.org. (https://grouplens.org/datasets/movielens) This recommender is like Netflix, minus the ability to watch movies. The dataset which was released in April 2015 contains 20 million ratings and 465,000 tag applications applied to 27,000 movies by 138,000 users (movies.csv, ratings.csv, link.csv). The data has been created in October 2016. Users were selected at random for inclusion. All selected users had rated at least 20 movies. \n",
    "\n",
    "2- The second data set is from https://www.kaggle.com/karrrimba/movie-metadatacsv \n",
    "\n",
    "## Solution\n",
    "\n",
    "- **How to get the insight about how people’s rating change for different genres over the years?**\n",
    "\n",
    "Getting different distributions of the movie-ratings and  movie-relevancy across title, genre, year, and tag of each movie can give the insight about how people’s taste vary over the years. Different inferential statistics and visualization techniques can be implemented to deliver a better understanding of the trends.\n",
    " \n",
    "- **How to predict the rating?**\n",
    "\n",
    "In this work several recommender engines like Content-base filtering, Collaborative filtering (CF), and hybrid techniques will use to analyze relationships between users and interdependencies among products to identify new user-item associations. The best solution will be the CF algorithms which are based on a user-item rating matrix where each row represents a user, each column an item. The entries of this matrix are ratings given by users to items. ne of the primary areas of collaborative filtering is the latent factor models which are based on matrix factorization. In this work, the Singular Value Decomposition (SVD) technique will be used to predict the ratings. \n"
   ]
  },
  {
   "cell_type": "markdown",
   "metadata": {},
   "source": [
    "## Import libraries, Read the data"
   ]
  },
  {
   "cell_type": "code",
   "execution_count": 53,
   "metadata": {},
   "outputs": [],
   "source": [
    "%matplotlib inline\n",
    "import pandas as pd\n",
    "import numpy as np\n",
    "import matplotlib.pyplot as plt\n",
    "import seaborn as sns\n",
    "from scipy import stats\n",
    "import time\n",
    "from ast import literal_eval\n",
    "from sklearn.feature_extraction.text import TfidfVectorizer, CountVectorizer\n",
    "from sklearn.metrics.pairwise import linear_kernel, cosine_similarity\n",
    "from nltk.stem.snowball import SnowballStemmer\n",
    "from nltk.stem.wordnet import WordNetLemmatizer\n",
    "from nltk.corpus import wordnet\n",
    "from surprise import Reader, Dataset, SVD, evaluate, SlopeOne, NMF, SVDpp, KNNBaseline, CoClustering, accuracy\n",
    "from surprise.model_selection import cross_validate\n",
    "from __future__ import (absolute_import, division, print_function,unicode_literals)\n",
    "from sklearn.model_selection import train_test_split\n",
    "from wordcloud import WordCloud, STOPWORDS, ImageColorGenerator\n",
    "import sys\n",
    "import scipy.sparse as sparse\n",
    "from scipy.sparse.linalg import spsolve\n",
    "import random\n",
    "from sklearn.preprocessing import MinMaxScaler\n",
    "import implicit\n",
    "import tensorrec"
   ]
  },
  {
   "cell_type": "markdown",
   "metadata": {},
   "source": [
    "Reading the data"
   ]
  },
  {
   "cell_type": "code",
   "execution_count": 2,
   "metadata": {},
   "outputs": [
    {
     "data": {
      "text/html": [
       "<div>\n",
       "<style scoped>\n",
       "    .dataframe tbody tr th:only-of-type {\n",
       "        vertical-align: middle;\n",
       "    }\n",
       "\n",
       "    .dataframe tbody tr th {\n",
       "        vertical-align: top;\n",
       "    }\n",
       "\n",
       "    .dataframe thead th {\n",
       "        text-align: right;\n",
       "    }\n",
       "</style>\n",
       "<table border=\"1\" class=\"dataframe\">\n",
       "  <thead>\n",
       "    <tr style=\"text-align: right;\">\n",
       "      <th></th>\n",
       "      <th>userId</th>\n",
       "      <th>movieId</th>\n",
       "      <th>rating</th>\n",
       "      <th>timestamp</th>\n",
       "    </tr>\n",
       "  </thead>\n",
       "  <tbody>\n",
       "    <tr>\n",
       "      <th>0</th>\n",
       "      <td>1</td>\n",
       "      <td>2</td>\n",
       "      <td>3.5</td>\n",
       "      <td>1112486027</td>\n",
       "    </tr>\n",
       "    <tr>\n",
       "      <th>1</th>\n",
       "      <td>1</td>\n",
       "      <td>29</td>\n",
       "      <td>3.5</td>\n",
       "      <td>1112484676</td>\n",
       "    </tr>\n",
       "    <tr>\n",
       "      <th>2</th>\n",
       "      <td>1</td>\n",
       "      <td>32</td>\n",
       "      <td>3.5</td>\n",
       "      <td>1112484819</td>\n",
       "    </tr>\n",
       "    <tr>\n",
       "      <th>3</th>\n",
       "      <td>1</td>\n",
       "      <td>47</td>\n",
       "      <td>3.5</td>\n",
       "      <td>1112484727</td>\n",
       "    </tr>\n",
       "    <tr>\n",
       "      <th>4</th>\n",
       "      <td>1</td>\n",
       "      <td>50</td>\n",
       "      <td>3.5</td>\n",
       "      <td>1112484580</td>\n",
       "    </tr>\n",
       "  </tbody>\n",
       "</table>\n",
       "</div>"
      ],
      "text/plain": [
       "   userId  movieId  rating   timestamp\n",
       "0       1        2     3.5  1112486027\n",
       "1       1       29     3.5  1112484676\n",
       "2       1       32     3.5  1112484819\n",
       "3       1       47     3.5  1112484727\n",
       "4       1       50     3.5  1112484580"
      ]
     },
     "execution_count": 2,
     "metadata": {},
     "output_type": "execute_result"
    }
   ],
   "source": [
    "r=pd.read_csv('ratings.csv')\n",
    "r.head()"
   ]
  },
  {
   "cell_type": "code",
   "execution_count": 3,
   "metadata": {},
   "outputs": [
    {
     "data": {
      "text/html": [
       "<div>\n",
       "<style scoped>\n",
       "    .dataframe tbody tr th:only-of-type {\n",
       "        vertical-align: middle;\n",
       "    }\n",
       "\n",
       "    .dataframe tbody tr th {\n",
       "        vertical-align: top;\n",
       "    }\n",
       "\n",
       "    .dataframe thead th {\n",
       "        text-align: right;\n",
       "    }\n",
       "</style>\n",
       "<table border=\"1\" class=\"dataframe\">\n",
       "  <thead>\n",
       "    <tr style=\"text-align: right;\">\n",
       "      <th></th>\n",
       "      <th>movieId</th>\n",
       "      <th>title</th>\n",
       "      <th>genres</th>\n",
       "    </tr>\n",
       "  </thead>\n",
       "  <tbody>\n",
       "    <tr>\n",
       "      <th>0</th>\n",
       "      <td>1</td>\n",
       "      <td>Toy Story (1995)</td>\n",
       "      <td>Adventure|Animation|Children|Comedy|Fantasy</td>\n",
       "    </tr>\n",
       "    <tr>\n",
       "      <th>1</th>\n",
       "      <td>2</td>\n",
       "      <td>Jumanji (1995)</td>\n",
       "      <td>Adventure|Children|Fantasy</td>\n",
       "    </tr>\n",
       "    <tr>\n",
       "      <th>2</th>\n",
       "      <td>3</td>\n",
       "      <td>Grumpier Old Men (1995)</td>\n",
       "      <td>Comedy|Romance</td>\n",
       "    </tr>\n",
       "    <tr>\n",
       "      <th>3</th>\n",
       "      <td>4</td>\n",
       "      <td>Waiting to Exhale (1995)</td>\n",
       "      <td>Comedy|Drama|Romance</td>\n",
       "    </tr>\n",
       "    <tr>\n",
       "      <th>4</th>\n",
       "      <td>5</td>\n",
       "      <td>Father of the Bride Part II (1995)</td>\n",
       "      <td>Comedy</td>\n",
       "    </tr>\n",
       "  </tbody>\n",
       "</table>\n",
       "</div>"
      ],
      "text/plain": [
       "   movieId                               title  \\\n",
       "0        1                    Toy Story (1995)   \n",
       "1        2                      Jumanji (1995)   \n",
       "2        3             Grumpier Old Men (1995)   \n",
       "3        4            Waiting to Exhale (1995)   \n",
       "4        5  Father of the Bride Part II (1995)   \n",
       "\n",
       "                                        genres  \n",
       "0  Adventure|Animation|Children|Comedy|Fantasy  \n",
       "1                   Adventure|Children|Fantasy  \n",
       "2                               Comedy|Romance  \n",
       "3                         Comedy|Drama|Romance  \n",
       "4                                       Comedy  "
      ]
     },
     "execution_count": 3,
     "metadata": {},
     "output_type": "execute_result"
    }
   ],
   "source": [
    "movies=pd.read_csv('movies.csv')\n",
    "movies.head()"
   ]
  },
  {
   "cell_type": "markdown",
   "metadata": {},
   "source": [
    "# Data Wrangling"
   ]
  },
  {
   "cell_type": "code",
   "execution_count": 4,
   "metadata": {},
   "outputs": [
    {
     "data": {
      "text/html": [
       "<div>\n",
       "<style scoped>\n",
       "    .dataframe tbody tr th:only-of-type {\n",
       "        vertical-align: middle;\n",
       "    }\n",
       "\n",
       "    .dataframe tbody tr th {\n",
       "        vertical-align: top;\n",
       "    }\n",
       "\n",
       "    .dataframe thead th {\n",
       "        text-align: right;\n",
       "    }\n",
       "</style>\n",
       "<table border=\"1\" class=\"dataframe\">\n",
       "  <thead>\n",
       "    <tr style=\"text-align: right;\">\n",
       "      <th></th>\n",
       "      <th>title</th>\n",
       "      <th>genres</th>\n",
       "      <th>year</th>\n",
       "      <th>Decade</th>\n",
       "    </tr>\n",
       "    <tr>\n",
       "      <th>movieId</th>\n",
       "      <th></th>\n",
       "      <th></th>\n",
       "      <th></th>\n",
       "      <th></th>\n",
       "    </tr>\n",
       "  </thead>\n",
       "  <tbody>\n",
       "    <tr>\n",
       "      <th>129851</th>\n",
       "      <td>Dickson Greeting (1891)</td>\n",
       "      <td>[(no genres listed)]</td>\n",
       "      <td>1891</td>\n",
       "      <td>1890</td>\n",
       "    </tr>\n",
       "    <tr>\n",
       "      <th>95541</th>\n",
       "      <td>Blacksmith Scene (1893)</td>\n",
       "      <td>[(no genres listed)]</td>\n",
       "      <td>1893</td>\n",
       "      <td>1890</td>\n",
       "    </tr>\n",
       "    <tr>\n",
       "      <th>94951</th>\n",
       "      <td>Dickson Experimental Sound Film (1894)</td>\n",
       "      <td>[Musical]</td>\n",
       "      <td>1894</td>\n",
       "      <td>1890</td>\n",
       "    </tr>\n",
       "    <tr>\n",
       "      <th>88674</th>\n",
       "      <td>Edison Kinetoscopic Record of a Sneeze (1894)</td>\n",
       "      <td>[Documentary]</td>\n",
       "      <td>1894</td>\n",
       "      <td>1890</td>\n",
       "    </tr>\n",
       "    <tr>\n",
       "      <th>120869</th>\n",
       "      <td>Employees Leaving the Lumière Factory (1895)</td>\n",
       "      <td>[Documentary]</td>\n",
       "      <td>1895</td>\n",
       "      <td>1890</td>\n",
       "    </tr>\n",
       "  </tbody>\n",
       "</table>\n",
       "</div>"
      ],
      "text/plain": [
       "                                                 title                genres  \\\n",
       "movieId                                                                        \n",
       "129851                         Dickson Greeting (1891)  [(no genres listed)]   \n",
       "95541                          Blacksmith Scene (1893)  [(no genres listed)]   \n",
       "94951           Dickson Experimental Sound Film (1894)             [Musical]   \n",
       "88674    Edison Kinetoscopic Record of a Sneeze (1894)         [Documentary]   \n",
       "120869    Employees Leaving the Lumière Factory (1895)         [Documentary]   \n",
       "\n",
       "         year  Decade  \n",
       "movieId                \n",
       "129851   1891    1890  \n",
       "95541    1893    1890  \n",
       "94951    1894    1890  \n",
       "88674    1894    1890  \n",
       "120869   1895    1890  "
      ]
     },
     "execution_count": 4,
     "metadata": {},
     "output_type": "execute_result"
    }
   ],
   "source": [
    "movies['genres'] = movies['genres'].str.split('|')\n",
    "movies['year']=movies['title'].str[-5:-1]\n",
    "movies=movies[(movies['title'].str[-1]==')')&(movies['title'].str[-6]=='(')] #drop the movies without year in title\n",
    "movies.year=pd.to_numeric(movies.year)\n",
    "movies['Decade']=movies['year']//10 *10\n",
    "movies=movies.set_index('movieId')\n",
    "movies.sort_values('year').head() "
   ]
  },
  {
   "cell_type": "markdown",
   "metadata": {},
   "source": [
    "** Seperating each Genre**"
   ]
  },
  {
   "cell_type": "code",
   "execution_count": 5,
   "metadata": {},
   "outputs": [
    {
     "name": "stdout",
     "output_type": "stream",
     "text": [
      "Available Genres:  ['Adventure' 'Animation' 'Children' 'Comedy' 'Fantasy' 'Romance' 'Drama'\n",
      " 'Action' 'Crime' 'Thriller' 'Horror' 'Mystery' 'Sci-Fi' 'IMAX'\n",
      " 'Documentary' 'War' 'Musical' 'Western' 'Film-Noir' '(no genres listed)']\n"
     ]
    },
    {
     "data": {
      "text/html": [
       "<div>\n",
       "<style scoped>\n",
       "    .dataframe tbody tr th:only-of-type {\n",
       "        vertical-align: middle;\n",
       "    }\n",
       "\n",
       "    .dataframe tbody tr th {\n",
       "        vertical-align: top;\n",
       "    }\n",
       "\n",
       "    .dataframe thead th {\n",
       "        text-align: right;\n",
       "    }\n",
       "</style>\n",
       "<table border=\"1\" class=\"dataframe\">\n",
       "  <thead>\n",
       "    <tr style=\"text-align: right;\">\n",
       "      <th></th>\n",
       "      <th>movieId</th>\n",
       "      <th>title</th>\n",
       "      <th>year</th>\n",
       "      <th>level</th>\n",
       "      <th>genres</th>\n",
       "    </tr>\n",
       "  </thead>\n",
       "  <tbody>\n",
       "    <tr>\n",
       "      <th>0</th>\n",
       "      <td>1</td>\n",
       "      <td>Toy Story (1995)</td>\n",
       "      <td>1995</td>\n",
       "      <td>0</td>\n",
       "      <td>Adventure</td>\n",
       "    </tr>\n",
       "    <tr>\n",
       "      <th>1</th>\n",
       "      <td>1</td>\n",
       "      <td>Toy Story (1995)</td>\n",
       "      <td>1995</td>\n",
       "      <td>1</td>\n",
       "      <td>Animation</td>\n",
       "    </tr>\n",
       "    <tr>\n",
       "      <th>2</th>\n",
       "      <td>1</td>\n",
       "      <td>Toy Story (1995)</td>\n",
       "      <td>1995</td>\n",
       "      <td>2</td>\n",
       "      <td>Children</td>\n",
       "    </tr>\n",
       "    <tr>\n",
       "      <th>3</th>\n",
       "      <td>1</td>\n",
       "      <td>Toy Story (1995)</td>\n",
       "      <td>1995</td>\n",
       "      <td>3</td>\n",
       "      <td>Comedy</td>\n",
       "    </tr>\n",
       "    <tr>\n",
       "      <th>4</th>\n",
       "      <td>1</td>\n",
       "      <td>Toy Story (1995)</td>\n",
       "      <td>1995</td>\n",
       "      <td>4</td>\n",
       "      <td>Fantasy</td>\n",
       "    </tr>\n",
       "  </tbody>\n",
       "</table>\n",
       "</div>"
      ],
      "text/plain": [
       "   movieId             title  year  level     genres\n",
       "0        1  Toy Story (1995)  1995      0  Adventure\n",
       "1        1  Toy Story (1995)  1995      1  Animation\n",
       "2        1  Toy Story (1995)  1995      2   Children\n",
       "3        1  Toy Story (1995)  1995      3     Comedy\n",
       "4        1  Toy Story (1995)  1995      4    Fantasy"
      ]
     },
     "execution_count": 5,
     "metadata": {},
     "output_type": "execute_result"
    }
   ],
   "source": [
    "sep = movies.reset_index().set_index(['movieId','title','year'])['genres'].apply(pd.Series).stack()\n",
    "sep = sep.reset_index()\n",
    "sep.columns=['movieId','title','year','level','genres']\n",
    "sep.to_csv('sep.csv')\n",
    "print('Available Genres: ',sep.genres.unique())\n",
    "sep.head()"
   ]
  },
  {
   "cell_type": "markdown",
   "metadata": {},
   "source": [
    "# Exploratory Data Analysis (Story telling)"
   ]
  },
  {
   "cell_type": "markdown",
   "metadata": {},
   "source": [
    "Total number of movies of each Genre\n",
    "\n",
    "**Drama, Comedy, and Thriller** have the most production.\n"
   ]
  },
  {
   "cell_type": "code",
   "execution_count": 6,
   "metadata": {},
   "outputs": [
    {
     "data": {
      "image/png": "[encoded data removed]",
      "text/plain": [
       "<Figure size 576x360 with 1 Axes>"
      ]
     },
     "metadata": {},
     "output_type": "display_data"
    }
   ],
   "source": [
    "plt.figure(figsize=(8,5))\n",
    "sep['genres'].value_counts().plot(kind='bar')\n",
    "plt.ylabel('Number of movies in each genre')\n",
    "plt.xlabel('Genre')\n",
    "plt.show()"
   ]
  },
  {
   "cell_type": "markdown",
   "metadata": {},
   "source": [
    "Total number of movies in each decade\n",
    "\n",
    "Most production was in **2000 decade.**"
   ]
  },
  {
   "cell_type": "code",
   "execution_count": 7,
   "metadata": {},
   "outputs": [
    {
     "data": {
      "image/png": "[encoded data removed]",
      "text/plain": [
       "<Figure size 576x360 with 1 Axes>"
      ]
     },
     "metadata": {},
     "output_type": "display_data"
    }
   ],
   "source": [
    "plt.figure(figsize=(8,5))\n",
    "movies['Decade'].value_counts().sort_index().plot(kind='bar') \n",
    "plt.xlabel('Decade')\n",
    "plt.ylabel('Number of movies in each decade')\n",
    "plt.show()"
   ]
  },
  {
   "cell_type": "markdown",
   "metadata": {},
   "source": [
    "3 years with most Drama genre are:\n",
    "\n",
    "Most drama movies produced in **2009, 2007, and 2008** respectively."
   ]
  },
  {
   "cell_type": "code",
   "execution_count": 8,
   "metadata": {},
   "outputs": [
    {
     "data": {
      "text/plain": [
       "2009    505\n",
       "2007    473\n",
       "2008    462\n",
       "Name: year, dtype: int64"
      ]
     },
     "execution_count": 8,
     "metadata": {},
     "output_type": "execute_result"
    }
   ],
   "source": [
    "sep[sep['genres']=='Drama']['year'].value_counts().head(3) "
   ]
  },
  {
   "cell_type": "markdown",
   "metadata": {},
   "source": [
    "Number of drama movies in each decade.\n",
    "\n",
    "Most drama movies produced in **2000 decade**."
   ]
  },
  {
   "cell_type": "code",
   "execution_count": 9,
   "metadata": {
    "scrolled": true
   },
   "outputs": [
    {
     "data": {
      "image/png": "[encoded data removed]",
      "text/plain": [
       "<Figure size 576x360 with 1 Axes>"
      ]
     },
     "metadata": {},
     "output_type": "display_data"
    }
   ],
   "source": [
    "plt.figure(figsize=(8,5))\n",
    "sep['Decade']=sep['year']//10 *10\n",
    "sep[sep['genres']=='Drama']['Decade'].value_counts().sort_index().plot(kind='bar')\n",
    "plt.xlabel('Decade')\n",
    "plt.ylabel('Number of Drama movies in each decade')\n",
    "plt.show()"
   ]
  },
  {
   "cell_type": "markdown",
   "metadata": {},
   "source": [
    "Movies with same title including the year are:\n",
    "\n",
    "*16 movies* are with same title."
   ]
  },
  {
   "cell_type": "code",
   "execution_count": 10,
   "metadata": {},
   "outputs": [
    {
     "data": {
      "text/plain": [
       "16"
      ]
     },
     "execution_count": 10,
     "metadata": {},
     "output_type": "execute_result"
    }
   ],
   "source": [
    "sum(movies['title'].value_counts()>1)"
   ]
  },
  {
   "cell_type": "markdown",
   "metadata": {},
   "source": [
    "These movies which have repeated twice including the year are:"
   ]
  },
  {
   "cell_type": "code",
   "execution_count": 11,
   "metadata": {},
   "outputs": [
    {
     "data": {
      "text/plain": [
       "Johnny Express (2014)                  2\n",
       "Casanova (2005)                        2\n",
       "Paradise (2013)                        2\n",
       "Girl, The (2012)                       2\n",
       "Clear History (2013)                   2\n",
       "Aladdin (1992)                         2\n",
       "20,000 Leagues Under the Sea (1997)    2\n",
       "Blackout (2007)                        2\n",
       "Men with Guns (1997)                   2\n",
       "Chaos (2005)                           2\n",
       "Darling (2007)                         2\n",
       "Beneath (2013)                         2\n",
       "Emma (1996)                            2\n",
       "Offside (2006)                         2\n",
       "War of the Worlds (2005)               2\n",
       "Hamlet (2000)                          2\n",
       "Name: title, dtype: int64"
      ]
     },
     "execution_count": 11,
     "metadata": {},
     "output_type": "execute_result"
    }
   ],
   "source": [
    "movies['title'].value_counts().head(16) "
   ]
  },
  {
   "cell_type": "markdown",
   "metadata": {},
   "source": [
    "These movie titles (excluding the year in the title) have been repeated several times."
   ]
  },
  {
   "cell_type": "code",
   "execution_count": 12,
   "metadata": {},
   "outputs": [
    {
     "data": {
      "text/plain": [
       "Misérables, Les                   9\n",
       "Hamlet                            8\n",
       "Three Musketeers, The             7\n",
       "Wuthering Heights                 6\n",
       "Alice in Wonderland               6\n",
       "Christmas Carol, A                6\n",
       "Cinderella                        5\n",
       "Jane Eyre                         5\n",
       "Cargo                             4\n",
       "Carrie                            4\n",
       "20,000 Leagues Under the Sea      4\n",
       "Hound of the Baskervilles, The    4\n",
       "Angel                             4\n",
       "The Count of Monte Cristo         4\n",
       "Dangerous Liaisons                4\n",
       "Dr. Jekyll and Mr. Hyde           4\n",
       "Boy Meets Girl                    4\n",
       "Paradise                          4\n",
       "Emma                              4\n",
       "Treasure Island                   4\n",
       "Name: Name, dtype: int64"
      ]
     },
     "execution_count": 12,
     "metadata": {},
     "output_type": "execute_result"
    }
   ],
   "source": [
    "movies['Name']=movies['title'].str[:-7] #removing the year from title\n",
    "movies['Name'].value_counts().head(20) "
   ]
  },
  {
   "cell_type": "markdown",
   "metadata": {},
   "source": [
    "8 movies have been produced with the title 'Hamlet', The following barplot shows the number of 'Hamlet' movies in each decade."
   ]
  },
  {
   "cell_type": "code",
   "execution_count": 13,
   "metadata": {},
   "outputs": [
    {
     "data": {
      "image/png": "[encoded data removed]",
      "text/plain": [
       "<Figure size 432x288 with 1 Axes>"
      ]
     },
     "metadata": {},
     "output_type": "display_data"
    }
   ],
   "source": [
    "movies[movies.Name=='Hamlet'].sort_values(by='Decade').Decade.value_counts().plot(kind='bar')\n",
    "plt.xlabel('Decades')\n",
    "plt.ylabel('Movies with name Hamlet')\n",
    "plt.show()\n"
   ]
  },
  {
   "cell_type": "markdown",
   "metadata": {},
   "source": [
    "9 movies has been produced with title 'Misérables, Les'. The following barplot shows the number of 'Misérables, Les' movies in each decade. "
   ]
  },
  {
   "cell_type": "code",
   "execution_count": 14,
   "metadata": {},
   "outputs": [
    {
     "data": {
      "image/png": "[encoded data removed]",
      "text/plain": [
       "<Figure size 432x288 with 1 Axes>"
      ]
     },
     "metadata": {},
     "output_type": "display_data"
    }
   ],
   "source": [
    "movies[movies.Name=='Misérables, Les'].sort_values(by='Decade').Decade.value_counts().plot(kind='bar')\n",
    "plt.xlabel('Decades')\n",
    "plt.ylabel('Movies with name Misérables, Les')\n",
    "plt.show()"
   ]
  },
  {
   "cell_type": "code",
   "execution_count": 15,
   "metadata": {},
   "outputs": [
    {
     "data": {
      "text/plain": [
       "4.0    5561926\n",
       "3.0    4291193\n",
       "5.0    2898660\n",
       "3.5    2200156\n",
       "4.5    1534824\n",
       "2.0    1430997\n",
       "2.5     883398\n",
       "1.0     680732\n",
       "1.5     279252\n",
       "0.5     239125\n",
       "Name: rating, dtype: int64"
      ]
     },
     "execution_count": 15,
     "metadata": {},
     "output_type": "execute_result"
    }
   ],
   "source": [
    "r.rating.value_counts()"
   ]
  },
  {
   "cell_type": "markdown",
   "metadata": {},
   "source": [
    "Movies with highest rankings are:\n",
    "\n",
    "**Rank=5**\n",
    "- As it was expected, **Shawshank Redemption, Pulp Fiction and Silence of the Lambs** are the first three.\n",
    "\n",
    "**Rank=4.5**\n",
    "- The first three are, **Shawshank Redemption, Matrix, and Pulp Fiction.**\n",
    "\n",
    "**Rank=4**\n",
    "- The first three are, **Silence of the Lambs, Fugitive, and Jurassic.**\n"
   ]
  },
  {
   "cell_type": "code",
   "execution_count": 16,
   "metadata": {},
   "outputs": [
    {
     "name": "stdout",
     "output_type": "stream",
     "text": [
      "Rate: 4.000000\n",
      "593             Silence of the Lambs, The (1991)\n",
      "457                         Fugitive, The (1993)\n",
      "356                          Forrest Gump (1994)\n",
      "480                         Jurassic Park (1993)\n",
      "589            Terminator 2: Judgment Day (1991)\n",
      "150                             Apollo 13 (1995)\n",
      "1                               Toy Story (1995)\n",
      "296                          Pulp Fiction (1994)\n",
      "32     Twelve Monkeys (a.k.a. 12 Monkeys) (1995)\n",
      "110                            Braveheart (1995)\n",
      "Name: title, dtype: object\n",
      " \n",
      "Rate: 4.500000\n",
      "318                      Shawshank Redemption, The (1994)\n",
      "2571                                   Matrix, The (1999)\n",
      "296                                   Pulp Fiction (1994)\n",
      "2959                                    Fight Club (1999)\n",
      "4993    Lord of the Rings: The Fellowship of the Ring,...\n",
      "5952        Lord of the Rings: The Two Towers, The (2002)\n",
      "7153    Lord of the Rings: The Return of the King, The...\n",
      "50                             Usual Suspects, The (1995)\n",
      "593                      Silence of the Lambs, The (1991)\n",
      "356                                   Forrest Gump (1994)\n",
      "Name: title, dtype: object\n",
      " \n",
      "Rate: 5.000000\n",
      "318              Shawshank Redemption, The (1994)\n",
      "296                           Pulp Fiction (1994)\n",
      "593              Silence of the Lambs, The (1991)\n",
      "527                       Schindler's List (1993)\n",
      "260     Star Wars: Episode IV - A New Hope (1977)\n",
      "356                           Forrest Gump (1994)\n",
      "858                         Godfather, The (1972)\n",
      "50                     Usual Suspects, The (1995)\n",
      "2571                           Matrix, The (1999)\n",
      "110                             Braveheart (1995)\n",
      "Name: title, dtype: object\n",
      " \n"
     ]
    }
   ],
   "source": [
    "List=[]\n",
    "for i in np.arange(4,5.5, 0.5):\n",
    "    M=movies.loc[r[r.rating==i].movieId.value_counts().head(10).index,'title']\n",
    "    print('Rate: %f' %i)\n",
    "    print(M)\n",
    "    print(' ')"
   ]
  },
  {
   "cell_type": "markdown",
   "metadata": {},
   "source": [
    "Average rating for the **Shawshank Redemption** is:"
   ]
  },
  {
   "cell_type": "code",
   "execution_count": 17,
   "metadata": {},
   "outputs": [
    {
     "data": {
      "text/plain": [
       "4.446990499637029"
      ]
     },
     "execution_count": 17,
     "metadata": {},
     "output_type": "execute_result"
    }
   ],
   "source": [
    "r[r.movieId==318].rating.mean()  #Average rating for the 'Shawshank Redemption, The'"
   ]
  },
  {
   "cell_type": "markdown",
   "metadata": {},
   "source": [
    "Average rating for the **Pulp Fiction** is:"
   ]
  },
  {
   "cell_type": "code",
   "execution_count": 18,
   "metadata": {},
   "outputs": [
    {
     "data": {
      "text/plain": [
       "4.174231169217055"
      ]
     },
     "execution_count": 18,
     "metadata": {},
     "output_type": "execute_result"
    }
   ],
   "source": [
    "r[r.movieId==296].rating.mean() #Average rating for 'Pulp Fiction' "
   ]
  },
  {
   "cell_type": "markdown",
   "metadata": {},
   "source": [
    "The movies with the max number of ratings are:\n",
    "\n",
    "**Pulp Fiction, Forrest Gump, Shawshank redemption** respectively."
   ]
  },
  {
   "cell_type": "code",
   "execution_count": 19,
   "metadata": {},
   "outputs": [],
   "source": [
    "MaxRating=r['movieId'].value_counts().head(10)"
   ]
  },
  {
   "cell_type": "code",
   "execution_count": 20,
   "metadata": {},
   "outputs": [
    {
     "data": {
      "text/plain": [
       "296                           Pulp Fiction (1994)\n",
       "356                           Forrest Gump (1994)\n",
       "318              Shawshank Redemption, The (1994)\n",
       "593              Silence of the Lambs, The (1991)\n",
       "480                          Jurassic Park (1993)\n",
       "260     Star Wars: Episode IV - A New Hope (1977)\n",
       "110                             Braveheart (1995)\n",
       "589             Terminator 2: Judgment Day (1991)\n",
       "2571                           Matrix, The (1999)\n",
       "527                       Schindler's List (1993)\n",
       "Name: title, dtype: object"
      ]
     },
     "execution_count": 20,
     "metadata": {},
     "output_type": "execute_result"
    }
   ],
   "source": [
    "movies.loc[MaxRating.index,'title'] "
   ]
  },
  {
   "cell_type": "code",
   "execution_count": 21,
   "metadata": {},
   "outputs": [
    {
     "data": {
      "image/png": "[encoded data removed]",
      "text/plain": [
       "<Figure size 432x288 with 1 Axes>"
      ]
     },
     "metadata": {},
     "output_type": "display_data"
    }
   ],
   "source": [
    "plt.plot(range(len(MaxRating)), MaxRating,'mo--')\n",
    "plt.xticks(range(len(MaxRating)), movies.loc[MaxRating.index,'title'],rotation=90)\n",
    "plt.xlabel('10 movies with the max number of rating')\n",
    "plt.ylabel('number of ratings')\n",
    "plt.show()"
   ]
  },
  {
   "cell_type": "markdown",
   "metadata": {},
   "source": [
    "The movies with the highest average rating are:\n",
    "\n",
    "**Pulp Fiction, Forrest Gump, Shawshank redemption** respectively"
   ]
  },
  {
   "cell_type": "code",
   "execution_count": 22,
   "metadata": {},
   "outputs": [
    {
     "data": {
      "image/png": "[encoded data removed]",
      "text/plain": [
       "<Figure size 432x288 with 1 Axes>"
      ]
     },
     "metadata": {},
     "output_type": "display_data"
    }
   ],
   "source": [
    "List5=[]\n",
    "for i in MaxRating.index:\n",
    "    List5.append(r[r.movieId==i].rating.mean())\n",
    "plt.plot(range(len(List5)), sorted(List5,reverse=True),'mo--')\n",
    "plt.xticks(range(len(List5)), movies.loc[MaxRating.index,'title'],rotation=90)\n",
    "plt.xlabel('Movies with highest number of rating')\n",
    "plt.ylabel('Average Rating')\n",
    "plt.show()"
   ]
  },
  {
   "cell_type": "code",
   "execution_count": 23,
   "metadata": {},
   "outputs": [
    {
     "name": "stdout",
     "output_type": "stream",
     "text": [
      "Number of movies which are rated once: (3972,)\n"
     ]
    },
    {
     "name": "stderr",
     "output_type": "stream",
     "text": [
      "C:\\Python\\Anaconda3\\lib\\site-packages\\pandas\\core\\indexing.py:1027: FutureWarning: \n",
      "Passing list-likes to .loc or [] with any missing label will raise\n",
      "KeyError in the future, you can use .reindex() as an alternative.\n",
      "\n",
      "See the documentation here:\n",
      "https://pandas.pydata.org/pandas-docs/stable/indexing.html#deprecate-loc-reindex-listlike\n",
      "  return getattr(section, self.name)[new_key]\n"
     ]
    }
   ],
   "source": [
    "MinRating=r['movieId'].value_counts()\n",
    "MinRating=MinRating[MinRating==1]\n",
    "print('Number of movies which are rated once:',movies.loc[MinRating.index,'title'].shape) "
   ]
  },
  {
   "cell_type": "markdown",
   "metadata": {},
   "source": [
    "Merge movie and rating data frames."
   ]
  },
  {
   "cell_type": "code",
   "execution_count": 24,
   "metadata": {},
   "outputs": [
    {
     "data": {
      "text/html": [
       "<div>\n",
       "<style scoped>\n",
       "    .dataframe tbody tr th:only-of-type {\n",
       "        vertical-align: middle;\n",
       "    }\n",
       "\n",
       "    .dataframe tbody tr th {\n",
       "        vertical-align: top;\n",
       "    }\n",
       "\n",
       "    .dataframe thead th {\n",
       "        text-align: right;\n",
       "    }\n",
       "</style>\n",
       "<table border=\"1\" class=\"dataframe\">\n",
       "  <thead>\n",
       "    <tr style=\"text-align: right;\">\n",
       "      <th></th>\n",
       "      <th>userId</th>\n",
       "      <th>movieId</th>\n",
       "      <th>rating</th>\n",
       "      <th>index</th>\n",
       "      <th>title</th>\n",
       "      <th>year</th>\n",
       "      <th>level</th>\n",
       "      <th>genres</th>\n",
       "      <th>Decade</th>\n",
       "    </tr>\n",
       "  </thead>\n",
       "  <tbody>\n",
       "    <tr>\n",
       "      <th>0</th>\n",
       "      <td>1</td>\n",
       "      <td>2</td>\n",
       "      <td>3.5</td>\n",
       "      <td>5</td>\n",
       "      <td>Jumanji (1995)</td>\n",
       "      <td>1995</td>\n",
       "      <td>0</td>\n",
       "      <td>Adventure</td>\n",
       "      <td>1990</td>\n",
       "    </tr>\n",
       "    <tr>\n",
       "      <th>1</th>\n",
       "      <td>1</td>\n",
       "      <td>2</td>\n",
       "      <td>3.5</td>\n",
       "      <td>6</td>\n",
       "      <td>Jumanji (1995)</td>\n",
       "      <td>1995</td>\n",
       "      <td>1</td>\n",
       "      <td>Children</td>\n",
       "      <td>1990</td>\n",
       "    </tr>\n",
       "    <tr>\n",
       "      <th>2</th>\n",
       "      <td>1</td>\n",
       "      <td>2</td>\n",
       "      <td>3.5</td>\n",
       "      <td>7</td>\n",
       "      <td>Jumanji (1995)</td>\n",
       "      <td>1995</td>\n",
       "      <td>2</td>\n",
       "      <td>Fantasy</td>\n",
       "      <td>1990</td>\n",
       "    </tr>\n",
       "    <tr>\n",
       "      <th>3</th>\n",
       "      <td>5</td>\n",
       "      <td>2</td>\n",
       "      <td>3.0</td>\n",
       "      <td>5</td>\n",
       "      <td>Jumanji (1995)</td>\n",
       "      <td>1995</td>\n",
       "      <td>0</td>\n",
       "      <td>Adventure</td>\n",
       "      <td>1990</td>\n",
       "    </tr>\n",
       "    <tr>\n",
       "      <th>4</th>\n",
       "      <td>5</td>\n",
       "      <td>2</td>\n",
       "      <td>3.0</td>\n",
       "      <td>6</td>\n",
       "      <td>Jumanji (1995)</td>\n",
       "      <td>1995</td>\n",
       "      <td>1</td>\n",
       "      <td>Children</td>\n",
       "      <td>1990</td>\n",
       "    </tr>\n",
       "  </tbody>\n",
       "</table>\n",
       "</div>"
      ],
      "text/plain": [
       "   userId  movieId  rating  index           title  year  level     genres  \\\n",
       "0       1        2     3.5      5  Jumanji (1995)  1995      0  Adventure   \n",
       "1       1        2     3.5      6  Jumanji (1995)  1995      1   Children   \n",
       "2       1        2     3.5      7  Jumanji (1995)  1995      2    Fantasy   \n",
       "3       5        2     3.0      5  Jumanji (1995)  1995      0  Adventure   \n",
       "4       5        2     3.0      6  Jumanji (1995)  1995      1   Children   \n",
       "\n",
       "   Decade  \n",
       "0    1990  \n",
       "1    1990  \n",
       "2    1990  \n",
       "3    1990  \n",
       "4    1990  "
      ]
     },
     "execution_count": 24,
     "metadata": {},
     "output_type": "execute_result"
    }
   ],
   "source": [
    "r1= r.merge(sep.reset_index(), left_on='movieId', right_on='movieId', how='inner')\n",
    "del r1['timestamp']\n",
    "r1.head() #merge sep and rating"
   ]
  },
  {
   "cell_type": "markdown",
   "metadata": {},
   "source": [
    "Boxplot of 'Decade' vs 'Rating'\n",
    "\n",
    "*Movies of **40th decade** has the highest rating*"
   ]
  },
  {
   "cell_type": "code",
   "execution_count": 25,
   "metadata": {},
   "outputs": [
    {
     "data": {
      "image/png": "[encoded data removed]",
      "text/plain": [
       "<Figure size 432x288 with 1 Axes>"
      ]
     },
     "metadata": {},
     "output_type": "display_data"
    }
   ],
   "source": [
    "sns.boxplot(x='Decade', y='rating', data=r1,palette='rainbow')\n",
    "plt.xticks(rotation=60)\n",
    "plt.show()"
   ]
  },
  {
   "cell_type": "markdown",
   "metadata": {},
   "source": [
    "Boxplot of the 'Decade' vs 'Genres'"
   ]
  },
  {
   "cell_type": "code",
   "execution_count": 26,
   "metadata": {},
   "outputs": [
    {
     "data": {
      "image/png": "[encoded data removed]",
      "text/plain": [
       "<Figure size 432x288 with 1 Axes>"
      ]
     },
     "metadata": {},
     "output_type": "display_data"
    }
   ],
   "source": [
    "sns.boxplot(x='genres', y='Decade', data=sep,palette='rainbow')\n",
    "plt.xticks(rotation=90)\n",
    "plt.show()"
   ]
  },
  {
   "cell_type": "markdown",
   "metadata": {},
   "source": [
    "Average rating of the ppl with highest number of rating"
   ]
  },
  {
   "cell_type": "code",
   "execution_count": 27,
   "metadata": {},
   "outputs": [
    {
     "data": {
      "text/plain": [
       "[3.2909304463282605,\n",
       " 3.2126359112967626,\n",
       " 1.654984847307483,\n",
       " 3.026239975083703,\n",
       " 2.780034504391468,\n",
       " 3.765411234508289,\n",
       " 3.4983650780675224,\n",
       " 3.225420576549159,\n",
       " 2.4983633387888706,\n",
       " 3.3196820944366525]"
      ]
     },
     "execution_count": 27,
     "metadata": {},
     "output_type": "execute_result"
    }
   ],
   "source": [
    "ID=r1.userId.value_counts().head(10) #UserID wih highest number of rating\n",
    "List5=[]\n",
    "for i in ID.index:\n",
    "    List5.append(r1[r1.userId==i]['rating'].mean())\n",
    "\n",
    "List5"
   ]
  },
  {
   "cell_type": "markdown",
   "metadata": {},
   "source": [
    "Boxplot of the 'Genre' vs 'Rating' \n",
    "\n",
    "**Drama, Mystery,Crime, War,Imax, documentary** has the highest ratings. **Horror** is the least favorit."
   ]
  },
  {
   "cell_type": "code",
   "execution_count": 28,
   "metadata": {},
   "outputs": [
    {
     "data": {
      "text/plain": [
       "<function matplotlib.pyplot.show(*args, **kw)>"
      ]
     },
     "execution_count": 28,
     "metadata": {},
     "output_type": "execute_result"
    },
    {
     "data": {
      "image/png": "[encoded data removed]",
      "text/plain": [
       "<Figure size 432x288 with 1 Axes>"
      ]
     },
     "metadata": {},
     "output_type": "display_data"
    }
   ],
   "source": [
    "sns.boxplot(x='genres', y='rating', data=r1,palette='rainbow')\n",
    "plt.xticks(rotation=90)\n",
    "plt.show"
   ]
  },
  {
   "cell_type": "markdown",
   "metadata": {},
   "source": [
    "Correlation matrix: (There is no correlation)"
   ]
  },
  {
   "cell_type": "code",
   "execution_count": 29,
   "metadata": {},
   "outputs": [
    {
     "data": {
      "image/png": "[encoded data removed]",
      "text/plain": [
       "<Figure size 432x288 with 2 Axes>"
      ]
     },
     "metadata": {},
     "output_type": "display_data"
    }
   ],
   "source": [
    "sns.heatmap(r1[['userId','movieId','rating','year']].corr(),cmap='coolwarm')\n",
    "plt.show()"
   ]
  },
  {
   "cell_type": "markdown",
   "metadata": {},
   "source": [
    " ## Title and Overview Wordclouds\n",
    "There are certain words that use more often in titles. I use WordCloud library to find out what are these words.\n",
    "\n",
    "The word **Love** is the most commonly used word in movie titles. **Girl**, **Day** and **Man** are also among the most commonly occuring words. "
   ]
  },
  {
   "cell_type": "code",
   "execution_count": 30,
   "metadata": {},
   "outputs": [
    {
     "data": {
      "image/png": "[encoded data removed]",
      "text/plain": [
       "<Figure size 1152x576 with 1 Axes>"
      ]
     },
     "metadata": {},
     "output_type": "display_data"
    }
   ],
   "source": [
    "movies['title'] = movies['title'].astype('str')\n",
    "\n",
    "title_corpus = ' '.join(movies['title'])\n",
    "\n",
    "\n",
    "title_wordcloud = WordCloud(stopwords=STOPWORDS, background_color='white', height=2000, width=4000).generate(title_corpus)\n",
    "plt.figure(figsize=(16,8))\n",
    "plt.imshow(title_wordcloud)\n",
    "plt.axis('off')\n",
    "plt.show()"
   ]
  },
  {
   "cell_type": "markdown",
   "metadata": {},
   "source": [
    "# Recommender System\n"
   ]
  },
  {
   "cell_type": "markdown",
   "metadata": {},
   "source": [
    "### Preparing the data"
   ]
  },
  {
   "cell_type": "code",
   "execution_count": 31,
   "metadata": {},
   "outputs": [],
   "source": [
    "movielens=r.drop(['timestamp'],axis=1)\n",
    "movielens=movielens.iloc[(r.userId.value_counts()>100).index,:]#user id with more than 100 voting"
   ]
  },
  {
   "cell_type": "code",
   "execution_count": 32,
   "metadata": {},
   "outputs": [],
   "source": [
    "from sklearn.model_selection import train_test_split\n",
    "X_train, X_test, y_train, y_test=train_test_split(movielens[['userId','movieId']],movielens['rating'],test_size=0.25, \n",
    "                                                  random_state=55)\n",
    "\n",
    "y_train=pd.DataFrame(y_train)\n",
    "train=X_train.join(y_train)\n",
    "\n",
    "y_test=pd.DataFrame(y_test)\n",
    "test=X_test.join(y_test)"
   ]
  },
  {
   "cell_type": "markdown",
   "metadata": {},
   "source": [
    "## Well-known Solutions to the Recommendation Problem are:\n",
    "\n",
    "\n",
    "## 1- Simple Recommender\n",
    "The Simple Recommender offers generalized recommnendations to every user based on movie popularity, ratings, and genre. The basic idea behind this recommender is that movies that are more popular and more critically acclaimed will have a higher probability of being liked by the average audience. This model does not give personalized recommendations based on the user. \n",
    "\n",
    "So I sort the movies base on their genre, and I recommend the ones with the highest number of votes and the higher average rankings to the new audience."
   ]
  },
  {
   "cell_type": "code",
   "execution_count": 33,
   "metadata": {},
   "outputs": [
    {
     "data": {
      "text/html": [
       "<div>\n",
       "<style scoped>\n",
       "    .dataframe tbody tr th:only-of-type {\n",
       "        vertical-align: middle;\n",
       "    }\n",
       "\n",
       "    .dataframe tbody tr th {\n",
       "        vertical-align: top;\n",
       "    }\n",
       "\n",
       "    .dataframe thead th {\n",
       "        text-align: right;\n",
       "    }\n",
       "</style>\n",
       "<table border=\"1\" class=\"dataframe\">\n",
       "  <thead>\n",
       "    <tr style=\"text-align: right;\">\n",
       "      <th></th>\n",
       "      <th>userId</th>\n",
       "      <th>movieId</th>\n",
       "      <th>rating</th>\n",
       "      <th>title</th>\n",
       "      <th>genres</th>\n",
       "    </tr>\n",
       "  </thead>\n",
       "  <tbody>\n",
       "    <tr>\n",
       "      <th>0</th>\n",
       "      <td>1</td>\n",
       "      <td>2</td>\n",
       "      <td>3.5</td>\n",
       "      <td>Jumanji (1995)</td>\n",
       "      <td>Adventure</td>\n",
       "    </tr>\n",
       "    <tr>\n",
       "      <th>1</th>\n",
       "      <td>1</td>\n",
       "      <td>2</td>\n",
       "      <td>3.5</td>\n",
       "      <td>Jumanji (1995)</td>\n",
       "      <td>Children</td>\n",
       "    </tr>\n",
       "    <tr>\n",
       "      <th>2</th>\n",
       "      <td>1</td>\n",
       "      <td>2</td>\n",
       "      <td>3.5</td>\n",
       "      <td>Jumanji (1995)</td>\n",
       "      <td>Fantasy</td>\n",
       "    </tr>\n",
       "    <tr>\n",
       "      <th>3</th>\n",
       "      <td>5</td>\n",
       "      <td>2</td>\n",
       "      <td>3.0</td>\n",
       "      <td>Jumanji (1995)</td>\n",
       "      <td>Adventure</td>\n",
       "    </tr>\n",
       "    <tr>\n",
       "      <th>4</th>\n",
       "      <td>5</td>\n",
       "      <td>2</td>\n",
       "      <td>3.0</td>\n",
       "      <td>Jumanji (1995)</td>\n",
       "      <td>Children</td>\n",
       "    </tr>\n",
       "  </tbody>\n",
       "</table>\n",
       "</div>"
      ],
      "text/plain": [
       "   userId  movieId  rating           title     genres\n",
       "0       1        2     3.5  Jumanji (1995)  Adventure\n",
       "1       1        2     3.5  Jumanji (1995)   Children\n",
       "2       1        2     3.5  Jumanji (1995)    Fantasy\n",
       "3       5        2     3.0  Jumanji (1995)  Adventure\n",
       "4       5        2     3.0  Jumanji (1995)   Children"
      ]
     },
     "execution_count": 33,
     "metadata": {},
     "output_type": "execute_result"
    }
   ],
   "source": [
    "r1=r1[['userId','movieId','rating','title','genres']]\n",
    "r1.head()"
   ]
  },
  {
   "cell_type": "markdown",
   "metadata": {},
   "source": [
    "### The list of the 10 best Drama movies to recommend are:\n"
   ]
  },
  {
   "cell_type": "code",
   "execution_count": 34,
   "metadata": {},
   "outputs": [
    {
     "name": "stdout",
     "output_type": "stream",
     "text": [
      "1 : Pulp Fiction (1994)\n",
      "2 : Shawshank Redemption, The (1994)\n",
      "3 : Schindler's List (1993)\n",
      "4 : American Beauty (1999)\n",
      "5 : Fargo (1996)\n",
      "6 : Godfather, The (1972)\n",
      "7 : Fight Club (1999)\n",
      "8 : Lord of the Rings: The Return of the King, The (2003)\n",
      "9 : One Flew Over the Cuckoo's Nest (1975)\n",
      "10 : Godfather: Part II, The (1974)\n"
     ]
    }
   ],
   "source": [
    "a=r1[r1.genres=='Drama'].movieId.value_counts().head(30).index\n",
    "count=0\n",
    "for i in a:\n",
    "    if (r1[(r1.movieId==i)].rating.mean()>4.1)&(count<10):\n",
    "        count+=1\n",
    "        print(count,':',r1[(r1.genres=='Drama')&(r1.movieId==i)].title.iloc[0])"
   ]
  },
  {
   "cell_type": "markdown",
   "metadata": {},
   "source": [
    "### The list of the 10 best Romance movies to recommend are:\n"
   ]
  },
  {
   "cell_type": "code",
   "execution_count": 35,
   "metadata": {},
   "outputs": [
    {
     "name": "stdout",
     "output_type": "stream",
     "text": [
      "1 : Forrest Gump (1994)\n",
      "2 : Beauty and the Beast (1991)\n",
      "3 : Princess Bride, The (1987)\n",
      "4 : Groundhog Day (1993)\n",
      "5 : Shrek (2001)\n",
      "6 : Sleepless in Seattle (1993)\n",
      "7 : Good Will Hunting (1997)\n",
      "8 : Four Weddings and a Funeral (1994)\n",
      "9 : Crouching Tiger, Hidden Dragon (Wo hu cang long) (2000)\n",
      "10 : There's Something About Mary (1998)\n"
     ]
    }
   ],
   "source": [
    "a=r1[r1.genres=='Romance'].movieId.value_counts().head(30).index\n",
    "count=0\n",
    "for i in a:\n",
    "    if (r1[(r1.movieId==i)].rating.mean()>3.5)&(count<10):\n",
    "        count+=1\n",
    "        print(count,':',r1[(r1.genres=='Romance')&(r1.movieId==i)].title.iloc[0])"
   ]
  },
  {
   "cell_type": "markdown",
   "metadata": {},
   "source": [
    "### The list of the 10 best Action movies to recommend are:\n",
    "\n"
   ]
  },
  {
   "cell_type": "code",
   "execution_count": 36,
   "metadata": {},
   "outputs": [
    {
     "name": "stdout",
     "output_type": "stream",
     "text": [
      "1 : Star Wars: Episode IV - A New Hope (1977)\n",
      "2 : Braveheart (1995)\n",
      "3 : Matrix, The (1999)\n",
      "4 : Star Wars: Episode VI - Return of the Jedi (1983)\n",
      "5 : Star Wars: Episode V - The Empire Strikes Back (1980)\n",
      "6 : Raiders of the Lost Ark (Indiana Jones and the Raiders of the Lost Ark) (1981)\n",
      "7 : Fight Club (1999)\n",
      "8 : Saving Private Ryan (1998)\n",
      "9 : Princess Bride, The (1987)\n",
      "10 : Lord of the Rings: The Return of the King, The (2003)\n"
     ]
    }
   ],
   "source": [
    "a=r1[r1.genres=='Action'].movieId.value_counts().head(30).index\n",
    "count=0\n",
    "for i in a:\n",
    "    if (r1[(r1.movieId==i)].rating.mean()>4)&(count<10):\n",
    "        count+=1\n",
    "        print(count,':',r1[(r1.genres=='Action')&(r1.movieId==i)].title.iloc[0])"
   ]
  },
  {
   "cell_type": "markdown",
   "metadata": {},
   "source": [
    "## 2- Content-based filtering\n",
    "\n",
    "\n",
    "\n",
    "The recommender we built in the previous section suffers some severe limitations. For one, it gives the same recommendation to everyone, regardless of the user's personal taste. If a person who loves romantic movies (and hates action) were to look at our Top 10 Chart, s/he wouldn't probably like most of the movies. If s/he were to go one step further and look at our charts by genre, s/he wouldn't still be getting the best recommendations.\n",
    "\n",
    "So in this secion I set an engine to recommend based on the user's rating history. Generic expression (notice how this is kind of a 'row-based' approach):\n",
    "\n",
    "$$ \n",
    "\\newcommand{\\aggr}{\\mathop{\\rm aggr}\\nolimits}\n",
    "r_{u,i} = \\aggr_{i' \\in I(u)} [r_{u,i'}]\n",
    "$$\n",
    "\n",
    "\n",
    "A simple example using the mean as an aggregation function:\n",
    "\n",
    "$$ \n",
    "r_{u,i} = \\bar r_u = \\frac{\\sum_{i' \\in I(u)} r_{u,i'}}{|I(u)|} \n",
    "$$"
   ]
  },
  {
   "cell_type": "code",
   "execution_count": 37,
   "metadata": {},
   "outputs": [
    {
     "name": "stdout",
     "output_type": "stream",
     "text": [
      "RMSE for content base filtering is: 0.9969\n",
      "Total elapsed time of content base filtering is: 61.474\n"
     ]
    }
   ],
   "source": [
    "def evaluate(estimate_f):\n",
    "    ids_to_estimate = zip(test.userId, test.movieId)\n",
    "    estimated = np.array([estimate_f(u,i) for (u,i) in ids_to_estimate])\n",
    "    real = y_test.values\n",
    "    return np.sqrt(np.mean(np.power(estimated-real, 2)))\n",
    "\n",
    "def content_mean(user_id, movie_id):\n",
    "    user_condition = X_train.userId == user_id\n",
    "    return y_train[user_condition].mean()\n",
    "\n",
    "start = time.time()\n",
    "print('RMSE for content base filtering is: %s' % round(evaluate(content_mean),4))\n",
    "end = time.time()\n",
    "print('Total elapsed time of content base filtering is:',round(end - start,3))\n"
   ]
  },
  {
   "cell_type": "markdown",
   "metadata": {},
   "source": [
    "\n",
    "## 3- Collaborative Filtering\n",
    "\n",
    "Collaborative Filtering is based on the idea that users similar to a me can be used to predict how much I will like a particular product or service those users have used/experienced but I have not.\n",
    "\n",
    "\n",
    "#### 1- Simple Collaborative filtering base on mean\n",
    "\n",
    "Recommend based on other user's rating histories. Generic expression (notice how this is kind of a 'col-based' approach):\n",
    "\n",
    "$$ \\newcommand{\\aggr}{\\mathop{\\rm aggr}\\nolimits}\n",
    "r_{u,i} = \\aggr_{u' \\in U(i)} [r_{u',i}] $$\n",
    "\n",
    "A simple example using the mean as an aggregation function:\n",
    "\n",
    "$$ r_{u,i} = \\bar r_i = \\frac{\\sum_{u' \\in U(i)} r_{u',i}}{|U(i)|}$$ \n",
    "\n"
   ]
  },
  {
   "cell_type": "code",
   "execution_count": 38,
   "metadata": {},
   "outputs": [
    {
     "name": "stdout",
     "output_type": "stream",
     "text": [
      "rating    3.953441\n",
      "dtype: float64\n"
     ]
    }
   ],
   "source": [
    "def collab_mean(user_id, movie_id):\n",
    "    user_condition = X_train.movieId == movie_id\n",
    "    return y_train[user_condition].mean()\n",
    "print(collab_mean(4653, 589))\n"
   ]
  },
  {
   "cell_type": "markdown",
   "metadata": {},
   "source": [
    "#### 2- Matrix Factorization-based algorithms\n",
    "\n",
    "I use **Surprise** library which has several powerful algorithms like **Singular Value Decomposition (SVD), Non-negative Matrix Factorization (NMF), K Nearest Neighbor (KNN), and CoClusternig**  to minimise RMSE (Root Mean Square Error) and give recommendations.\n"
   ]
  },
  {
   "cell_type": "code",
   "execution_count": 39,
   "metadata": {},
   "outputs": [],
   "source": [
    "data = Dataset.load_from_df(movielens[['userId', 'movieId', 'rating']], Reader())"
   ]
  },
  {
   "cell_type": "code",
   "execution_count": 40,
   "metadata": {},
   "outputs": [
    {
     "name": "stdout",
     "output_type": "stream",
     "text": [
      "Evaluating RMSE, MAE of algorithm SVD on 5 split(s).\n",
      "\n",
      "                  Fold 1  Fold 2  Fold 3  Fold 4  Fold 5  Mean    Std     \n",
      "RMSE (testset)    0.9165  0.9119  0.9194  0.9091  0.9220  0.9158  0.0047  \n",
      "MAE (testset)     0.7058  0.7010  0.7093  0.7029  0.7101  0.7058  0.0035  \n",
      "Fit time          16.00   15.48   14.18   17.57   15.86   15.82   1.09    \n",
      "Test time         0.25    0.25    0.25    0.23    0.36    0.27    0.05    \n",
      "Total Elapsed time with model is: 81.90107011795044\n",
      " \n",
      " \n",
      "Evaluating RMSE, MAE of algorithm NMF on 5 split(s).\n",
      "\n",
      "                  Fold 1  Fold 2  Fold 3  Fold 4  Fold 5  Mean    Std     \n",
      "RMSE (testset)    0.9560  0.9636  0.9502  0.9585  0.9592  0.9575  0.0044  \n",
      "MAE (testset)     0.7364  0.7387  0.7284  0.7336  0.7390  0.7352  0.0039  \n",
      "Fit time          15.98   15.27   15.72   12.91   13.61   14.70   1.22    \n",
      "Test time         0.27    0.22    0.34    0.20    0.31    0.27    0.05    \n",
      "Total Elapsed time with model is: 76.32422876358032\n",
      " \n",
      " \n",
      "Evaluating RMSE, MAE of algorithm SlopeOne on 5 split(s).\n",
      "\n",
      "                  Fold 1  Fold 2  Fold 3  Fold 4  Fold 5  Mean    Std     \n",
      "RMSE (testset)    0.9487  0.9463  0.9371  0.9449  0.9491  0.9452  0.0043  \n",
      "MAE (testset)     0.7264  0.7261  0.7208  0.7232  0.7278  0.7248  0.0025  \n",
      "Fit time          9.84    10.11   11.68   10.86   11.21   10.74   0.68    \n",
      "Test time         11.49   13.06   12.45   10.91   8.92    11.37   1.43    \n",
      "Total Elapsed time with model is: 112.29359316825867\n",
      " \n",
      " \n",
      "Estimating biases using als...\n",
      "Computing the msd similarity matrix...\n",
      "Done computing similarity matrix.\n",
      "Estimating biases using als...\n",
      "Computing the msd similarity matrix...\n",
      "Done computing similarity matrix.\n",
      "Estimating biases using als...\n",
      "Computing the msd similarity matrix...\n",
      "Done computing similarity matrix.\n",
      "Estimating biases using als...\n",
      "Computing the msd similarity matrix...\n",
      "Done computing similarity matrix.\n",
      "Estimating biases using als...\n",
      "Computing the msd similarity matrix...\n",
      "Done computing similarity matrix.\n",
      "Evaluating RMSE, MAE of algorithm KNNBaseline on 5 split(s).\n",
      "\n",
      "                  Fold 1  Fold 2  Fold 3  Fold 4  Fold 5  Mean    Std     \n",
      "RMSE (testset)    0.9148  0.9180  0.9152  0.9191  0.9149  0.9164  0.0018  \n",
      "MAE (testset)     0.7050  0.7066  0.7044  0.7064  0.7034  0.7052  0.0012  \n",
      "Fit time          1.50    1.56    1.59    1.61    1.58    1.57    0.04    \n",
      "Test time         5.85    5.47    5.25    6.03    5.73    5.67    0.28    \n",
      "Total Elapsed time with model is: 37.74726223945618\n",
      " \n",
      " \n",
      "Evaluating RMSE, MAE of algorithm CoClustering on 5 split(s).\n",
      "\n",
      "                  Fold 1  Fold 2  Fold 3  Fold 4  Fold 5  Mean    Std     \n",
      "RMSE (testset)    0.9785  0.9831  0.9782  0.9906  0.9765  0.9814  0.0051  \n",
      "MAE (testset)     0.7587  0.7585  0.7542  0.7660  0.7567  0.7588  0.0039  \n",
      "Fit time          12.22   6.37    6.58    6.59    6.59    7.67    2.28    \n",
      "Test time         0.44    0.17    0.47    0.17    0.47    0.34    0.14    \n",
      "Total Elapsed time with model is: 41.574240922927856\n",
      " \n",
      " \n"
     ]
    }
   ],
   "source": [
    "Models=[SVD(), NMF(), SlopeOne(), KNNBaseline(), CoClustering()]\n",
    "\n",
    "for i in Models:\n",
    "    start = time.time()\n",
    "    cross_validate(i, data, measures=['RMSE', 'MAE'], cv=5, verbose=True)\n",
    "    end = time.time()\n",
    "    print('Total Elapsed time with model is:',end - start)\n",
    "    print(' ')\n",
    "    print(' ')"
   ]
  },
  {
   "cell_type": "markdown",
   "metadata": {},
   "source": [
    "From the results, **SVD** and **KNN** provide the lower RMSE for the test set.\n",
    "\n",
    "\n",
    "Now lets compare the predicted rating values of some samples with their actual values:"
   ]
  },
  {
   "cell_type": "code",
   "execution_count": 41,
   "metadata": {},
   "outputs": [
    {
     "name": "stdout",
     "output_type": "stream",
     "text": [
      "SVD\n",
      "Total Elapsed time with model is: 16.452\n",
      "Prediction of a particular user: user: 55         item: 260        r_ui = 3.00   est = 4.62   {'was_impossible': False}\n",
      "Prediction of a particular user: user: 55         item: 203        r_ui = 3.00   est = 3.00   {'was_impossible': False}\n",
      "Prediction of a particular user: user: 1          item: 50         r_ui = 3.00   est = 4.11   {'was_impossible': False}\n",
      "\n",
      "\n",
      "NMF\n",
      "Total Elapsed time with model is: 14.171\n",
      "Prediction of a particular user: user: 55         item: 260        r_ui = 3.00   est = 4.56   {'was_impossible': False}\n",
      "Prediction of a particular user: user: 55         item: 203        r_ui = 3.00   est = 2.66   {'was_impossible': False}\n",
      "Prediction of a particular user: user: 1          item: 50         r_ui = 3.00   est = 4.17   {'was_impossible': False}\n",
      "\n",
      "\n",
      "Slop One\n",
      "Total Elapsed time with model is: 20.374\n",
      "Prediction of a particular user: user: 55         item: 260        r_ui = 3.00   est = 4.49   {'was_impossible': False}\n",
      "Prediction of a particular user: user: 55         item: 203        r_ui = 3.00   est = 2.66   {'was_impossible': False}\n",
      "Prediction of a particular user: user: 1          item: 50         r_ui = 3.00   est = 4.29   {'was_impossible': False}\n",
      "\n",
      "\n",
      "KNN Baseline\n",
      "Estimating biases using als...\n",
      "Computing the msd similarity matrix...\n",
      "Done computing similarity matrix.\n",
      "Total Elapsed time with model is: 9.779\n",
      "Prediction of a particular user: user: 55         item: 260        r_ui = 3.00   est = 4.89   {'actual_k': 40, 'was_impossible': False}\n",
      "Prediction of a particular user: user: 55         item: 203        r_ui = 3.00   est = 2.78   {'actual_k': 21, 'was_impossible': False}\n",
      "Prediction of a particular user: user: 1          item: 50         r_ui = 3.00   est = 3.99   {'actual_k': 40, 'was_impossible': False}\n",
      "\n",
      "\n",
      "CoClustering\n",
      "Total Elapsed time with model is: 4.672\n",
      "Prediction of a particular user: user: 55         item: 260        r_ui = 3.00   est = 4.83   {'was_impossible': False}\n",
      "Prediction of a particular user: user: 55         item: 203        r_ui = 3.00   est = 3.35   {'was_impossible': False}\n",
      "Prediction of a particular user: user: 1          item: 50         r_ui = 3.00   est = 4.30   {'was_impossible': False}\n",
      "\n",
      "\n"
     ]
    }
   ],
   "source": [
    "from surprise.model_selection import train_test_split\n",
    "trainset, testset = train_test_split(data, test_size=.25, random_state=55)\n",
    "\n",
    "Models=[SVD(), NMF(), SlopeOne(), KNNBaseline(), CoClustering()]\n",
    "m=['SVD','NMF','Slop One','KNN Baseline', 'CoClustering']\n",
    "\n",
    "count=0\n",
    "\n",
    "for algo in Models:\n",
    "    print(m[count])\n",
    "    start = time.time()\n",
    "    algo.fit(trainset)\n",
    "    predictions = algo.test(testset)\n",
    "    end = time.time()    \n",
    "    print('Total Elapsed time with model is:',round(end - start,3))    \n",
    "    print('Prediction of a particular user:', algo.predict(55, 260, 3))\n",
    "    print('Prediction of a particular user:', algo.predict(55, 203, 3))\n",
    "    print('Prediction of a particular user:', algo.predict(1,50, 3))\n",
    "    print('')\n",
    "    print('')\n",
    "    count+=1\n"
   ]
  },
  {
   "cell_type": "markdown",
   "metadata": {},
   "source": [
    "Actual rating of the samples:"
   ]
  },
  {
   "cell_type": "code",
   "execution_count": 42,
   "metadata": {},
   "outputs": [
    {
     "name": "stdout",
     "output_type": "stream",
     "text": [
      "Actual Rating of userId=55 and movieId=260 is: 5.0\n",
      "Actual Rating of userId=55 and movieId=203 is: 2.0\n",
      "Actual Rating of userId=1 and movieId=50 is: 3.5\n"
     ]
    }
   ],
   "source": [
    "print('Actual Rating of userId=55 and movieId=260 is:',movielens[(movielens.userId==55)&(movielens.movieId==260)].rating.values[0])\n",
    "print('Actual Rating of userId=55 and movieId=203 is:',movielens[(movielens.userId==55)&(movielens.movieId==203)].rating.values[0])\n",
    "print('Actual Rating of userId=1 and movieId=50 is:',movielens[(movielens.userId==1)&(movielens.movieId==50)].rating.values[0])"
   ]
  },
  {
   "cell_type": "markdown",
   "metadata": {},
   "source": [
    "## 4- ALS Implicit Collaborative Filtering"
   ]
  },
  {
   "cell_type": "code",
   "execution_count": 46,
   "metadata": {},
   "outputs": [
    {
     "name": "stderr",
     "output_type": "stream",
     "text": [
      "100%|██████████| 20.0/20 [00:03<00:00,  7.19it/s]\n"
     ]
    }
   ],
   "source": [
    "data=movielens\n",
    "\n",
    "\n",
    "sparse_item_user = sparse.csr_matrix((data['rating'].astype(float), (data['movieId'], data['userId'])))\n",
    "sparse_user_item = sparse.csr_matrix((data['rating'].astype(float), (data['userId'], data['movieId'])))\n",
    "\n",
    "# Initialize the als model and fit it using the sparse item-user matrix\n",
    "model = implicit.als.AlternatingLeastSquares(factors=20, regularization=0.1, iterations=20)\n",
    "\n",
    "# Calculate the confidence by multiplying it by our alpha value.\n",
    "alpha_val = 15\n",
    "data_conf = (sparse_item_user * alpha_val).astype('double')\n",
    "\n",
    "model.fit(data_conf)"
   ]
  },
  {
   "cell_type": "markdown",
   "metadata": {},
   "source": [
    "#### Find similar items to 'Sahwshank Redemption'"
   ]
  },
  {
   "cell_type": "code",
   "execution_count": 48,
   "metadata": {},
   "outputs": [
    {
     "data": {
      "text/html": [
       "<div>\n",
       "<style scoped>\n",
       "    .dataframe tbody tr th:only-of-type {\n",
       "        vertical-align: middle;\n",
       "    }\n",
       "\n",
       "    .dataframe tbody tr th {\n",
       "        vertical-align: top;\n",
       "    }\n",
       "\n",
       "    .dataframe thead th {\n",
       "        text-align: right;\n",
       "    }\n",
       "</style>\n",
       "<table border=\"1\" class=\"dataframe\">\n",
       "  <thead>\n",
       "    <tr style=\"text-align: right;\">\n",
       "      <th></th>\n",
       "      <th>MovieId</th>\n",
       "      <th>Score</th>\n",
       "      <th>Title</th>\n",
       "    </tr>\n",
       "  </thead>\n",
       "  <tbody>\n",
       "    <tr>\n",
       "      <th>0</th>\n",
       "      <td>318</td>\n",
       "      <td>0.310394</td>\n",
       "      <td>Shawshank Redemption, The (1994)</td>\n",
       "    </tr>\n",
       "    <tr>\n",
       "      <th>1</th>\n",
       "      <td>527</td>\n",
       "      <td>0.309371</td>\n",
       "      <td>Schindler's List (1993)</td>\n",
       "    </tr>\n",
       "    <tr>\n",
       "      <th>2</th>\n",
       "      <td>593</td>\n",
       "      <td>0.308900</td>\n",
       "      <td>Silence of the Lambs, The (1991)</td>\n",
       "    </tr>\n",
       "    <tr>\n",
       "      <th>3</th>\n",
       "      <td>296</td>\n",
       "      <td>0.308599</td>\n",
       "      <td>Pulp Fiction (1994)</td>\n",
       "    </tr>\n",
       "    <tr>\n",
       "      <th>4</th>\n",
       "      <td>50</td>\n",
       "      <td>0.308179</td>\n",
       "      <td>Usual Suspects, The (1995)</td>\n",
       "    </tr>\n",
       "    <tr>\n",
       "      <th>5</th>\n",
       "      <td>356</td>\n",
       "      <td>0.307320</td>\n",
       "      <td>Forrest Gump (1994)</td>\n",
       "    </tr>\n",
       "    <tr>\n",
       "      <th>6</th>\n",
       "      <td>110</td>\n",
       "      <td>0.307277</td>\n",
       "      <td>Braveheart (1995)</td>\n",
       "    </tr>\n",
       "    <tr>\n",
       "      <th>7</th>\n",
       "      <td>47</td>\n",
       "      <td>0.306583</td>\n",
       "      <td>Seven (a.k.a. Se7en) (1995)</td>\n",
       "    </tr>\n",
       "    <tr>\n",
       "      <th>8</th>\n",
       "      <td>480</td>\n",
       "      <td>0.305257</td>\n",
       "      <td>Jurassic Park (1993)</td>\n",
       "    </tr>\n",
       "    <tr>\n",
       "      <th>9</th>\n",
       "      <td>589</td>\n",
       "      <td>0.303026</td>\n",
       "      <td>Terminator 2: Judgment Day (1991)</td>\n",
       "    </tr>\n",
       "  </tbody>\n",
       "</table>\n",
       "</div>"
      ],
      "text/plain": [
       "   MovieId     Score                              Title\n",
       "0      318  0.310394   Shawshank Redemption, The (1994)\n",
       "1      527  0.309371            Schindler's List (1993)\n",
       "2      593  0.308900   Silence of the Lambs, The (1991)\n",
       "3      296  0.308599                Pulp Fiction (1994)\n",
       "4       50  0.308179         Usual Suspects, The (1995)\n",
       "5      356  0.307320                Forrest Gump (1994)\n",
       "6      110  0.307277                  Braveheart (1995)\n",
       "7       47  0.306583        Seven (a.k.a. Se7en) (1995)\n",
       "8      480  0.305257               Jurassic Park (1993)\n",
       "9      589  0.303026  Terminator 2: Judgment Day (1991)"
      ]
     },
     "execution_count": 48,
     "metadata": {},
     "output_type": "execute_result"
    }
   ],
   "source": [
    "#---------------------\n",
    "# FIND SIMILAR ITEMS\n",
    "#---------------------\n",
    "item_id = 318 #Shawshank Redemption\n",
    "n_similar = 10\n",
    "\n",
    "# Use implicit to get similar items.\n",
    "similar = model.similar_items(item_id, n_similar)\n",
    "\n",
    "a=[]\n",
    "b=[]\n",
    "c=[]\n",
    "# Print the names of our most similar movies\n",
    "for item in similar:\n",
    "    idx, score = item\n",
    "    a.append(data.movieId.loc[data.movieId == idx].iloc[0])\n",
    "    b.append(score)\n",
    "    recommendations = pd.DataFrame({'MovieId': a, 'Score': b})\n",
    "\n",
    "for i in a:\n",
    "    c.append(r1[r1.movieId==i].title.iloc[0])\n",
    "recommendations['Title']=c\n",
    "recommendations"
   ]
  },
  {
   "cell_type": "markdown",
   "metadata": {},
   "source": [
    "### Find similar items to 'Pulp Fiction'"
   ]
  },
  {
   "cell_type": "code",
   "execution_count": 49,
   "metadata": {},
   "outputs": [
    {
     "data": {
      "text/html": [
       "<div>\n",
       "<style scoped>\n",
       "    .dataframe tbody tr th:only-of-type {\n",
       "        vertical-align: middle;\n",
       "    }\n",
       "\n",
       "    .dataframe tbody tr th {\n",
       "        vertical-align: top;\n",
       "    }\n",
       "\n",
       "    .dataframe thead th {\n",
       "        text-align: right;\n",
       "    }\n",
       "</style>\n",
       "<table border=\"1\" class=\"dataframe\">\n",
       "  <thead>\n",
       "    <tr style=\"text-align: right;\">\n",
       "      <th></th>\n",
       "      <th>MovieId</th>\n",
       "      <th>Score</th>\n",
       "      <th>Title</th>\n",
       "    </tr>\n",
       "  </thead>\n",
       "  <tbody>\n",
       "    <tr>\n",
       "      <th>0</th>\n",
       "      <td>296</td>\n",
       "      <td>0.306645</td>\n",
       "      <td>Pulp Fiction (1994)</td>\n",
       "    </tr>\n",
       "    <tr>\n",
       "      <th>1</th>\n",
       "      <td>50</td>\n",
       "      <td>0.305682</td>\n",
       "      <td>Usual Suspects, The (1995)</td>\n",
       "    </tr>\n",
       "    <tr>\n",
       "      <th>2</th>\n",
       "      <td>593</td>\n",
       "      <td>0.305319</td>\n",
       "      <td>Silence of the Lambs, The (1991)</td>\n",
       "    </tr>\n",
       "    <tr>\n",
       "      <th>3</th>\n",
       "      <td>318</td>\n",
       "      <td>0.304871</td>\n",
       "      <td>Shawshank Redemption, The (1994)</td>\n",
       "    </tr>\n",
       "    <tr>\n",
       "      <th>4</th>\n",
       "      <td>527</td>\n",
       "      <td>0.304766</td>\n",
       "      <td>Schindler's List (1993)</td>\n",
       "    </tr>\n",
       "    <tr>\n",
       "      <th>5</th>\n",
       "      <td>47</td>\n",
       "      <td>0.304278</td>\n",
       "      <td>Seven (a.k.a. Se7en) (1995)</td>\n",
       "    </tr>\n",
       "    <tr>\n",
       "      <th>6</th>\n",
       "      <td>110</td>\n",
       "      <td>0.303050</td>\n",
       "      <td>Braveheart (1995)</td>\n",
       "    </tr>\n",
       "    <tr>\n",
       "      <th>7</th>\n",
       "      <td>356</td>\n",
       "      <td>0.302907</td>\n",
       "      <td>Forrest Gump (1994)</td>\n",
       "    </tr>\n",
       "    <tr>\n",
       "      <th>8</th>\n",
       "      <td>480</td>\n",
       "      <td>0.302016</td>\n",
       "      <td>Jurassic Park (1993)</td>\n",
       "    </tr>\n",
       "    <tr>\n",
       "      <th>9</th>\n",
       "      <td>589</td>\n",
       "      <td>0.300631</td>\n",
       "      <td>Terminator 2: Judgment Day (1991)</td>\n",
       "    </tr>\n",
       "  </tbody>\n",
       "</table>\n",
       "</div>"
      ],
      "text/plain": [
       "   MovieId     Score                              Title\n",
       "0      296  0.306645                Pulp Fiction (1994)\n",
       "1       50  0.305682         Usual Suspects, The (1995)\n",
       "2      593  0.305319   Silence of the Lambs, The (1991)\n",
       "3      318  0.304871   Shawshank Redemption, The (1994)\n",
       "4      527  0.304766            Schindler's List (1993)\n",
       "5       47  0.304278        Seven (a.k.a. Se7en) (1995)\n",
       "6      110  0.303050                  Braveheart (1995)\n",
       "7      356  0.302907                Forrest Gump (1994)\n",
       "8      480  0.302016               Jurassic Park (1993)\n",
       "9      589  0.300631  Terminator 2: Judgment Day (1991)"
      ]
     },
     "execution_count": 49,
     "metadata": {},
     "output_type": "execute_result"
    }
   ],
   "source": [
    "#---------------------\n",
    "# FIND SIMILAR ITEMS\n",
    "#---------------------\n",
    "item_id = 296 #Pulp fiction\n",
    "n_similar = 10\n",
    "\n",
    "# Use implicit to get similar items.\n",
    "similar = model.similar_items(item_id, n_similar)\n",
    "\n",
    "a=[]\n",
    "b=[]\n",
    "c=[]\n",
    "# Print the names of our most similar movies\n",
    "for item in similar:\n",
    "    idx, score = item\n",
    "    a.append(data.movieId.loc[data.movieId == idx].iloc[0])\n",
    "    b.append(score)\n",
    "    recommendations = pd.DataFrame({'MovieId': a, 'Score': b})\n",
    "\n",
    "for i in a:\n",
    "    c.append(r1[r1.movieId==i].title.iloc[0])\n",
    "recommendations['Title']=c\n",
    "recommendations"
   ]
  },
  {
   "cell_type": "markdown",
   "metadata": {},
   "source": [
    "### Recommend movies to user_id=1"
   ]
  },
  {
   "cell_type": "code",
   "execution_count": 50,
   "metadata": {},
   "outputs": [
    {
     "data": {
      "text/html": [
       "<div>\n",
       "<style scoped>\n",
       "    .dataframe tbody tr th:only-of-type {\n",
       "        vertical-align: middle;\n",
       "    }\n",
       "\n",
       "    .dataframe tbody tr th {\n",
       "        vertical-align: top;\n",
       "    }\n",
       "\n",
       "    .dataframe thead th {\n",
       "        text-align: right;\n",
       "    }\n",
       "</style>\n",
       "<table border=\"1\" class=\"dataframe\">\n",
       "  <thead>\n",
       "    <tr style=\"text-align: right;\">\n",
       "      <th></th>\n",
       "      <th>MovieId</th>\n",
       "      <th>Score</th>\n",
       "      <th>Title</th>\n",
       "    </tr>\n",
       "  </thead>\n",
       "  <tbody>\n",
       "    <tr>\n",
       "      <th>0</th>\n",
       "      <td>1274</td>\n",
       "      <td>1.341337</td>\n",
       "      <td>Akira (1988)</td>\n",
       "    </tr>\n",
       "    <tr>\n",
       "      <th>1</th>\n",
       "      <td>3703</td>\n",
       "      <td>1.298482</td>\n",
       "      <td>Road Warrior, The (Mad Max 2) (1981)</td>\n",
       "    </tr>\n",
       "    <tr>\n",
       "      <th>2</th>\n",
       "      <td>3508</td>\n",
       "      <td>1.277379</td>\n",
       "      <td>Outlaw Josey Wales, The (1976)</td>\n",
       "    </tr>\n",
       "    <tr>\n",
       "      <th>3</th>\n",
       "      <td>3681</td>\n",
       "      <td>1.274659</td>\n",
       "      <td>For a Few Dollars More (Per qualche dollaro in...</td>\n",
       "    </tr>\n",
       "    <tr>\n",
       "      <th>4</th>\n",
       "      <td>2105</td>\n",
       "      <td>1.272464</td>\n",
       "      <td>Tron (1982)</td>\n",
       "    </tr>\n",
       "    <tr>\n",
       "      <th>5</th>\n",
       "      <td>1748</td>\n",
       "      <td>1.266311</td>\n",
       "      <td>Dark City (1998)</td>\n",
       "    </tr>\n",
       "    <tr>\n",
       "      <th>6</th>\n",
       "      <td>2788</td>\n",
       "      <td>1.213520</td>\n",
       "      <td>Monty Python's And Now for Something Completel...</td>\n",
       "    </tr>\n",
       "    <tr>\n",
       "      <th>7</th>\n",
       "      <td>2951</td>\n",
       "      <td>1.205464</td>\n",
       "      <td>Fistful of Dollars, A (Per un pugno di dollari...</td>\n",
       "    </tr>\n",
       "    <tr>\n",
       "      <th>8</th>\n",
       "      <td>3702</td>\n",
       "      <td>1.189130</td>\n",
       "      <td>Mad Max (1979)</td>\n",
       "    </tr>\n",
       "    <tr>\n",
       "      <th>9</th>\n",
       "      <td>2657</td>\n",
       "      <td>1.173790</td>\n",
       "      <td>Rocky Horror Picture Show, The (1975)</td>\n",
       "    </tr>\n",
       "  </tbody>\n",
       "</table>\n",
       "</div>"
      ],
      "text/plain": [
       "   MovieId     Score                                              Title\n",
       "0     1274  1.341337                                       Akira (1988)\n",
       "1     3703  1.298482               Road Warrior, The (Mad Max 2) (1981)\n",
       "2     3508  1.277379                     Outlaw Josey Wales, The (1976)\n",
       "3     3681  1.274659  For a Few Dollars More (Per qualche dollaro in...\n",
       "4     2105  1.272464                                        Tron (1982)\n",
       "5     1748  1.266311                                   Dark City (1998)\n",
       "6     2788  1.213520  Monty Python's And Now for Something Completel...\n",
       "7     2951  1.205464  Fistful of Dollars, A (Per un pugno di dollari...\n",
       "8     3702  1.189130                                     Mad Max (1979)\n",
       "9     2657  1.173790              Rocky Horror Picture Show, The (1975)"
      ]
     },
     "execution_count": 50,
     "metadata": {},
     "output_type": "execute_result"
    }
   ],
   "source": [
    "#------------------------------\n",
    "# CREATE USER RECOMMENDATIONS\n",
    "#------------------------------\n",
    "\n",
    "# Create recommendations for user with id 1\n",
    "user_id =1\n",
    "\n",
    "# Use the implicit recommender.\n",
    "recommended = model.recommend(user_id, sparse_user_item)\n",
    "\n",
    "movies = []\n",
    "scores = []\n",
    "c=[]\n",
    "\n",
    "for item in recommended:\n",
    "    idx, score=item\n",
    "    movies.append(data.movieId.loc[data.movieId==idx].iloc[0])\n",
    "    scores.append(score)\n",
    "\n",
    "\n",
    "recommendations = pd.DataFrame({'MovieId': movies, 'Score': scores})\n",
    "\n",
    "for i in movies:\n",
    "    c.append(r1[r1.movieId==i].title.iloc[0])\n",
    "recommendations['Title']=c\n",
    "recommendations"
   ]
  },
  {
   "cell_type": "markdown",
   "metadata": {},
   "source": [
    "### Recommend movies to user_id=903"
   ]
  },
  {
   "cell_type": "code",
   "execution_count": 51,
   "metadata": {},
   "outputs": [
    {
     "data": {
      "text/html": [
       "<div>\n",
       "<style scoped>\n",
       "    .dataframe tbody tr th:only-of-type {\n",
       "        vertical-align: middle;\n",
       "    }\n",
       "\n",
       "    .dataframe tbody tr th {\n",
       "        vertical-align: top;\n",
       "    }\n",
       "\n",
       "    .dataframe thead th {\n",
       "        text-align: right;\n",
       "    }\n",
       "</style>\n",
       "<table border=\"1\" class=\"dataframe\">\n",
       "  <thead>\n",
       "    <tr style=\"text-align: right;\">\n",
       "      <th></th>\n",
       "      <th>MovieId</th>\n",
       "      <th>Score</th>\n",
       "      <th>Title</th>\n",
       "    </tr>\n",
       "  </thead>\n",
       "  <tbody>\n",
       "    <tr>\n",
       "      <th>0</th>\n",
       "      <td>2594</td>\n",
       "      <td>1.369689</td>\n",
       "      <td>Open Your Eyes (Abre los ojos) (1997)</td>\n",
       "    </tr>\n",
       "    <tr>\n",
       "      <th>1</th>\n",
       "      <td>1938</td>\n",
       "      <td>1.316449</td>\n",
       "      <td>Lost Weekend, The (1945)</td>\n",
       "    </tr>\n",
       "    <tr>\n",
       "      <th>2</th>\n",
       "      <td>2025</td>\n",
       "      <td>1.265688</td>\n",
       "      <td>Lolita (1997)</td>\n",
       "    </tr>\n",
       "    <tr>\n",
       "      <th>3</th>\n",
       "      <td>213</td>\n",
       "      <td>1.247192</td>\n",
       "      <td>Burnt by the Sun (Utomlyonnye solntsem) (1994)</td>\n",
       "    </tr>\n",
       "    <tr>\n",
       "      <th>4</th>\n",
       "      <td>2874</td>\n",
       "      <td>1.231940</td>\n",
       "      <td>Pajama Game, The (1957)</td>\n",
       "    </tr>\n",
       "    <tr>\n",
       "      <th>5</th>\n",
       "      <td>760</td>\n",
       "      <td>1.229541</td>\n",
       "      <td>Stalingrad (1993)</td>\n",
       "    </tr>\n",
       "    <tr>\n",
       "      <th>6</th>\n",
       "      <td>2940</td>\n",
       "      <td>1.226364</td>\n",
       "      <td>Gilda (1946)</td>\n",
       "    </tr>\n",
       "    <tr>\n",
       "      <th>7</th>\n",
       "      <td>5151</td>\n",
       "      <td>1.220052</td>\n",
       "      <td>40 Days and 40 Nights (2002)</td>\n",
       "    </tr>\n",
       "    <tr>\n",
       "      <th>8</th>\n",
       "      <td>2559</td>\n",
       "      <td>1.191427</td>\n",
       "      <td>King and I, The (1999)</td>\n",
       "    </tr>\n",
       "    <tr>\n",
       "      <th>9</th>\n",
       "      <td>2774</td>\n",
       "      <td>1.188486</td>\n",
       "      <td>Better Than Chocolate (1999)</td>\n",
       "    </tr>\n",
       "  </tbody>\n",
       "</table>\n",
       "</div>"
      ],
      "text/plain": [
       "   MovieId     Score                                           Title\n",
       "0     2594  1.369689           Open Your Eyes (Abre los ojos) (1997)\n",
       "1     1938  1.316449                        Lost Weekend, The (1945)\n",
       "2     2025  1.265688                                   Lolita (1997)\n",
       "3      213  1.247192  Burnt by the Sun (Utomlyonnye solntsem) (1994)\n",
       "4     2874  1.231940                         Pajama Game, The (1957)\n",
       "5      760  1.229541                               Stalingrad (1993)\n",
       "6     2940  1.226364                                    Gilda (1946)\n",
       "7     5151  1.220052                    40 Days and 40 Nights (2002)\n",
       "8     2559  1.191427                          King and I, The (1999)\n",
       "9     2774  1.188486                    Better Than Chocolate (1999)"
      ]
     },
     "execution_count": 51,
     "metadata": {},
     "output_type": "execute_result"
    }
   ],
   "source": [
    "#------------------------------\n",
    "# CREATE USER RECOMMENDATIONS\n",
    "#------------------------------\n",
    "\n",
    "# Create recommendations for user with id 903\n",
    "user_id =903\n",
    "\n",
    "# Use the implicit recommender.\n",
    "recommended = model.recommend(user_id, sparse_user_item)\n",
    "\n",
    "movies = []\n",
    "scores = []\n",
    "c=[]\n",
    "\n",
    "for item in recommended:\n",
    "    idx, score=item\n",
    "    movies.append(data.movieId.loc[data.movieId==idx].iloc[0])\n",
    "    scores.append(score)\n",
    "\n",
    "\n",
    "recommendations = pd.DataFrame({'MovieId': movies, 'Score': scores})\n",
    "\n",
    "for i in movies:\n",
    "    c.append(r1[r1.movieId==i].title.iloc[0])\n",
    "recommendations['Title']=c\n",
    "recommendations"
   ]
  },
  {
   "cell_type": "markdown",
   "metadata": {},
   "source": [
    "\n",
    "# Need work, not finished\n",
    "## 5- Deep Learning for Recommendation with Keras and TensorRec\n",
    "\n",
    "Read this article for more info:\n",
    "https://hackernoon.com/deep-learning-for-recommendation-with-keras-and-tensorrec-2b8935c795d0"
   ]
  },
  {
   "cell_type": "code",
   "execution_count": null,
   "metadata": {},
   "outputs": [],
   "source": [
    "# Build the model with default parameters\n",
    "model = tensorrec.TensorRec()\n",
    "\n",
    "# Generate some dummy data\n",
    "interactions, user_features, item_features = tensorrec.util.generate_dummy_data(\n",
    "    num_users=100,\n",
    "    num_items=150,\n",
    "    interaction_density=.05\n",
    ")\n",
    "\n",
    "# Fit the model for 5 epochs\n",
    "model.fit(interactions, user_features, item_features, epochs=5, verbose=True)\n",
    "\n",
    "# Predict scores and ranks for all users and all items\n",
    "predictions = model.predict(user_features=user_features,\n",
    "                            item_features=item_features)\n",
    "predicted_ranks = model.predict_rank(user_features=user_features,\n",
    "                                     item_features=item_features)\n",
    "\n",
    "# Calculate and print the recall at 10\n",
    "r_at_k = tensorrec.eval.recall_at_k(predicted_ranks, interactions, k=10)\n",
    "print(np.mean(r_at_k))\n"
   ]
  }
 ],
 "metadata": {
  "kernelspec": {
   "display_name": "Python 3",
   "language": "python",
   "name": "python3"
  },
  "language_info": {
   "codemirror_mode": {
    "name": "ipython",
    "version": 3
   },
   "file_extension": ".py",
   "mimetype": "text/x-python",
   "name": "python",
   "nbconvert_exporter": "python",
   "pygments_lexer": "ipython3",
   "version": "3.6.5"
  }
 },
 "nbformat": 4,
 "nbformat_minor": 2
}
